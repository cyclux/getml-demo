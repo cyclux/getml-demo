{
 "cells": [
  {
   "cell_type": "markdown",
   "metadata": {},
   "source": [
    "# IMDb - Predicting actors' gender using getML\n",
    "\n",
    "**Note that due to memory limitations, this notebook will not run on MyBinder.**\n",
    "\n",
    "In this tutorial, we demonstrate how getML can be applied to text fields. In relational databases, text fields are less structured and less standardized than categorical data, making it more difficult to extract useful information from them. Therefore, they are ignored in most data science projects on relational data. However, when using a relational learning tool such as getML, we can easily generate simple features from text fields and leverage the information contained therein.\n",
    "\n",
    "The point of this exercise is not to compete with modern deep-learning-based NLP approaches. The point is to develop an approach by which we can leverage fields in relational databases that would otherwise be ignored.\n",
    "\n",
    "As an example data set, we use the Internet Movie Database, which has been used by previous studies in the relational learning literature. This allows us to benchmark our approach to state-of-the-art algorithms in the relational learning literature. We demonstrate that getML outperforms these state-of-the-art algorithms.\n",
    "\n",
    "Summary:\n",
    "\n",
    "- Prediction type: __Classification model__\n",
    "- Domain: __Entertainment__\n",
    "- Prediction target: __The gender of an actor__ \n",
    "- Population size: __817718__\n",
    "\n",
    "_Author: Dr. Patrick Urbanke_"
   ]
  },
  {
   "cell_type": "markdown",
   "metadata": {},
   "source": [
    " "
   ]
  },
  {
   "cell_type": "markdown",
   "metadata": {},
   "source": [
    "# Background\n",
    "\n",
    "The data set contains about 800,000 actors. The goal is to predict the gender of said actors based on other information we have about them, such as the movies they have participated in and the roles they have played in these movies.\n",
    "\n",
    "It has been downloaded from the [CTU Prague relational learning repository](https://relational.fit.cvut.cz/dataset/IMDb) (Motl and Schulte, 2015)."
   ]
  },
  {
   "cell_type": "markdown",
   "metadata": {},
   "source": [
    " "
   ]
  },
  {
   "cell_type": "markdown",
   "metadata": {},
   "source": [
    "### A web frontend for getML\n",
    "\n",
    "The getML monitor is a frontend built to support your work with getML. The getML monitor displays information such as the imported data frames, trained pipelines and allows easy data and feature exploration. You can launch the getML monitor [here](http://localhost:1709/listprojects/actors/)."
   ]
  },
  {
   "cell_type": "markdown",
   "metadata": {},
   "source": [
    " "
   ]
  },
  {
   "cell_type": "markdown",
   "metadata": {},
   "source": [
    "### Where is this running?\n",
    "\n",
    "Your getML live session is running inside a docker container on [mybinder.org](https://mybinder.org/), a service built by the Jupyter community and funded by Google Cloud, OVH, GESIS Notebooks and the Turing Institute. As it is a free service, this session will shut down after 10 minutes of inactivity."
   ]
  },
  {
   "cell_type": "markdown",
   "metadata": {},
   "source": [
    " "
   ]
  },
  {
   "cell_type": "markdown",
   "metadata": {},
   "source": [
    "# Analysis"
   ]
  },
  {
   "cell_type": "markdown",
   "metadata": {},
   "source": [
    "Let's get started with the analysis and set up your session:"
   ]
  },
  {
   "cell_type": "code",
   "execution_count": 1,
   "metadata": {},
   "outputs": [
    {
     "name": "stdout",
     "output_type": "stream",
     "text": [
      "\n",
      "Loading pipelines...\n",
      "[========================================] 100%\n",
      "\n",
      "Connected to project 'imdb'\n"
     ]
    }
   ],
   "source": [
    "import copy\n",
    "import os\n",
    "from urllib import request\n",
    "\n",
    "import numpy as np\n",
    "import pandas as pd\n",
    "from IPython.display import Image\n",
    "import matplotlib.pyplot as plt\n",
    "plt.style.use('seaborn')\n",
    "%matplotlib inline  \n",
    "\n",
    "import getml\n",
    "\n",
    "getml.engine.set_project('imdb')"
   ]
  },
  {
   "cell_type": "markdown",
   "metadata": {},
   "source": [
    "<span id='flags'></span>\n",
    "In the following, we set some flags that affect execution of the notebook:\n",
    "- We don't let the algorithms utilize the information on actors' first names (see [below](#first-names) for an explanation).\n",
    "- Tuning is effective at improving our results, but it takes quite long, so we want to make it optional."
   ]
  },
  {
   "cell_type": "code",
   "execution_count": 2,
   "metadata": {},
   "outputs": [],
   "source": [
    "USE_FIRST_NAMES = False\n",
    "USE_FINE_TUNED = False"
   ]
  },
  {
   "cell_type": "markdown",
   "metadata": {},
   "source": [
    " "
   ]
  },
  {
   "cell_type": "markdown",
   "metadata": {},
   "source": [
    "## 1. Loading data"
   ]
  },
  {
   "cell_type": "markdown",
   "metadata": {},
   "source": [
    "### 1.1 Download from source\n",
    "\n",
    "We begin by downloading the data from the source file:"
   ]
  },
  {
   "cell_type": "code",
   "execution_count": 3,
   "metadata": {},
   "outputs": [
    {
     "data": {
      "text/plain": [
       "Connection(conn_id='default', dbname='imdb_ijs', dialect='mysql', \n",
       "           host='relational.fit.cvut.cz', port=3306)"
      ]
     },
     "execution_count": 3,
     "metadata": {},
     "output_type": "execute_result"
    }
   ],
   "source": [
    "conn = getml.database.connect_mariadb(\n",
    "    host=\"relational.fit.cvut.cz\",\n",
    "    dbname=\"imdb_ijs\",\n",
    "    port=3306,\n",
    "    user=\"guest\",\n",
    "    password=\"relational\"\n",
    ")\n",
    "\n",
    "conn"
   ]
  },
  {
   "cell_type": "code",
   "execution_count": 4,
   "metadata": {},
   "outputs": [],
   "source": [
    "def load_if_needed(name):\n",
    "    \"\"\"\n",
    "    Loads the data from the relational learning\n",
    "    repository, if the data frame has not already\n",
    "    been loaded.\n",
    "    \"\"\"\n",
    "    if not getml.data.exists(name):\n",
    "        data_frame = getml.data.DataFrame.from_db(\n",
    "            name=name,\n",
    "            table_name=name,\n",
    "            conn=conn\n",
    "        )\n",
    "        data_frame.save()\n",
    "    else:\n",
    "        data_frame = getml.data.load_data_frame(name)\n",
    "    return data_frame"
   ]
  },
  {
   "cell_type": "code",
   "execution_count": 5,
   "metadata": {},
   "outputs": [],
   "source": [
    "actors = load_if_needed(\"actors\")\n",
    "roles = load_if_needed(\"roles\")\n",
    "movies = load_if_needed(\"movies\")\n",
    "movies_genres = load_if_needed(\"movies_genres\")"
   ]
  },
  {
   "cell_type": "code",
   "execution_count": 6,
   "metadata": {},
   "outputs": [
    {
     "data": {
      "text/html": [
       "<table class=\"dataframe\"><thead><tr style=\"border-bottom:1pt solid LightGray;\"><th style=\"text-align: left;border-right:1pt solid LightGray;\">Name  </th><th style=\"text-align: right;\">id</th><th style=\"text-align: right;\">first_name</th><th style=\"text-align: right;\">last_name</th><th style=\"text-align: right;\">gender</th></tr><tr><th style=\"text-align: left;border-right:1pt solid LightGray;\">Role  </th><td style=\"text-align: right;\"><i>unused_float</i></td><td style=\"text-align: right;\"><i>unused_string</i></td><td style=\"text-align: right;\"><i>unused_string</i></td><td style=\"text-align: right;\"><i>unused_string</i></td></tr></thead><tbody><tr style=\"border-top:1pt solid LightGray;\"><td style=\"border-right:1pt solid LightGray;\"><b>0</b></td><td>2</td><td>Michael</td><td>'babeepower' Viera</td><td>M</td></tr><tr><td style=\"border-right:1pt solid LightGray;\"><b>1</b></td><td>3</td><td>Eloy</td><td>'Chincheta'</td><td>M</td></tr><tr><td style=\"border-right:1pt solid LightGray;\"><b>2</b></td><td>4</td><td>Dieguito</td><td>'El Cigala'</td><td>M</td></tr><tr><td style=\"border-right:1pt solid LightGray;\"><b>3</b></td><td>5</td><td>Antonio</td><td>'El de Chipiona'</td><td>M</td></tr><tr><td style=\"border-right:1pt solid LightGray;\"><b>4</b></td><td>6</td><td>José</td><td>'El Francés'</td><td>M</td></tr><tr><td style=\"border-right:1pt solid LightGray;\"><b> </b></td><td>...</td><td>...</td><td>...</td><td>...</td></tr><tr><td style=\"border-right:1pt solid LightGray;\"><b>817713</b></td><td>845461</td><td>Herdís</td><td>Þorvaldsdóttir</td><td>F</td></tr><tr><td style=\"border-right:1pt solid LightGray;\"><b>817714</b></td><td>845462</td><td>Katla Margrét</td><td>Þorvaldsdóttir</td><td>F</td></tr><tr><td style=\"border-right:1pt solid LightGray;\"><b>817715</b></td><td>845463</td><td>Lilja Nótt</td><td>Þórarinsdóttir</td><td>F</td></tr><tr><td style=\"border-right:1pt solid LightGray;\"><b>817716</b></td><td>845464</td><td>Hólmfríður</td><td>Þórhallsdóttir</td><td>F</td></tr><tr><td style=\"border-right:1pt solid LightGray;\"><b>817717</b></td><td>845465</td><td>Theódóra</td><td>Þórðardóttir</td><td>F</td></tr></tbody></table><br>817718 rows x 4 columns<br>memory usage: 40.14 MB<br>name: actors<br>type: getml.data.DataFrame<br>url: <a href=\"http://localhost:1709/#/getdataframe/imdb/actors/\" target=\"_blank\">http://localhost:1709/#/getdataframe/imdb/actors/</a>"
      ],
      "text/plain": [
       "Name               id      first_name            last_name          gender   \n",
       "Role     unused_float   unused_string        unused_string   unused_string   \n",
       "0        2              Michael         'babeepower' Viera   M               \n",
       "1        3              Eloy            'Chincheta'          M               \n",
       "2        4              Dieguito        'El Cigala'          M               \n",
       "3        5              Antonio         'El de Chipiona'     M               \n",
       "4        6              José            'El Francés'         M               \n",
       "         ...            ...             ...                  ...             \n",
       "817713   845461         Herdís          Þorvaldsdóttir       F               \n",
       "817714   845462         Katla Margrét   Þorvaldsdóttir       F               \n",
       "817715   845463         Lilja Nótt      Þórarinsdóttir       F               \n",
       "817716   845464         Hólmfríður      Þórhallsdóttir       F               \n",
       "817717   845465         Theódóra        Þórðardóttir         F               \n",
       "\n",
       "817718 rows x 4 columns\n",
       "memory usage: 40.14 MB\n",
       "name: actors\n",
       "type: getml.data.DataFrame\n",
       "url: http://localhost:1709/#/getdataframe/imdb/actors/"
      ]
     },
     "execution_count": 6,
     "metadata": {},
     "output_type": "execute_result"
    }
   ],
   "source": [
    "actors"
   ]
  },
  {
   "cell_type": "code",
   "execution_count": 7,
   "metadata": {},
   "outputs": [
    {
     "data": {
      "text/html": [
       "<table class=\"dataframe\"><thead><tr style=\"border-bottom:1pt solid LightGray;\"><th style=\"text-align: left;border-right:1pt solid LightGray;\">Name   </th><th style=\"text-align: right;\">actor_id</th><th style=\"text-align: right;\">movie_id</th><th style=\"text-align: right;\">role</th></tr><tr><th style=\"text-align: left;border-right:1pt solid LightGray;\">Role   </th><td style=\"text-align: right;\"><i>unused_float</i></td><td style=\"text-align: right;\"><i>unused_float</i></td><td style=\"text-align: right;\"><i>unused_string</i></td></tr></thead><tbody><tr style=\"border-top:1pt solid LightGray;\"><td style=\"border-right:1pt solid LightGray;\"><b>0</b></td><td>2</td><td>280088</td><td>Stevie</td></tr><tr><td style=\"border-right:1pt solid LightGray;\"><b>1</b></td><td>2</td><td>396232</td><td>Various/lyricist</td></tr><tr><td style=\"border-right:1pt solid LightGray;\"><b>2</b></td><td>3</td><td>376687</td><td>Gitano 1</td></tr><tr><td style=\"border-right:1pt solid LightGray;\"><b>3</b></td><td>4</td><td>336265</td><td>El Cigala</td></tr><tr><td style=\"border-right:1pt solid LightGray;\"><b>4</b></td><td>5</td><td>135644</td><td>Himself</td></tr><tr><td style=\"border-right:1pt solid LightGray;\"><b> </b></td><td>...</td><td>...</td><td>...</td></tr><tr><td style=\"border-right:1pt solid LightGray;\"><b>3431961</b></td><td>845461</td><td>137097</td><td>Kata</td></tr><tr><td style=\"border-right:1pt solid LightGray;\"><b>3431962</b></td><td>845462</td><td>208838</td><td>Magga</td></tr><tr><td style=\"border-right:1pt solid LightGray;\"><b>3431963</b></td><td>845463</td><td>870</td><td>Gunna</td></tr><tr><td style=\"border-right:1pt solid LightGray;\"><b>3431964</b></td><td>845464</td><td>378123</td><td>Gudrun</td></tr><tr><td style=\"border-right:1pt solid LightGray;\"><b>3431965</b></td><td>845465</td><td>378123</td><td></td></tr></tbody></table><br>3431966 rows x 3 columns<br>memory usage: 115.29 MB<br>name: roles<br>type: getml.data.DataFrame<br>url: <a href=\"http://localhost:1709/#/getdataframe/imdb/roles/\" target=\"_blank\">http://localhost:1709/#/getdataframe/imdb/roles/</a>"
      ],
      "text/plain": [
       "Name          actor_id       movie_id               role   \n",
       "Role      unused_float   unused_float      unused_string   \n",
       "0         2              280088         Stevie             \n",
       "1         2              396232         Various/lyricist   \n",
       "2         3              376687         Gitano 1           \n",
       "3         4              336265         El Cigala          \n",
       "4         5              135644         Himself            \n",
       "          ...            ...            ...                \n",
       "3431961   845461         137097         Kata               \n",
       "3431962   845462         208838         Magga              \n",
       "3431963   845463         870            Gunna              \n",
       "3431964   845464         378123         Gudrun             \n",
       "3431965   845465         378123                            \n",
       "\n",
       "3431966 rows x 3 columns\n",
       "memory usage: 115.29 MB\n",
       "name: roles\n",
       "type: getml.data.DataFrame\n",
       "url: http://localhost:1709/#/getdataframe/imdb/roles/"
      ]
     },
     "execution_count": 7,
     "metadata": {},
     "output_type": "execute_result"
    }
   ],
   "source": [
    "roles"
   ]
  },
  {
   "cell_type": "code",
   "execution_count": 8,
   "metadata": {},
   "outputs": [
    {
     "data": {
      "text/html": [
       "<table class=\"dataframe\"><thead><tr style=\"border-bottom:1pt solid LightGray;\"><th style=\"text-align: left;border-right:1pt solid LightGray;\">Name  </th><th style=\"text-align: right;\">id</th><th style=\"text-align: right;\">year</th><th style=\"text-align: right;\">rank</th><th style=\"text-align: right;\">name</th></tr><tr><th style=\"text-align: left;border-right:1pt solid LightGray;\">Role  </th><td style=\"text-align: right;\"><i>unused_float</i></td><td style=\"text-align: right;\"><i>unused_float</i></td><td style=\"text-align: right;\"><i>unused_float</i></td><td style=\"text-align: right;\"><i>unused_string</i></td></tr></thead><tbody><tr style=\"border-top:1pt solid LightGray;\"><td style=\"border-right:1pt solid LightGray;\"><b>0</b></td><td>0</td><td>2002</td><td>nan</td><td>#28</td></tr><tr><td style=\"border-right:1pt solid LightGray;\"><b>1</b></td><td>1</td><td>2000</td><td>nan</td><td>#7 Train: An Immigrant Journey, The</td></tr><tr><td style=\"border-right:1pt solid LightGray;\"><b>2</b></td><td>2</td><td>1971</td><td>6.4</td><td>$</td></tr><tr><td style=\"border-right:1pt solid LightGray;\"><b>3</b></td><td>3</td><td>1913</td><td>nan</td><td>$1,000 Reward</td></tr><tr><td style=\"border-right:1pt solid LightGray;\"><b>4</b></td><td>4</td><td>1915</td><td>nan</td><td>$1,000 Reward</td></tr><tr><td style=\"border-right:1pt solid LightGray;\"><b> </b></td><td>...</td><td>...</td><td>...</td><td>...</td></tr><tr><td style=\"border-right:1pt solid LightGray;\"><b>388264</b></td><td>412316</td><td>1991</td><td>nan</td><td>\"zem blch krlu\"</td></tr><tr><td style=\"border-right:1pt solid LightGray;\"><b>388265</b></td><td>412317</td><td>1995</td><td>nan</td><td>\"rgammk\"</td></tr><tr><td style=\"border-right:1pt solid LightGray;\"><b>388266</b></td><td>412318</td><td>2002</td><td>nan</td><td>\"zgnm Leyla\"</td></tr><tr><td style=\"border-right:1pt solid LightGray;\"><b>388267</b></td><td>412319</td><td>1983</td><td>nan</td><td>\" Istanbul\"</td></tr><tr><td style=\"border-right:1pt solid LightGray;\"><b>388268</b></td><td>412320</td><td>1958</td><td>nan</td><td>\"sterreich\"</td></tr></tbody></table><br>388269 rows x 4 columns<br>memory usage: 19.92 MB<br>name: movies<br>type: getml.data.DataFrame<br>url: <a href=\"http://localhost:1709/#/getdataframe/imdb/movies/\" target=\"_blank\">http://localhost:1709/#/getdataframe/imdb/movies/</a>"
      ],
      "text/plain": [
       "Name               id           year           rank                                  name   \n",
       "Role     unused_float   unused_float   unused_float                         unused_string   \n",
       "0        0              2002           nan            #28                                   \n",
       "1        1              2000           nan            #7 Train: An Immigrant Journey, The   \n",
       "2        2              1971           6.4            $                                     \n",
       "3        3              1913           nan            $1,000 Reward                         \n",
       "4        4              1915           nan            $1,000 Reward                         \n",
       "         ...            ...            ...            ...                                   \n",
       "388264   412316         1991           nan            \"zem blch krlu\"                       \n",
       "388265   412317         1995           nan            \"rgammk\"                              \n",
       "388266   412318         2002           nan            \"zgnm Leyla\"                          \n",
       "388267   412319         1983           nan            \" Istanbul\"                           \n",
       "388268   412320         1958           nan            \"sterreich\"                           \n",
       "\n",
       "388269 rows x 4 columns\n",
       "memory usage: 19.92 MB\n",
       "name: movies\n",
       "type: getml.data.DataFrame\n",
       "url: http://localhost:1709/#/getdataframe/imdb/movies/"
      ]
     },
     "execution_count": 8,
     "metadata": {},
     "output_type": "execute_result"
    }
   ],
   "source": [
    "movies"
   ]
  },
  {
   "cell_type": "code",
   "execution_count": 9,
   "metadata": {},
   "outputs": [
    {
     "data": {
      "text/html": [
       "<table class=\"dataframe\"><thead><tr style=\"border-bottom:1pt solid LightGray;\"><th style=\"text-align: left;border-right:1pt solid LightGray;\">Name  </th><th style=\"text-align: right;\">movie_id</th><th style=\"text-align: right;\">genre</th></tr><tr><th style=\"text-align: left;border-right:1pt solid LightGray;\">Role  </th><td style=\"text-align: right;\"><i>unused_float</i></td><td style=\"text-align: right;\"><i>unused_string</i></td></tr></thead><tbody><tr style=\"border-top:1pt solid LightGray;\"><td style=\"border-right:1pt solid LightGray;\"><b>0</b></td><td>1</td><td>Documentary</td></tr><tr><td style=\"border-right:1pt solid LightGray;\"><b>1</b></td><td>1</td><td>Short</td></tr><tr><td style=\"border-right:1pt solid LightGray;\"><b>2</b></td><td>2</td><td>Comedy</td></tr><tr><td style=\"border-right:1pt solid LightGray;\"><b>3</b></td><td>2</td><td>Crime</td></tr><tr><td style=\"border-right:1pt solid LightGray;\"><b>4</b></td><td>5</td><td>Western</td></tr><tr><td style=\"border-right:1pt solid LightGray;\"><b> </b></td><td>...</td><td>...</td></tr><tr><td style=\"border-right:1pt solid LightGray;\"><b>395114</b></td><td>378612</td><td>Adventure</td></tr><tr><td style=\"border-right:1pt solid LightGray;\"><b>395115</b></td><td>378612</td><td>Drama</td></tr><tr><td style=\"border-right:1pt solid LightGray;\"><b>395116</b></td><td>378613</td><td>Comedy</td></tr><tr><td style=\"border-right:1pt solid LightGray;\"><b>395117</b></td><td>378613</td><td>Drama</td></tr><tr><td style=\"border-right:1pt solid LightGray;\"><b>395118</b></td><td>378614</td><td>Comedy</td></tr></tbody></table><br>395119 rows x 2 columns<br>memory usage: 9.24 MB<br>name: movies_genres<br>type: getml.data.DataFrame<br>url: <a href=\"http://localhost:1709/#/getdataframe/imdb/movies_genres/\" target=\"_blank\">http://localhost:1709/#/getdataframe/imdb/movies_genres/</a>"
      ],
      "text/plain": [
       "Name         movie_id           genre   \n",
       "Role     unused_float   unused_string   \n",
       "0        1              Documentary     \n",
       "1        1              Short           \n",
       "2        2              Comedy          \n",
       "3        2              Crime           \n",
       "4        5              Western         \n",
       "         ...            ...             \n",
       "395114   378612         Adventure       \n",
       "395115   378612         Drama           \n",
       "395116   378613         Comedy          \n",
       "395117   378613         Drama           \n",
       "395118   378614         Comedy          \n",
       "\n",
       "395119 rows x 2 columns\n",
       "memory usage: 9.24 MB\n",
       "name: movies_genres\n",
       "type: getml.data.DataFrame\n",
       "url: http://localhost:1709/#/getdataframe/imdb/movies_genres/"
      ]
     },
     "execution_count": 9,
     "metadata": {},
     "output_type": "execute_result"
    }
   ],
   "source": [
    "movies_genres"
   ]
  },
  {
   "cell_type": "markdown",
   "metadata": {},
   "source": [
    " "
   ]
  },
  {
   "cell_type": "markdown",
   "metadata": {},
   "source": [
    "### 1.2 Prepare data for getML"
   ]
  },
  {
   "cell_type": "markdown",
   "metadata": {},
   "source": [
    " "
   ]
  },
  {
   "cell_type": "markdown",
   "metadata": {},
   "source": [
    "getML requires that we define *roles* for each of the columns."
   ]
  },
  {
   "cell_type": "code",
   "execution_count": 10,
   "metadata": {},
   "outputs": [],
   "source": [
    "actors[\"target\"] = (actors.gender == 'F')\n",
    "actors.set_role(\"id\", getml.data.roles.join_key)\n",
    "actors.set_role(\"target\", getml.data.roles.target)"
   ]
  },
  {
   "cell_type": "markdown",
   "metadata": {},
   "source": [
    "<span id='first-names'></span>\n",
    "The benchmark studies do not state clearly, whether it is fair game to use the first names of the actors. Using the first names, we can easily increase the predictive accuracy to above 90%. However, when doing so the problem basically becomes a first name identification problem rather than a relational learning problem. This would undermine the point of this notebook: Showcase relational learning. Therefore, our assumption is that using the first names is not allowed. Feel free to set this flag [above](#flags) to see how well getML incoporates such starightforward information into its feature logic."
   ]
  },
  {
   "cell_type": "code",
   "execution_count": 11,
   "metadata": {},
   "outputs": [
    {
     "data": {
      "text/html": [
       "<table class=\"dataframe\"><thead><tr style=\"border-bottom:1pt solid LightGray;\"><th style=\"text-align: left;border-right:1pt solid LightGray;\">Name  </th><th style=\"text-align: right;\">id</th><th style=\"text-align: right;\">target</th><th style=\"text-align: right;\">first_name</th><th style=\"text-align: right;\">last_name</th><th style=\"text-align: right;\">gender</th></tr><tr><th style=\"text-align: left;border-right:1pt solid LightGray;\">Role  </th><td style=\"text-align: right;\"><i>join_key</i></td><td style=\"text-align: right;\"><i>target</i></td><td style=\"text-align: right;\"><i>unused_string</i></td><td style=\"text-align: right;\"><i>unused_string</i></td><td style=\"text-align: right;\"><i>unused_string</i></td></tr></thead><tbody><tr style=\"border-top:1pt solid LightGray;\"><td style=\"border-right:1pt solid LightGray;\"><b>0</b></td><td>2</td><td>0</td><td>Michael</td><td>'babeepower' Viera</td><td>M</td></tr><tr><td style=\"border-right:1pt solid LightGray;\"><b>1</b></td><td>3</td><td>0</td><td>Eloy</td><td>'Chincheta'</td><td>M</td></tr><tr><td style=\"border-right:1pt solid LightGray;\"><b>2</b></td><td>4</td><td>0</td><td>Dieguito</td><td>'El Cigala'</td><td>M</td></tr><tr><td style=\"border-right:1pt solid LightGray;\"><b>3</b></td><td>5</td><td>0</td><td>Antonio</td><td>'El de Chipiona'</td><td>M</td></tr><tr><td style=\"border-right:1pt solid LightGray;\"><b>4</b></td><td>6</td><td>0</td><td>José</td><td>'El Francés'</td><td>M</td></tr><tr><td style=\"border-right:1pt solid LightGray;\"><b> </b></td><td>...</td><td>...</td><td>...</td><td>...</td><td>...</td></tr><tr><td style=\"border-right:1pt solid LightGray;\"><b>817713</b></td><td>845461</td><td>1</td><td>Herdís</td><td>Þorvaldsdóttir</td><td>F</td></tr><tr><td style=\"border-right:1pt solid LightGray;\"><b>817714</b></td><td>845462</td><td>1</td><td>Katla Margrét</td><td>Þorvaldsdóttir</td><td>F</td></tr><tr><td style=\"border-right:1pt solid LightGray;\"><b>817715</b></td><td>845463</td><td>1</td><td>Lilja Nótt</td><td>Þórarinsdóttir</td><td>F</td></tr><tr><td style=\"border-right:1pt solid LightGray;\"><b>817716</b></td><td>845464</td><td>1</td><td>Hólmfríður</td><td>Þórhallsdóttir</td><td>F</td></tr><tr><td style=\"border-right:1pt solid LightGray;\"><b>817717</b></td><td>845465</td><td>1</td><td>Theódóra</td><td>Þórðardóttir</td><td>F</td></tr></tbody></table><br>817718 rows x 5 columns<br>memory usage: 43.42 MB<br>name: actors<br>type: getml.data.DataFrame<br>url: <a href=\"http://localhost:1709/#/getdataframe/imdb/actors/\" target=\"_blank\">http://localhost:1709/#/getdataframe/imdb/actors/</a>"
      ],
      "text/plain": [
       "Name           id   target      first_name            last_name          gender   \n",
       "Role     join_key   target   unused_string        unused_string   unused_string   \n",
       "0        2          0        Michael         'babeepower' Viera   M               \n",
       "1        3          0        Eloy            'Chincheta'          M               \n",
       "2        4          0        Dieguito        'El Cigala'          M               \n",
       "3        5          0        Antonio         'El de Chipiona'     M               \n",
       "4        6          0        José            'El Francés'         M               \n",
       "         ...        ...      ...             ...                  ...             \n",
       "817713   845461     1        Herdís          Þorvaldsdóttir       F               \n",
       "817714   845462     1        Katla Margrét   Þorvaldsdóttir       F               \n",
       "817715   845463     1        Lilja Nótt      Þórarinsdóttir       F               \n",
       "817716   845464     1        Hólmfríður      Þórhallsdóttir       F               \n",
       "817717   845465     1        Theódóra        Þórðardóttir         F               \n",
       "\n",
       "817718 rows x 5 columns\n",
       "memory usage: 43.42 MB\n",
       "name: actors\n",
       "type: getml.data.DataFrame\n",
       "url: http://localhost:1709/#/getdataframe/imdb/actors/"
      ]
     },
     "execution_count": 11,
     "metadata": {},
     "output_type": "execute_result"
    }
   ],
   "source": [
    "if USE_FIRST_NAMES:\n",
    "    actors.set_role(\"first_name\", getml.data.roles.text)\n",
    "actors"
   ]
  },
  {
   "cell_type": "code",
   "execution_count": 12,
   "metadata": {},
   "outputs": [
    {
     "data": {
      "text/html": [
       "<table class=\"dataframe\"><thead><tr style=\"border-bottom:1pt solid LightGray;\"><th style=\"text-align: left;border-right:1pt solid LightGray;\">Name   </th><th style=\"text-align: right;\">actor_id</th><th style=\"text-align: right;\">movie_id</th><th style=\"text-align: right;\">role</th></tr><tr><th style=\"text-align: left;border-right:1pt solid LightGray;\">Role   </th><td style=\"text-align: right;\"><i>join_key</i></td><td style=\"text-align: right;\"><i>join_key</i></td><td style=\"text-align: right;\"><i>text</i></td></tr></thead><tbody><tr style=\"border-top:1pt solid LightGray;\"><td style=\"border-right:1pt solid LightGray;\"><b>0</b></td><td>2</td><td>280088</td><td>Stevie</td></tr><tr><td style=\"border-right:1pt solid LightGray;\"><b>1</b></td><td>2</td><td>396232</td><td>Various/lyricist</td></tr><tr><td style=\"border-right:1pt solid LightGray;\"><b>2</b></td><td>3</td><td>376687</td><td>Gitano 1</td></tr><tr><td style=\"border-right:1pt solid LightGray;\"><b>3</b></td><td>4</td><td>336265</td><td>El Cigala</td></tr><tr><td style=\"border-right:1pt solid LightGray;\"><b>4</b></td><td>5</td><td>135644</td><td>Himself</td></tr><tr><td style=\"border-right:1pt solid LightGray;\"><b> </b></td><td>...</td><td>...</td><td>...</td></tr><tr><td style=\"border-right:1pt solid LightGray;\"><b>3431961</b></td><td>845461</td><td>137097</td><td>Kata</td></tr><tr><td style=\"border-right:1pt solid LightGray;\"><b>3431962</b></td><td>845462</td><td>208838</td><td>Magga</td></tr><tr><td style=\"border-right:1pt solid LightGray;\"><b>3431963</b></td><td>845463</td><td>870</td><td>Gunna</td></tr><tr><td style=\"border-right:1pt solid LightGray;\"><b>3431964</b></td><td>845464</td><td>378123</td><td>Gudrun</td></tr><tr><td style=\"border-right:1pt solid LightGray;\"><b>3431965</b></td><td>845465</td><td>378123</td><td></td></tr></tbody></table><br>3431966 rows x 3 columns<br>memory usage: 87.84 MB<br>name: roles<br>type: getml.data.DataFrame<br>url: <a href=\"http://localhost:1709/#/getdataframe/imdb/roles/\" target=\"_blank\">http://localhost:1709/#/getdataframe/imdb/roles/</a>"
      ],
      "text/plain": [
       "Name      actor_id   movie_id               role   \n",
       "Role      join_key   join_key               text   \n",
       "0         2          280088     Stevie             \n",
       "1         2          396232     Various/lyricist   \n",
       "2         3          376687     Gitano 1           \n",
       "3         4          336265     El Cigala          \n",
       "4         5          135644     Himself            \n",
       "          ...        ...        ...                \n",
       "3431961   845461     137097     Kata               \n",
       "3431962   845462     208838     Magga              \n",
       "3431963   845463     870        Gunna              \n",
       "3431964   845464     378123     Gudrun             \n",
       "3431965   845465     378123                        \n",
       "\n",
       "3431966 rows x 3 columns\n",
       "memory usage: 87.84 MB\n",
       "name: roles\n",
       "type: getml.data.DataFrame\n",
       "url: http://localhost:1709/#/getdataframe/imdb/roles/"
      ]
     },
     "execution_count": 12,
     "metadata": {},
     "output_type": "execute_result"
    }
   ],
   "source": [
    "roles.set_role([\"actor_id\", \"movie_id\"], getml.data.roles.join_key)\n",
    "roles.set_role(\"role\", getml.data.roles.text)\n",
    "roles"
   ]
  },
  {
   "cell_type": "code",
   "execution_count": 13,
   "metadata": {},
   "outputs": [
    {
     "data": {
      "text/html": [
       "<table class=\"dataframe\"><thead><tr style=\"border-bottom:1pt solid LightGray;\"><th style=\"text-align: left;border-right:1pt solid LightGray;\">Name  </th><th style=\"text-align: right;\">id</th><th style=\"text-align: right;\">year</th><th style=\"text-align: right;\">rank</th><th style=\"text-align: right;\">name</th></tr><tr><th style=\"text-align: left;border-right:1pt solid LightGray;\">Role  </th><td style=\"text-align: right;\"><i>join_key</i></td><td style=\"text-align: right;\"><i>numerical</i></td><td style=\"text-align: right;\"><i>numerical</i></td><td style=\"text-align: right;\"><i>unused_string</i></td></tr></thead><tbody><tr style=\"border-top:1pt solid LightGray;\"><td style=\"border-right:1pt solid LightGray;\"><b>0</b></td><td>0</td><td>2002</td><td>nan</td><td>#28</td></tr><tr><td style=\"border-right:1pt solid LightGray;\"><b>1</b></td><td>1</td><td>2000</td><td>nan</td><td>#7 Train: An Immigrant Journey, The</td></tr><tr><td style=\"border-right:1pt solid LightGray;\"><b>2</b></td><td>2</td><td>1971</td><td>6.4</td><td>$</td></tr><tr><td style=\"border-right:1pt solid LightGray;\"><b>3</b></td><td>3</td><td>1913</td><td>nan</td><td>$1,000 Reward</td></tr><tr><td style=\"border-right:1pt solid LightGray;\"><b>4</b></td><td>4</td><td>1915</td><td>nan</td><td>$1,000 Reward</td></tr><tr><td style=\"border-right:1pt solid LightGray;\"><b> </b></td><td>...</td><td>...</td><td>...</td><td>...</td></tr><tr><td style=\"border-right:1pt solid LightGray;\"><b>388264</b></td><td>412316</td><td>1991</td><td>nan</td><td>\"zem blch krlu\"</td></tr><tr><td style=\"border-right:1pt solid LightGray;\"><b>388265</b></td><td>412317</td><td>1995</td><td>nan</td><td>\"rgammk\"</td></tr><tr><td style=\"border-right:1pt solid LightGray;\"><b>388266</b></td><td>412318</td><td>2002</td><td>nan</td><td>\"zgnm Leyla\"</td></tr><tr><td style=\"border-right:1pt solid LightGray;\"><b>388267</b></td><td>412319</td><td>1983</td><td>nan</td><td>\" Istanbul\"</td></tr><tr><td style=\"border-right:1pt solid LightGray;\"><b>388268</b></td><td>412320</td><td>1958</td><td>nan</td><td>\"sterreich\"</td></tr></tbody></table><br>388269 rows x 4 columns<br>memory usage: 18.37 MB<br>name: movies<br>type: getml.data.DataFrame<br>url: <a href=\"http://localhost:1709/#/getdataframe/imdb/movies/\" target=\"_blank\">http://localhost:1709/#/getdataframe/imdb/movies/</a>"
      ],
      "text/plain": [
       "Name           id        year        rank                                  name   \n",
       "Role     join_key   numerical   numerical                         unused_string   \n",
       "0        0          2002        nan         #28                                   \n",
       "1        1          2000        nan         #7 Train: An Immigrant Journey, The   \n",
       "2        2          1971        6.4         $                                     \n",
       "3        3          1913        nan         $1,000 Reward                         \n",
       "4        4          1915        nan         $1,000 Reward                         \n",
       "         ...        ...         ...         ...                                   \n",
       "388264   412316     1991        nan         \"zem blch krlu\"                       \n",
       "388265   412317     1995        nan         \"rgammk\"                              \n",
       "388266   412318     2002        nan         \"zgnm Leyla\"                          \n",
       "388267   412319     1983        nan         \" Istanbul\"                           \n",
       "388268   412320     1958        nan         \"sterreich\"                           \n",
       "\n",
       "388269 rows x 4 columns\n",
       "memory usage: 18.37 MB\n",
       "name: movies\n",
       "type: getml.data.DataFrame\n",
       "url: http://localhost:1709/#/getdataframe/imdb/movies/"
      ]
     },
     "execution_count": 13,
     "metadata": {},
     "output_type": "execute_result"
    }
   ],
   "source": [
    "movies.set_role(\"id\", getml.data.roles.join_key)\n",
    "movies.set_role([\"year\", \"rank\"], getml.data.roles.numerical)\n",
    "movies"
   ]
  },
  {
   "cell_type": "code",
   "execution_count": 14,
   "metadata": {},
   "outputs": [
    {
     "data": {
      "text/html": [
       "<table class=\"dataframe\"><thead><tr style=\"border-bottom:1pt solid LightGray;\"><th style=\"text-align: left;border-right:1pt solid LightGray;\">Name  </th><th style=\"text-align: right;\">movie_id</th><th style=\"text-align: right;\">genre</th></tr><tr><th style=\"text-align: left;border-right:1pt solid LightGray;\">Role  </th><td style=\"text-align: right;\"><i>join_key</i></td><td style=\"text-align: right;\"><i>categorical</i></td></tr></thead><tbody><tr style=\"border-top:1pt solid LightGray;\"><td style=\"border-right:1pt solid LightGray;\"><b>0</b></td><td>1</td><td>Documentary</td></tr><tr><td style=\"border-right:1pt solid LightGray;\"><b>1</b></td><td>1</td><td>Short</td></tr><tr><td style=\"border-right:1pt solid LightGray;\"><b>2</b></td><td>2</td><td>Comedy</td></tr><tr><td style=\"border-right:1pt solid LightGray;\"><b>3</b></td><td>2</td><td>Crime</td></tr><tr><td style=\"border-right:1pt solid LightGray;\"><b>4</b></td><td>5</td><td>Western</td></tr><tr><td style=\"border-right:1pt solid LightGray;\"><b> </b></td><td>...</td><td>...</td></tr><tr><td style=\"border-right:1pt solid LightGray;\"><b>395114</b></td><td>378612</td><td>Adventure</td></tr><tr><td style=\"border-right:1pt solid LightGray;\"><b>395115</b></td><td>378612</td><td>Drama</td></tr><tr><td style=\"border-right:1pt solid LightGray;\"><b>395116</b></td><td>378613</td><td>Comedy</td></tr><tr><td style=\"border-right:1pt solid LightGray;\"><b>395117</b></td><td>378613</td><td>Drama</td></tr><tr><td style=\"border-right:1pt solid LightGray;\"><b>395118</b></td><td>378614</td><td>Comedy</td></tr></tbody></table><br>395119 rows x 2 columns<br>memory usage: 3.16 MB<br>name: movies_genres<br>type: getml.data.DataFrame<br>url: <a href=\"http://localhost:1709/#/getdataframe/imdb/movies_genres/\" target=\"_blank\">http://localhost:1709/#/getdataframe/imdb/movies_genres/</a>"
      ],
      "text/plain": [
       "Name     movie_id         genre   \n",
       "Role     join_key   categorical   \n",
       "0        1          Documentary   \n",
       "1        1          Short         \n",
       "2        2          Comedy        \n",
       "3        2          Crime         \n",
       "4        5          Western       \n",
       "         ...        ...           \n",
       "395114   378612     Adventure     \n",
       "395115   378612     Drama         \n",
       "395116   378613     Comedy        \n",
       "395117   378613     Drama         \n",
       "395118   378614     Comedy        \n",
       "\n",
       "395119 rows x 2 columns\n",
       "memory usage: 3.16 MB\n",
       "name: movies_genres\n",
       "type: getml.data.DataFrame\n",
       "url: http://localhost:1709/#/getdataframe/imdb/movies_genres/"
      ]
     },
     "execution_count": 14,
     "metadata": {},
     "output_type": "execute_result"
    }
   ],
   "source": [
    "movies_genres.set_role(\"movie_id\", getml.data.roles.join_key)\n",
    "movies_genres.set_role(\"genre\", getml.data.roles.categorical)\n",
    "movies_genres"
   ]
  },
  {
   "cell_type": "markdown",
   "metadata": {},
   "source": [
    "We need to separate our data set into a training, testing and validation set:"
   ]
  },
  {
   "cell_type": "code",
   "execution_count": 15,
   "metadata": {},
   "outputs": [],
   "source": [
    "random = actors.random()\n",
    "\n",
    "is_training = (random < 0.7)\n",
    "is_validation = (~is_training & (random < 0.85))\n",
    "is_test = (~is_training & ~is_validation)\n",
    "\n",
    "data_train = actors.where(\"data_train\", is_training)\n",
    "data_validation = actors.where(\"data_validation\", is_validation)\n",
    "data_test = actors.where(\"data_test\", is_test)"
   ]
  },
  {
   "cell_type": "markdown",
   "metadata": {},
   "source": [
    " "
   ]
  },
  {
   "cell_type": "markdown",
   "metadata": {},
   "source": [
    "## 2. Predictive modelling\n",
    "\n",
    "We loaded the data and defined the roles and units. Next, we create a getML pipeline for relational learning."
   ]
  },
  {
   "cell_type": "markdown",
   "metadata": {},
   "source": [
    "### 2.1 Define relational model\n",
    "\n",
    "To get started with relational learning, we need to specify the data model."
   ]
  },
  {
   "cell_type": "code",
   "execution_count": 16,
   "metadata": {},
   "outputs": [
    {
     "data": {
      "text/html": [
       "<div style=\"height:100px;width:1660px;position:relative;\"><svg height=\"90\" width=\"1650\"><rect y=\"0\" x=\"0\" rx=\"10\" ry=\"10\" width=\"150\" height=\"90\" style=\"fill:#6829c2;stroke-width:0;\" /><text y=\"73.8\"\" x=\"75.0\" dominant-baseline=\"middle\" text-anchor=\"middle\" fill=\"white\">movie_genres</text><rect x=\"51\" y=\"10\" rx=\"4\" ry=\"4\" width=\"48\" height=\"48\" style=\" fill:#6829c2;stroke:#ffffff;stroke-width:3;\" /><line x1=\"67.0\" y1=\"10\" x2=\"67.0\" y2=\"58\" style=\"stroke:white;stroke-width:3\" /><line x1=\"83.0\" y1=\"10\" x2=\"83.0\" y2=\"58\" style=\"stroke:white;stroke-width:3\" /><line x1=\"51\" y1=\"26.0\" x2=\"99\" y2=\"26.0\" style=\"stroke:white;stroke-width:3\" /><line x1=\"51\" y1=\"42.0\" x2=\"99\" y2=\"42.0\" style=\"stroke:white;stroke-width:3\" /><rect y=\"0\" x=\"500\" rx=\"10\" ry=\"10\" width=\"150\" height=\"90\" style=\"fill:#6829c2;stroke-width:0;\" /><text y=\"73.8\"\" x=\"575.0\" dominant-baseline=\"middle\" text-anchor=\"middle\" fill=\"white\">movies</text><rect x=\"551\" y=\"10\" rx=\"4\" ry=\"4\" width=\"48\" height=\"48\" style=\" fill:#6829c2;stroke:#ffffff;stroke-width:3;\" /><line x1=\"567.0\" y1=\"10\" x2=\"567.0\" y2=\"58\" style=\"stroke:white;stroke-width:3\" /><line x1=\"583.0\" y1=\"10\" x2=\"583.0\" y2=\"58\" style=\"stroke:white;stroke-width:3\" /><line x1=\"551\" y1=\"26.0\" x2=\"599\" y2=\"26.0\" style=\"stroke:white;stroke-width:3\" /><line x1=\"551\" y1=\"42.0\" x2=\"599\" y2=\"42.0\" style=\"stroke:white;stroke-width:3\" /><rect y=\"0\" x=\"1000\" rx=\"10\" ry=\"10\" width=\"150\" height=\"90\" style=\"fill:#6829c2;stroke-width:0;\" /><text y=\"73.8\"\" x=\"1075.0\" dominant-baseline=\"middle\" text-anchor=\"middle\" fill=\"white\">roles</text><rect x=\"1051\" y=\"10\" rx=\"4\" ry=\"4\" width=\"48\" height=\"48\" style=\" fill:#6829c2;stroke:#ffffff;stroke-width:3;\" /><line x1=\"1067.0\" y1=\"10\" x2=\"1067.0\" y2=\"58\" style=\"stroke:white;stroke-width:3\" /><line x1=\"1083.0\" y1=\"10\" x2=\"1083.0\" y2=\"58\" style=\"stroke:white;stroke-width:3\" /><line x1=\"1051\" y1=\"26.0\" x2=\"1099\" y2=\"26.0\" style=\"stroke:white;stroke-width:3\" /><line x1=\"1051\" y1=\"42.0\" x2=\"1099\" y2=\"42.0\" style=\"stroke:white;stroke-width:3\" /><rect y=\"0\" x=\"1500\" rx=\"10\" ry=\"10\" width=\"150\" height=\"90\" style=\"fill:#6829c2;stroke-width:0;\" /><text y=\"73.8\"\" x=\"1575.0\" dominant-baseline=\"middle\" text-anchor=\"middle\" fill=\"white\">actors</text><rect x=\"1551\" y=\"10\" rx=\"4\" ry=\"4\" width=\"48\" height=\"48\" style=\" fill:#6829c2;stroke:#ffffff;stroke-width:3;\" /><line x1=\"1567.0\" y1=\"10\" x2=\"1567.0\" y2=\"58\" style=\"stroke:white;stroke-width:3\" /><line x1=\"1583.0\" y1=\"10\" x2=\"1583.0\" y2=\"58\" style=\"stroke:white;stroke-width:3\" /><line x1=\"1551\" y1=\"26.0\" x2=\"1599\" y2=\"26.0\" style=\"stroke:white;stroke-width:3\" /><line x1=\"1551\" y1=\"42.0\" x2=\"1599\" y2=\"42.0\" style=\"stroke:white;stroke-width:3\" /><line x1=\"150\" y1=\"43.0\" x2=\"490\" y2=\"43.0\" style=\"stroke:#808080;;stroke-width:4\" /><polygon points=\"500, 43.0 490, 37.0 490, 49.0 \" style=\"fill:#808080;;stroke-width:0;\" /><rect y=\"10.0\" x=\"249.0\" rx=\"10\" ry=\"10\" width=\"150\" height=\"70\" style=\"fill:#6829c2;stroke-width:0;\" /><text dominant-baseline=\"middle\" text-anchor=\"middle\" fill=\"white\"><tspan y=\"45.0\"\" x=\"324.0\" font-size=\"7pt\" >movie_id = id</tspan></text><line x1=\"650\" y1=\"43.0\" x2=\"990\" y2=\"43.0\" style=\"stroke:#808080;;stroke-width:4\" /><polygon points=\"1000, 43.0 990, 37.0 990, 49.0 \" style=\"fill:#808080;;stroke-width:0;\" /><rect y=\"10.0\" x=\"749.0\" rx=\"10\" ry=\"10\" width=\"150\" height=\"70\" style=\"fill:#6829c2;stroke-width:0;\" /><text dominant-baseline=\"middle\" text-anchor=\"middle\" fill=\"white\"><tspan y=\"40.0\"\" x=\"824.0\" font-size=\"7pt\" >id = movie_id</tspan><tspan y=\"50.0\"\" x=\"824.0\" font-size=\"7pt\" >Relationship: many-to-one</tspan></text><line x1=\"1150\" y1=\"43.0\" x2=\"1490\" y2=\"43.0\" style=\"stroke:#808080;;stroke-width:4\" /><polygon points=\"1500, 43.0 1490, 37.0 1490, 49.0 \" style=\"fill:#808080;;stroke-width:0;\" /><rect y=\"10.0\" x=\"1249.0\" rx=\"10\" ry=\"10\" width=\"150\" height=\"70\" style=\"fill:#6829c2;stroke-width:0;\" /><text dominant-baseline=\"middle\" text-anchor=\"middle\" fill=\"white\"><tspan y=\"45.0\"\" x=\"1324.0\" font-size=\"7pt\" >actor_id = id</tspan></text></svg></div>"
      ],
      "text/plain": [
       "placeholder   other placeholder   allow lagged targets   horizon   join keys used   memory   \n",
       "actors        roles               False                  0.0       id               0.0      \n",
       "roles         movies              False                  0.0       movie_id         0.0      \n",
       "movies        movie_genres        False                  0.0       id               0.0      \n",
       "\n",
       "\n",
       "\n",
       "other join keys used   other time stamps used   relationship   time stamps used   \n",
       "actor_id                                        many-to-many                      \n",
       "id                                              many-to-one                       \n",
       "movie_id                                        many-to-many                      \n",
       "\n",
       "\n",
       "\n",
       "other join keys used   upper time stamps used   \n",
       "actor_id                                        \n",
       "id                                              \n",
       "movie_id                                        "
      ]
     },
     "execution_count": 16,
     "metadata": {},
     "output_type": "execute_result"
    }
   ],
   "source": [
    "actors_ph = getml.data.Placeholder('actors')\n",
    "roles_ph = getml.data.Placeholder('roles')\n",
    "movies_ph = getml.data.Placeholder('movies')\n",
    "movie_genres_ph = getml.data.Placeholder('movie_genres')\n",
    "\n",
    "actors_ph.join(\n",
    "    roles_ph,\n",
    "    join_key='id',\n",
    "    other_join_key='actor_id'\n",
    ")\n",
    "\n",
    "roles_ph.join(\n",
    "    movies_ph,\n",
    "    join_key='movie_id',\n",
    "    other_join_key='id',\n",
    "    relationship=getml.data.relationship.many_to_one\n",
    ")\n",
    "\n",
    "movies_ph.join(\n",
    "    movie_genres_ph,\n",
    "    join_key='id',\n",
    "    other_join_key='movie_id'\n",
    ")\n",
    "\n",
    "actors_ph"
   ]
  },
  {
   "cell_type": "markdown",
   "metadata": {},
   "source": [
    " "
   ]
  },
  {
   "cell_type": "markdown",
   "metadata": {},
   "source": [
    "### 2.2 getML pipeline"
   ]
  },
  {
   "cell_type": "markdown",
   "metadata": {},
   "source": [
    "<!-- #### 2.1.1  -->\n",
    "__Set-up the feature learner & predictor__"
   ]
  },
  {
   "cell_type": "markdown",
   "metadata": {},
   "source": [
    "We can either use the relboost default parameters or some more fine-tuned parameters. Fine-tuning these parameters in this way can increase our predictive accuracy to 85%, but the training time increases to over 4 hours. We therefore assume that we want to use the default parameters."
   ]
  },
  {
   "cell_type": "code",
   "execution_count": 37,
   "metadata": {},
   "outputs": [],
   "source": [
    "relboost = getml.feature_learning.RelboostModel(\n",
    "    num_features=60,\n",
    "    num_subfeatures=60,\n",
    "    loss_function=getml.feature_learning.loss_functions.CrossEntropyLoss,\n",
    "    seed=4367,\n",
    "    num_threads=1,\n",
    "    vocab_size=500 # TODO: Change to 30,000 to get the full performance\n",
    ")\n",
    "\n",
    "if USE_FINE_TUNED:\n",
    "    relboost = getml.feature_learning.RelboostModel(\n",
    "        num_features=60,\n",
    "        num_subfeatures=20,\n",
    "        loss_function=getml.feature_learning.loss_functions.CrossEntropyLoss,\n",
    "        seed=4367,\n",
    "        num_threads=1,\n",
    "        sampling_factor=10,\n",
    "        max_depth=6\n",
    "    )\n",
    "    \n",
    "fast_prop = getml.feature_learning.FastPropModel(\n",
    "    loss_function=getml.feature_learning.loss_functions.CrossEntropyLoss,\n",
    "    vocab_size=50,\n",
    "    sampling_factor=0.1\n",
    ")\n",
    "    \n",
    "predictor = getml.predictors.XGBoostClassifier()"
   ]
  },
  {
   "cell_type": "markdown",
   "metadata": {},
   "source": [
    "__Build the pipeline__"
   ]
  },
  {
   "cell_type": "code",
   "execution_count": 38,
   "metadata": {},
   "outputs": [],
   "source": [
    "pipe = getml.pipeline.Pipeline(\n",
    "    tags=['fast_prop'],\n",
    "    population=actors_ph,\n",
    "    peripheral=[roles_ph, movies_ph, movie_genres_ph],\n",
    "    feature_learners=[fast_prop],\n",
    "    predictors=[predictor]\n",
    ")"
   ]
  },
  {
   "cell_type": "markdown",
   "metadata": {},
   "source": [
    " "
   ]
  },
  {
   "cell_type": "markdown",
   "metadata": {},
   "source": [
    "### 2.3 Model training"
   ]
  },
  {
   "cell_type": "code",
   "execution_count": 34,
   "metadata": {},
   "outputs": [],
   "source": [
    "peripheral = {\n",
    "    \"roles\": roles, \n",
    "    \"movies\": movies, \n",
    "    \"movie_genres\": movies_genres\n",
    "}"
   ]
  },
  {
   "cell_type": "code",
   "execution_count": 20,
   "metadata": {},
   "outputs": [
    {
     "name": "stdout",
     "output_type": "stream",
     "text": [
      "Checking data model...\n"
     ]
    },
    {
     "name": "stderr",
     "output_type": "stream",
     "text": [
      "INFO [JOIN KEYS NOT FOUND]: When joining the composite data frame 'roles'-'movies' that has been created by many-to-one joins or one-to-one joins and  data frame 'movie_genres' over 'id' and 'movie_id', there are no corresponding entries for 26.899421% of entries in 'id' in 'the composite data frame 'roles'-'movies' that has been created by many-to-one joins or one-to-one joins'. You might want to double-check your join keys.\n"
     ]
    }
   ],
   "source": [
    "pipe.check(data_train, peripheral)"
   ]
  },
  {
   "cell_type": "code",
   "execution_count": null,
   "metadata": {},
   "outputs": [
    {
     "name": "stdout",
     "output_type": "stream",
     "text": [
      "Checking data model...\n"
     ]
    },
    {
     "name": "stderr",
     "output_type": "stream",
     "text": [
      "INFO [JOIN KEYS NOT FOUND]: When joining the composite data frame 'roles'-'movies' that has been created by many-to-one joins or one-to-one joins and  data frame 'movie_genres' over 'id' and 'movie_id', there are no corresponding entries for 26.899421% of entries in 'id' in 'the composite data frame 'roles'-'movies' that has been created by many-to-one joins or one-to-one joins'. You might want to double-check your join keys.\n"
     ]
    },
    {
     "name": "stdout",
     "output_type": "stream",
     "text": [
      "\n",
      "FastProp: Trying 441 features...\n",
      "[========================================] 100%\n",
      "\n",
      "FastProp: Building subfeatures...\n",
      "[========================================] 100%\n",
      "\n",
      "FastProp: Building features...\n",
      "[========================================] 100%\n",
      "\n",
      "XGBoost: Training as predictor...\n",
      "[===================================     ] 88%\r"
     ]
    }
   ],
   "source": [
    "pipe.fit(data_train, peripheral)"
   ]
  },
  {
   "cell_type": "markdown",
   "metadata": {},
   "source": [
    " "
   ]
  },
  {
   "cell_type": "markdown",
   "metadata": {},
   "source": [
    "### 2.4 Model evaluation"
   ]
  },
  {
   "cell_type": "code",
   "execution_count": 36,
   "metadata": {
    "lines_to_next_cell": 0
   },
   "outputs": [
    {
     "name": "stdout",
     "output_type": "stream",
     "text": [
      "\n",
      "FastProp: Building subfeatures...\n",
      "[========================================] 100%\n",
      "\n",
      "FastProp: Building features...\n",
      "[========================================] 100%\n",
      "\n"
     ]
    },
    {
     "data": {
      "text/html": [
       "<table class=\"dataframe\"><thead><tr style=\"border-bottom:1pt solid LightGray;\"><th style=\"text-align: left;border-right:1pt solid LightGray;\"> </th><th style=\"text-align: right;\">date time          </th><th style=\"text-align: right;\">set used  </th><th style=\"text-align: right;\">target</th><th style=\"text-align: right;\">accuracy</th><th style=\"text-align: right;\">     auc</th><th style=\"text-align: right;\">cross entropy</th></tr></thead><tbody><tr style=\"border-top:1pt solid LightGray;\"><td style=\"border-right:1pt solid LightGray;\"><b>0</b></td><td>2021-03-06 12:37:18</td><td>data_train</td><td>target</td><td> 0.72106</td><td> 0.74341</td><td>      0.52121</td></tr><tr><td style=\"border-right:1pt solid LightGray;\"><b>1</b></td><td>2021-03-06 12:37:48</td><td>data_test </td><td>target</td><td> 0.72397</td><td> 0.74501</td><td>      0.51974</td></tr></tbody></table>"
      ],
      "text/plain": [
       "    date time             set used     target   accuracy        auc   cross entropy\n",
       "0   2021-03-06 12:37:18   data_train   target    0.72106    0.74341         0.52121\n",
       "1   2021-03-06 12:37:48   data_test    target    0.72397    0.74501         0.51974"
      ]
     },
     "execution_count": 36,
     "metadata": {},
     "output_type": "execute_result"
    }
   ],
   "source": [
    "pipe.score(data_test, peripheral)"
   ]
  },
  {
   "cell_type": "markdown",
   "metadata": {},
   "source": [
    " "
   ]
  },
  {
   "cell_type": "markdown",
   "metadata": {},
   "source": [
    "### 2.6 Studying features"
   ]
  },
  {
   "cell_type": "markdown",
   "metadata": {},
   "source": [
    "__Feature correlations__\n",
    "\n",
    "We want to analyze how the features are correlated with the target variable."
   ]
  },
  {
   "cell_type": "code",
   "execution_count": 23,
   "metadata": {},
   "outputs": [
    {
     "data": {
      "image/png": "[encoded data removed]",
      "text/plain": [
       "<Figure size 1440x720 with 1 Axes>"
      ]
     },
     "metadata": {
      "needs_background": "light"
     },
     "output_type": "display_data"
    }
   ],
   "source": [
    "names, correlations = pipe.features.correlations()\n",
    "\n",
    "plt.subplots(figsize=(20, 10))\n",
    "\n",
    "plt.bar(names, correlations, color='#6829c2')\n",
    "\n",
    "plt.title('Feature Correlations')\n",
    "plt.xlabel('Features')\n",
    "plt.ylabel('Correlations')\n",
    "plt.xticks(rotation='vertical')\n",
    "plt.show()"
   ]
  },
  {
   "cell_type": "code",
   "execution_count": 30,
   "metadata": {},
   "outputs": [],
   "source": [
    "pipe.features.to_sql().save(\"imdb_features\", split=True)"
   ]
  },
  {
   "cell_type": "markdown",
   "metadata": {},
   "source": [
    " "
   ]
  },
  {
   "cell_type": "markdown",
   "metadata": {},
   "source": [
    "__Feature importances__\n",
    " \n",
    "Feature importances are calculated by analyzing the improvement in predictive accuracy on each node of the trees in the XGBoost predictor. They are then normalized, so that all importances add up to 100%."
   ]
  },
  {
   "cell_type": "code",
   "execution_count": 25,
   "metadata": {
    "lines_to_next_cell": 0
   },
   "outputs": [
    {
     "data": {
      "image/png": "[encoded data removed]",
      "text/plain": [
       "<Figure size 1440x720 with 1 Axes>"
      ]
     },
     "metadata": {
      "needs_background": "light"
     },
     "output_type": "display_data"
    }
   ],
   "source": [
    "names, importances = pipe.features.importances()\n",
    "\n",
    "plt.subplots(figsize=(20, 10))\n",
    "\n",
    "plt.bar(names, importances, color='#6829c2')\n",
    "\n",
    "plt.title('Feature Importances')\n",
    "plt.xlabel('Features')\n",
    "plt.ylabel('Importances')\n",
    "plt.xticks(rotation='vertical')\n",
    "plt.show()\n",
    "\n",
    "most_important = names[0]"
   ]
  },
  {
   "cell_type": "markdown",
   "metadata": {},
   "source": [
    "  "
   ]
  },
  {
   "cell_type": "markdown",
   "metadata": {},
   "source": [
    "__Column importances__\n",
    "\n",
    "Because getML uses relational learning, we can apply the principles we used to calculate the feature importances to individual columns as well.\n",
    "\n",
    "As we can see, most of the predictive accuracy is drawn from the roles played by the actors. This suggests that the text fields contained in this relational database have a higher impact on predictive accuracy than for most other data sets."
   ]
  },
  {
   "cell_type": "code",
   "execution_count": 26,
   "metadata": {},
   "outputs": [
    {
     "data": {
      "image/png": "[encoded data removed]",
      "text/plain": [
       "<Figure size 1440x720 with 1 Axes>"
      ]
     },
     "metadata": {
      "needs_background": "light"
     },
     "output_type": "display_data"
    }
   ],
   "source": [
    "names, importances = pipe.columns.importances()\n",
    "\n",
    "plt.subplots(figsize=(20, 10))\n",
    "\n",
    "plt.bar(names, importances, color='#6829c2')\n",
    "\n",
    "plt.title('Columns importances')\n",
    "plt.xlabel('Columns')\n",
    "plt.ylabel('Importances')\n",
    "plt.xticks(rotation='vertical')\n",
    "plt.show()"
   ]
  },
  {
   "cell_type": "markdown",
   "metadata": {},
   "source": [
    " "
   ]
  },
  {
   "cell_type": "markdown",
   "metadata": {},
   "source": [
    "__Transpiling the learned features__\n",
    "\n",
    "We can also transpile the learned features to SQLite3 code. We want to show the two most important features: So we sort the features container and request the features' respective sql transpilations."
   ]
  },
  {
   "cell_type": "markdown",
   "metadata": {},
   "source": [
    " "
   ]
  },
  {
   "cell_type": "code",
   "execution_count": 27,
   "metadata": {},
   "outputs": [
    {
     "data": {
      "text/markdown": [
       "```sql\n",
       "DROP TABLE IF EXISTS \"FEATURE_1_65\";\n",
       "\n",
       "CREATE TABLE \"FEATURE_1_65\" AS\n",
       "SELECT AVG( CASE WHEN t2.\"role\" LIKE '%himself%' THEN 1 ELSE 0 END ) AS \"feature_1_65\",\n",
       "       t1.rowid AS \"rownum\"\n",
       "FROM \"actors\" t1\n",
       "LEFT JOIN \"roles\" t2\n",
       "ON t1.\"id\" = t2.\"actor_id\"\n",
       "LEFT JOIN \"movies\" t3\n",
       "ON t2.\"movie_id\" = t3.\"id\"\n",
       "GROUP BY t1.rowid;\n",
       "```"
      ],
      "text/plain": [
       "'DROP TABLE IF EXISTS \"FEATURE_1_65\";\\n\\nCREATE TABLE \"FEATURE_1_65\" AS\\nSELECT AVG( CASE WHEN t2.\"role\" LIKE \\'%himself%\\' THEN 1 ELSE 0 END ) AS \"feature_1_65\",\\n       t1.rowid AS \"rownum\"\\nFROM \"actors\" t1\\nLEFT JOIN \"roles\" t2\\nON t1.\"id\" = t2.\"actor_id\"\\nLEFT JOIN \"movies\" t3\\nON t2.\"movie_id\" = t3.\"id\"\\nGROUP BY t1.rowid;'"
      ]
     },
     "execution_count": 27,
     "metadata": {},
     "output_type": "execute_result"
    }
   ],
   "source": [
    "pipe.features.sort(by=\"importance\")[0].sql"
   ]
  },
  {
   "cell_type": "code",
   "execution_count": 28,
   "metadata": {},
   "outputs": [
    {
     "data": {
      "text/markdown": [
       "```sql\n",
       "DROP TABLE IF EXISTS \"FEATURE_1_57\";\n",
       "\n",
       "CREATE TABLE \"FEATURE_1_57\" AS\n",
       "SELECT AVG( CASE WHEN t2.\"role\" LIKE '%herself%' THEN 1 ELSE 0 END ) AS \"feature_1_57\",\n",
       "       t1.rowid AS \"rownum\"\n",
       "FROM \"actors\" t1\n",
       "LEFT JOIN \"roles\" t2\n",
       "ON t1.\"id\" = t2.\"actor_id\"\n",
       "LEFT JOIN \"movies\" t3\n",
       "ON t2.\"movie_id\" = t3.\"id\"\n",
       "GROUP BY t1.rowid;\n",
       "```"
      ],
      "text/plain": [
       "'DROP TABLE IF EXISTS \"FEATURE_1_57\";\\n\\nCREATE TABLE \"FEATURE_1_57\" AS\\nSELECT AVG( CASE WHEN t2.\"role\" LIKE \\'%herself%\\' THEN 1 ELSE 0 END ) AS \"feature_1_57\",\\n       t1.rowid AS \"rownum\"\\nFROM \"actors\" t1\\nLEFT JOIN \"roles\" t2\\nON t1.\"id\" = t2.\"actor_id\"\\nLEFT JOIN \"movies\" t3\\nON t2.\"movie_id\" = t3.\"id\"\\nGROUP BY t1.rowid;'"
      ]
     },
     "execution_count": 28,
     "metadata": {},
     "output_type": "execute_result"
    }
   ],
   "source": [
    "pipe.features.sort(by=\"importance\")[1].sql"
   ]
  },
  {
   "cell_type": "markdown",
   "metadata": {},
   "source": [
    " "
   ]
  },
  {
   "cell_type": "markdown",
   "metadata": {},
   "source": [
    "### 2.7 Benchmarks"
   ]
  },
  {
   "cell_type": "markdown",
   "metadata": {},
   "source": [
    "State-of-the-art approaches on this data set perform as follows:\n",
    "\n",
    "| Approach                      | Study                      | Accuracy     | AUC     |\n",
    "| :--------------------------   | :------------------------  | -----------: | ------: |\n",
    "| Relational dependency network | Neville and Jensen (2007)  | --           |    86%  |\n",
    "| Relational dependency network | Neville and Jensen (2003)  | 81.98%       | --      |\n",
    "| Wordification                 | Perovšek et al. (2015)     | 81.93%       |    75%  |\n",
    "| Relational Probability Tree   | Neville et al. (2003)      | 80%          | --      |\n",
    "\n",
    "As we can see, the performance of the relboost algorithm, as used in this notebook, compares favorably to these benchmarks, solidly outperforming Neville and Jensen (2007), which was published in the Journal of Machine Learning Research.\n",
    "\n",
    "| Approach                      | Accuracy     | AUC     |\n",
    "| :---------------------------- | -----------: | ------: |\n",
    "| relboost (tuned)              | 85.25%       | 92.87%  |\n",
    "| relboost (default parameters) | 83.78%       | 91.52%  |"
   ]
  },
  {
   "cell_type": "markdown",
   "metadata": {},
   "source": [
    "## 3. Conclusion\n",
    "\n",
    "In this notebook we have demonstrated how getML can be applied to text fields. We have demonstrated the our  approach outperforms state-of-the-art relational learning algorithms on the IMDb dataset."
   ]
  },
  {
   "cell_type": "markdown",
   "metadata": {},
   "source": [
    " "
   ]
  },
  {
   "cell_type": "markdown",
   "metadata": {},
   "source": [
    "## References\n",
    "\n",
    "Motl, Jan, and Oliver Schulte. \"The CTU prague relational learning repository.\" arXiv preprint arXiv:1511.03086 (2015).\n",
    "    \n",
    "Neville, Jennifer, and David Jensen. \"Relational dependency networks.\" Journal of Machine Learning Research 8.Mar (2007): 653-692.\n",
    "    \n",
    "Neville, Jennifer, and David Jensen. \"Collective classification with relational dependency networks.\" Workshop on Multi-Relational Data Mining (MRDM-2003). 2003.\n",
    "    \n",
    "Neville, Jennifer, et al. \"Learning relational probability trees.\" Proceedings of the Ninth ACM SIGKDD international conference on Knowledge discovery and data mining. 2003.\n",
    "    \n",
    "Perovšek, Matic, et al. \"Wordification: Propositionalization by unfolding relational data into bags of words.\" Expert Systems with Applications 42.17-18 (2015): 6442-6456."
   ]
  },
  {
   "cell_type": "markdown",
   "metadata": {},
   "source": [
    " "
   ]
  },
  {
   "cell_type": "markdown",
   "metadata": {},
   "source": [
    "# Next Steps\n",
    "\n",
    "This tutorial went through the basics of applying getML to relational data that contains columns with freeform text. If you want to learn more about getML, here are some additional tutorials and articles that will help you:\n",
    "\n",
    "__Tutorials:__\n",
    "* Just head back to the [notebook overview](welcome.md) and choose one of the remaining examples.\n",
    "\n",
    "__User Guides__ (from our [documentation](https://docs.getml.com/latest/)):\n",
    "* [Feature learning with Multirel](https://docs.getml.com/latest/user_guide/feature_engineering/feature_engineering.html#multirel)\n",
    "* [Feature learning with Relboost](https://docs.getml.com/latest/user_guide/feature_engineering/feature_engineering.html#relboost)"
   ]
  },
  {
   "cell_type": "markdown",
   "metadata": {},
   "source": [
    " "
   ]
  },
  {
   "cell_type": "markdown",
   "metadata": {},
   "source": [
    "# Get in contact\n",
    "\n",
    "If you have any question schedule a [call with Alex](https://go.getml.com/meetings/alexander-uhlig/getml-demo), the co-founder of getML, or write us an [email](team@getml.com). Prefer a private demo of getML? Just contact us to make an appointment."
   ]
  }
 ],
 "metadata": {
  "jupytext": {
   "cell_metadata_filter": "-all",
   "encoding": "# -*- coding: utf-8 -*-",
   "notebook_metadata_filter": "-all"
  },
  "kernelspec": {
   "display_name": "Python 3",
   "language": "python",
   "name": "python3"
  },
  "language_info": {
   "codemirror_mode": {
    "name": "ipython",
    "version": 3
   },
   "file_extension": ".py",
   "mimetype": "text/x-python",
   "name": "python",
   "nbconvert_exporter": "python",
   "pygments_lexer": "ipython3",
   "version": "3.9.2"
  },
  "toc": {
   "base_numbering": 1,
   "nav_menu": {},
   "number_sections": false,
   "sideBar": true,
   "skip_h1_title": false,
   "title_cell": "Table of Contents",
   "title_sidebar": "Contents",
   "toc_cell": false,
   "toc_position": {},
   "toc_section_display": true,
   "toc_window_display": true
  }
 },
 "nbformat": 4,
 "nbformat_minor": 4
}
