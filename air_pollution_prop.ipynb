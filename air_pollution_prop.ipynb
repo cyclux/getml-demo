{
 "cells": [
  {
   "cell_type": "markdown",
   "metadata": {
    "tags": [
     "hide_input"
    ]
   },
   "source": [
    "# Benchmarking propositionalization approaches for predicting air pollution\n",
    "\n",
    "**NOTE: Due to featuretools's and tsfresh's memory requirements, this notebook will not run on MyBinder.**\n",
    "\n",
    "In this notebook we will compare getML to featuretools and tsfresh, both of which open-source libraries for feature engineering. We find that advanced algorithms featured in getML yield significantly better predictions on this dataset. We then discuss why that is.\n",
    "\n",
    "Summary:\n",
    "\n",
    "- Prediction type: __Regression model__\n",
    "- Domain: __Air pollution__\n",
    "- Prediction target: __pm 2.5 concentration__ \n",
    "- Source data: __Multivariate time series__\n",
    "- Population size: __41757__\n",
    "\n",
    "*Author: Dr. Patrick Urbanke*"
   ]
  },
  {
   "cell_type": "markdown",
   "metadata": {},
   "source": [
    "## Background\n",
    "\n",
    "Many data scientists and AutoML tools use propositionalization methods for feature engineering. These propositionalization methods usually work as follows:\n",
    "\n",
    "- Generate a large number of more-or-less hard-coded features\n",
    "- Use feature selection to pick a percentage of these features\n",
    "\n",
    "getML's `FastPropModel` is an implementation of a propositionalization approach that has been optimized for speed and memory efficiency.\n",
    "\n",
    "In this notebook, we will benchmark `FastPropModel` (https://getml.com/product) against featuretools (https://www.featuretools.com/) and tsfresh (https://tsfresh.readthedocs.io/en/latest/). Both of these libaries use propositionalization approaches for feature engineering.\n",
    "\n",
    "As our example dataset, we use a publicly available dataset on air pollution in Beijing, China (https://archive.ics.uci.edu/ml/datasets/Beijing+PM2.5+Data). The data set has been originally used in the following study:\n",
    "\n",
    "Liang, X., Zou, T., Guo, B., Li, S., Zhang, H., Zhang, S., Huang, H. and Chen, S. X. (2015). Assessing Beijing's PM2.5 pollution: severity, weather impact, APEC and winter heating. Proceedings of the Royal Society A, 471, 20150257."
   ]
  },
  {
   "cell_type": "markdown",
   "metadata": {},
   "source": [
    "## A web frontend for getML\n",
    "\n",
    "The getML monitor is a frontend built to support your work with getML. The getML monitor displays information such as the imported data frames, trained pipelines and allows easy data and feature exploration. You can launch the getML monitor [here](http://localhost:1709)."
   ]
  },
  {
   "cell_type": "code",
   "execution_count": 1,
   "metadata": {},
   "outputs": [],
   "source": [
    "import datetime\n",
    "import os\n",
    "from urllib import request\n",
    "import time\n",
    "\n",
    "import getml\n",
    "import numpy as np\n",
    "import pandas as pd\n",
    "from scipy.stats import pearsonr\n",
    "\n",
    "import matplotlib.pyplot as plt\n",
    "%matplotlib inline  "
   ]
  },
  {
   "cell_type": "code",
   "execution_count": 2,
   "metadata": {},
   "outputs": [],
   "source": [
    "from utils import FTTimeSeriesBuilder\n",
    "from utils import TSFreshBuilder"
   ]
  },
  {
   "cell_type": "markdown",
   "metadata": {},
   "source": [
    "## 1. Loading data"
   ]
  },
  {
   "cell_type": "markdown",
   "metadata": {},
   "source": [
    "### 1.1 Download from source\n",
    "\n",
    "We begin by downloading the data from the UCI Machine Learning repository."
   ]
  },
  {
   "cell_type": "code",
   "execution_count": 3,
   "metadata": {},
   "outputs": [],
   "source": [
    "FEATURETOOLS_FILES = [\n",
    "    \"featuretools_training.csv\",\n",
    "    \"featuretools_test.csv\"\n",
    "]\n",
    "\n",
    "for fname in FEATURETOOLS_FILES:\n",
    "    if not os.path.exists(fname):\n",
    "        fname, res = request.urlretrieve(\n",
    "            \"https://static.getml.com/datasets/air_pollution/featuretools/\" + fname, \n",
    "            fname\n",
    "        )"
   ]
  },
  {
   "cell_type": "code",
   "execution_count": 4,
   "metadata": {},
   "outputs": [],
   "source": [
    "TSFRESH_FILES = [\n",
    "    \"tsfresh_training.csv\",\n",
    "    \"tsfresh_test.csv\"\n",
    "]\n",
    "\n",
    "for fname in TSFRESH_FILES:\n",
    "    if not os.path.exists(fname):\n",
    "        fname, res = request.urlretrieve(\n",
    "            \"https://static.getml.com/datasets/air_pollution/tsfresh/\" + fname, \n",
    "            fname\n",
    "        )"
   ]
  },
  {
   "cell_type": "code",
   "execution_count": 5,
   "metadata": {},
   "outputs": [],
   "source": [
    "fname = \"PRSA_data_2010.1.1-2014.12.31.csv\"\n",
    "\n",
    "if not os.path.exists(fname):\n",
    "    fname, res = request.urlretrieve(\n",
    "        \"https://archive.ics.uci.edu/ml/machine-learning-databases/00381/\" + fname, \n",
    "        fname\n",
    "    )\n"
   ]
  },
  {
   "cell_type": "markdown",
   "metadata": {},
   "source": [
    "### 1.2 Prepare data for tsfresh and getML\n",
    "\n",
    "Our our goal is to predict the pm2.5 concentration from factors such as weather or time of day. However, there are some **missing entries** for pm2.5, so we get rid of them."
   ]
  },
  {
   "cell_type": "code",
   "execution_count": 6,
   "metadata": {},
   "outputs": [],
   "source": [
    "data_full_pandas = pd.read_csv(fname)\n",
    "\n",
    "data_full_pandas = data_full_pandas[\n",
    "    data_full_pandas[\"pm2.5\"] == data_full_pandas[\"pm2.5\"]\n",
    "]"
   ]
  },
  {
   "cell_type": "markdown",
   "metadata": {},
   "source": [
    "tsfresh requires a date column, so we build one."
   ]
  },
  {
   "cell_type": "code",
   "execution_count": 7,
   "metadata": {},
   "outputs": [],
   "source": [
    "def add_leading_zero(val):\n",
    "    if len(str(val)) == 1:\n",
    "        return \"0\" + str(val)\n",
    "    return str(val)\n",
    "\n",
    "data_full_pandas[\"month\"] = [\n",
    "    add_leading_zero(val) for val in data_full_pandas[\"month\"]\n",
    "]\n",
    "\n",
    "data_full_pandas[\"day\"] = [\n",
    "    add_leading_zero(val) for val in data_full_pandas[\"day\"]\n",
    "]\n",
    "\n",
    "data_full_pandas[\"hour\"] = [\n",
    "    add_leading_zero(val) for val in data_full_pandas[\"hour\"]\n",
    "]\n",
    "\n",
    "def make_date(year, month, day, hour):\n",
    "    return year + \"-\" + month + \"-\" + day + \" \" + hour + \":00:00\"\n",
    "\n",
    "data_full_pandas[\"date\"] = [\n",
    "    make_date(str(year), month, day, hour) \\\n",
    "    for year, month, day, hour in zip(\n",
    "        data_full_pandas[\"year\"],\n",
    "        data_full_pandas[\"month\"],\n",
    "        data_full_pandas[\"day\"],\n",
    "        data_full_pandas[\"hour\"],\n",
    "    )\n",
    "]\n"
   ]
  },
  {
   "cell_type": "markdown",
   "metadata": {},
   "source": [
    "tsfresh also requires the time series to have ids. Since there is only a single time series, that series has the same id."
   ]
  },
  {
   "cell_type": "code",
   "execution_count": 8,
   "metadata": {},
   "outputs": [],
   "source": [
    "data_full_pandas[\"id\"] = 1"
   ]
  },
  {
   "cell_type": "markdown",
   "metadata": {},
   "source": [
    "The dataset now contains many columns that we do not need or that tsfresh cannot process. For instance, *cbwd* might actually contain useful information, but it is a categorical variable, which is difficult to handle for tsfresh, so we remove it."
   ]
  },
  {
   "cell_type": "markdown",
   "metadata": {},
   "source": [
    "We also want to split our data into a training and testing set."
   ]
  },
  {
   "cell_type": "code",
   "execution_count": 9,
   "metadata": {},
   "outputs": [],
   "source": [
    "data_train_pandas = data_full_pandas[data_full_pandas[\"year\"] < 2014]\n",
    "data_test_pandas = data_full_pandas[data_full_pandas[\"year\"] == 2014]\n",
    "data_full_pandas = data_full_pandas"
   ]
  },
  {
   "cell_type": "code",
   "execution_count": 10,
   "metadata": {},
   "outputs": [],
   "source": [
    "def remove_unwanted_columns(df):\n",
    "    del df[\"cbwd\"]\n",
    "    del df[\"year\"]\n",
    "    del df[\"month\"]\n",
    "    del df[\"day\"]\n",
    "    del df[\"hour\"]\n",
    "    del df[\"No\"]\n",
    "    return df\n",
    "\n",
    "data_full_pandas = remove_unwanted_columns(data_full_pandas)\n",
    "data_train_pandas = remove_unwanted_columns(data_train_pandas)\n",
    "data_test_pandas = remove_unwanted_columns(data_test_pandas)"
   ]
  },
  {
   "cell_type": "code",
   "execution_count": 11,
   "metadata": {},
   "outputs": [
    {
     "data": {
      "text/html": [
       "<div>\n",
       "<style scoped>\n",
       "    .dataframe tbody tr th:only-of-type {\n",
       "        vertical-align: middle;\n",
       "    }\n",
       "\n",
       "    .dataframe tbody tr th {\n",
       "        vertical-align: top;\n",
       "    }\n",
       "\n",
       "    .dataframe thead th {\n",
       "        text-align: right;\n",
       "    }\n",
       "</style>\n",
       "<table border=\"1\" class=\"dataframe\">\n",
       "  <thead>\n",
       "    <tr style=\"text-align: right;\">\n",
       "      <th></th>\n",
       "      <th>pm2.5</th>\n",
       "      <th>DEWP</th>\n",
       "      <th>TEMP</th>\n",
       "      <th>PRES</th>\n",
       "      <th>Iws</th>\n",
       "      <th>Is</th>\n",
       "      <th>Ir</th>\n",
       "      <th>date</th>\n",
       "      <th>id</th>\n",
       "    </tr>\n",
       "  </thead>\n",
       "  <tbody>\n",
       "    <tr>\n",
       "      <th>24</th>\n",
       "      <td>129.0</td>\n",
       "      <td>-16</td>\n",
       "      <td>-4.0</td>\n",
       "      <td>1020.0</td>\n",
       "      <td>1.79</td>\n",
       "      <td>0</td>\n",
       "      <td>0</td>\n",
       "      <td>2010-01-02 00:00:00</td>\n",
       "      <td>1</td>\n",
       "    </tr>\n",
       "    <tr>\n",
       "      <th>25</th>\n",
       "      <td>148.0</td>\n",
       "      <td>-15</td>\n",
       "      <td>-4.0</td>\n",
       "      <td>1020.0</td>\n",
       "      <td>2.68</td>\n",
       "      <td>0</td>\n",
       "      <td>0</td>\n",
       "      <td>2010-01-02 01:00:00</td>\n",
       "      <td>1</td>\n",
       "    </tr>\n",
       "    <tr>\n",
       "      <th>26</th>\n",
       "      <td>159.0</td>\n",
       "      <td>-11</td>\n",
       "      <td>-5.0</td>\n",
       "      <td>1021.0</td>\n",
       "      <td>3.57</td>\n",
       "      <td>0</td>\n",
       "      <td>0</td>\n",
       "      <td>2010-01-02 02:00:00</td>\n",
       "      <td>1</td>\n",
       "    </tr>\n",
       "    <tr>\n",
       "      <th>27</th>\n",
       "      <td>181.0</td>\n",
       "      <td>-7</td>\n",
       "      <td>-5.0</td>\n",
       "      <td>1022.0</td>\n",
       "      <td>5.36</td>\n",
       "      <td>1</td>\n",
       "      <td>0</td>\n",
       "      <td>2010-01-02 03:00:00</td>\n",
       "      <td>1</td>\n",
       "    </tr>\n",
       "    <tr>\n",
       "      <th>28</th>\n",
       "      <td>138.0</td>\n",
       "      <td>-7</td>\n",
       "      <td>-5.0</td>\n",
       "      <td>1022.0</td>\n",
       "      <td>6.25</td>\n",
       "      <td>2</td>\n",
       "      <td>0</td>\n",
       "      <td>2010-01-02 04:00:00</td>\n",
       "      <td>1</td>\n",
       "    </tr>\n",
       "    <tr>\n",
       "      <th>...</th>\n",
       "      <td>...</td>\n",
       "      <td>...</td>\n",
       "      <td>...</td>\n",
       "      <td>...</td>\n",
       "      <td>...</td>\n",
       "      <td>...</td>\n",
       "      <td>...</td>\n",
       "      <td>...</td>\n",
       "      <td>...</td>\n",
       "    </tr>\n",
       "    <tr>\n",
       "      <th>43819</th>\n",
       "      <td>8.0</td>\n",
       "      <td>-23</td>\n",
       "      <td>-2.0</td>\n",
       "      <td>1034.0</td>\n",
       "      <td>231.97</td>\n",
       "      <td>0</td>\n",
       "      <td>0</td>\n",
       "      <td>2014-12-31 19:00:00</td>\n",
       "      <td>1</td>\n",
       "    </tr>\n",
       "    <tr>\n",
       "      <th>43820</th>\n",
       "      <td>10.0</td>\n",
       "      <td>-22</td>\n",
       "      <td>-3.0</td>\n",
       "      <td>1034.0</td>\n",
       "      <td>237.78</td>\n",
       "      <td>0</td>\n",
       "      <td>0</td>\n",
       "      <td>2014-12-31 20:00:00</td>\n",
       "      <td>1</td>\n",
       "    </tr>\n",
       "    <tr>\n",
       "      <th>43821</th>\n",
       "      <td>10.0</td>\n",
       "      <td>-22</td>\n",
       "      <td>-3.0</td>\n",
       "      <td>1034.0</td>\n",
       "      <td>242.70</td>\n",
       "      <td>0</td>\n",
       "      <td>0</td>\n",
       "      <td>2014-12-31 21:00:00</td>\n",
       "      <td>1</td>\n",
       "    </tr>\n",
       "    <tr>\n",
       "      <th>43822</th>\n",
       "      <td>8.0</td>\n",
       "      <td>-22</td>\n",
       "      <td>-4.0</td>\n",
       "      <td>1034.0</td>\n",
       "      <td>246.72</td>\n",
       "      <td>0</td>\n",
       "      <td>0</td>\n",
       "      <td>2014-12-31 22:00:00</td>\n",
       "      <td>1</td>\n",
       "    </tr>\n",
       "    <tr>\n",
       "      <th>43823</th>\n",
       "      <td>12.0</td>\n",
       "      <td>-21</td>\n",
       "      <td>-3.0</td>\n",
       "      <td>1034.0</td>\n",
       "      <td>249.85</td>\n",
       "      <td>0</td>\n",
       "      <td>0</td>\n",
       "      <td>2014-12-31 23:00:00</td>\n",
       "      <td>1</td>\n",
       "    </tr>\n",
       "  </tbody>\n",
       "</table>\n",
       "<p>41757 rows × 9 columns</p>\n",
       "</div>"
      ],
      "text/plain": [
       "       pm2.5  DEWP  TEMP    PRES     Iws  Is  Ir                 date  id\n",
       "24     129.0   -16  -4.0  1020.0    1.79   0   0  2010-01-02 00:00:00   1\n",
       "25     148.0   -15  -4.0  1020.0    2.68   0   0  2010-01-02 01:00:00   1\n",
       "26     159.0   -11  -5.0  1021.0    3.57   0   0  2010-01-02 02:00:00   1\n",
       "27     181.0    -7  -5.0  1022.0    5.36   1   0  2010-01-02 03:00:00   1\n",
       "28     138.0    -7  -5.0  1022.0    6.25   2   0  2010-01-02 04:00:00   1\n",
       "...      ...   ...   ...     ...     ...  ..  ..                  ...  ..\n",
       "43819    8.0   -23  -2.0  1034.0  231.97   0   0  2014-12-31 19:00:00   1\n",
       "43820   10.0   -22  -3.0  1034.0  237.78   0   0  2014-12-31 20:00:00   1\n",
       "43821   10.0   -22  -3.0  1034.0  242.70   0   0  2014-12-31 21:00:00   1\n",
       "43822    8.0   -22  -4.0  1034.0  246.72   0   0  2014-12-31 22:00:00   1\n",
       "43823   12.0   -21  -3.0  1034.0  249.85   0   0  2014-12-31 23:00:00   1\n",
       "\n",
       "[41757 rows x 9 columns]"
      ]
     },
     "execution_count": 11,
     "metadata": {},
     "output_type": "execute_result"
    }
   ],
   "source": [
    "data_full_pandas"
   ]
  },
  {
   "cell_type": "markdown",
   "metadata": {},
   "source": [
    "We then **load the data into the getML engine**. We begin by setting a project."
   ]
  },
  {
   "cell_type": "code",
   "execution_count": 12,
   "metadata": {},
   "outputs": [
    {
     "name": "stdout",
     "output_type": "stream",
     "text": [
      "\n",
      "Loading pipelines...\n",
      "[========================================] 100%\n",
      "\n",
      "Connected to project 'air_pollution'\n"
     ]
    }
   ],
   "source": [
    "getml.engine.set_project('air_pollution')"
   ]
  },
  {
   "cell_type": "code",
   "execution_count": 13,
   "metadata": {},
   "outputs": [],
   "source": [
    "df_full = getml.data.DataFrame.from_pandas(data_full_pandas, name='full')\n",
    "df_train = getml.data.DataFrame.from_pandas(data_train_pandas, name='train')\n",
    "df_test = getml.data.DataFrame.from_pandas(data_test_pandas, name='test')\n",
    "\n",
    "df_full[\"date\"] = df_full[\"date\"].as_ts()"
   ]
  },
  {
   "cell_type": "markdown",
   "metadata": {},
   "source": [
    "We need to **assign roles** to the columns, such as defining the target column."
   ]
  },
  {
   "cell_type": "code",
   "execution_count": 14,
   "metadata": {},
   "outputs": [],
   "source": [
    "def set_roles(df):\n",
    "    df.set_role([\"date\"], getml.data.roles.time_stamp)\n",
    "    df.set_role([\"pm2.5\"], getml.data.roles.target)\n",
    "    df.set_role([\n",
    "        \"DEWP\", \n",
    "        \"TEMP\",\n",
    "        \"PRES\",\n",
    "        \"Iws\",\n",
    "        \"Is\",\n",
    "        \"Ir\"], getml.data.roles.numerical)\n",
    "\n",
    "set_roles(df_full)\n",
    "set_roles(df_train)\n",
    "set_roles(df_test)"
   ]
  },
  {
   "cell_type": "markdown",
   "metadata": {},
   "source": [
    "## 2. Predictive modeling"
   ]
  },
  {
   "cell_type": "code",
   "execution_count": 15,
   "metadata": {},
   "outputs": [
    {
     "data": {
      "text/html": [
       "<div style=\"height:100px;width:660px;position:relative;\"><svg height=\"90\" width=\"650\"><rect y=\"0\" x=\"0\" rx=\"10\" ry=\"10\" width=\"150\" height=\"90\" style=\"fill:#6829c2;stroke-width:0;\" /><text y=\"73.8\"\" x=\"75.0\" dominant-baseline=\"middle\" text-anchor=\"middle\" fill=\"white\">peripheral</text><rect x=\"51\" y=\"10\" rx=\"4\" ry=\"4\" width=\"48\" height=\"48\" style=\" fill:#6829c2;stroke:#ffffff;stroke-width:3;\" /><line x1=\"67.0\" y1=\"10\" x2=\"67.0\" y2=\"58\" style=\"stroke:white;stroke-width:3\" /><line x1=\"83.0\" y1=\"10\" x2=\"83.0\" y2=\"58\" style=\"stroke:white;stroke-width:3\" /><line x1=\"51\" y1=\"26.0\" x2=\"99\" y2=\"26.0\" style=\"stroke:white;stroke-width:3\" /><line x1=\"51\" y1=\"42.0\" x2=\"99\" y2=\"42.0\" style=\"stroke:white;stroke-width:3\" /><rect y=\"0\" x=\"500\" rx=\"10\" ry=\"10\" width=\"150\" height=\"90\" style=\"fill:#6829c2;stroke-width:0;\" /><text y=\"73.8\"\" x=\"575.0\" dominant-baseline=\"middle\" text-anchor=\"middle\" fill=\"white\">population</text><rect x=\"551\" y=\"10\" rx=\"4\" ry=\"4\" width=\"48\" height=\"48\" style=\" fill:#6829c2;stroke:#ffffff;stroke-width:3;\" /><line x1=\"567.0\" y1=\"10\" x2=\"567.0\" y2=\"58\" style=\"stroke:white;stroke-width:3\" /><line x1=\"583.0\" y1=\"10\" x2=\"583.0\" y2=\"58\" style=\"stroke:white;stroke-width:3\" /><line x1=\"551\" y1=\"26.0\" x2=\"599\" y2=\"26.0\" style=\"stroke:white;stroke-width:3\" /><line x1=\"551\" y1=\"42.0\" x2=\"599\" y2=\"42.0\" style=\"stroke:white;stroke-width:3\" /><line x1=\"150\" y1=\"43.0\" x2=\"490\" y2=\"43.0\" style=\"stroke:#808080;;stroke-width:4\" /><polygon points=\"500, 43.0 490, 37.0 490, 49.0 \" style=\"fill:#808080;;stroke-width:0;\" /><rect y=\"10.0\" x=\"249.0\" rx=\"10\" ry=\"10\" width=\"150\" height=\"70\" style=\"fill:#6829c2;stroke-width:0;\" /><text dominant-baseline=\"middle\" text-anchor=\"middle\" fill=\"white\"><tspan y=\"40.0\"\" x=\"324.0\" font-size=\"7pt\" >date <= date</tspan><tspan y=\"50.0\"\" x=\"324.0\" font-size=\"7pt\" >Memory: 1.0 days</tspan></text></svg></div>"
      ],
      "text/plain": [
       "      placeholder   other placeholder   allow lagged targets   horizon   join keys used   memory    other join keys used   other time stamps used   relationship   time stamps used   upper time stamps used\n",
       "  0   population    peripheral          False                  0.0                        86400.0                          date                     many-to-many   date                                     "
      ]
     },
     "execution_count": 15,
     "metadata": {},
     "output_type": "execute_result"
    }
   ],
   "source": [
    "population = getml.data.Placeholder('population')\n",
    "\n",
    "peripheral = getml.data.Placeholder('peripheral')\n",
    "\n",
    "population.join(\n",
    "    peripheral,\n",
    "    time_stamp='date',\n",
    "    memory=getml.data.time.days(1)\n",
    ")\n",
    "\n",
    "population"
   ]
  },
  {
   "cell_type": "code",
   "execution_count": 16,
   "metadata": {},
   "outputs": [
    {
     "data": {
      "text/html": [
       "<pre>Pipeline(preprocessors=[],\n",
       "         feature_learners=['FastPropModel'],\n",
       "         feature_selectors=[],\n",
       "         include_categorical=False,\n",
       "         peripheral=['peripheral'],\n",
       "         population='population',\n",
       "         predictors=[],\n",
       "         tags=['memory: 1d', 'simple features'],\n",
       "         share_selected_features=0.5)</pre>"
      ],
      "text/plain": [
       "Pipeline(preprocessors=[],\n",
       "         feature_learners=['FastPropModel'],\n",
       "         feature_selectors=[],\n",
       "         include_categorical=False,\n",
       "         peripheral=['peripheral'],\n",
       "         population='population',\n",
       "         predictors=[],\n",
       "         tags=['memory: 1d', 'simple features'],\n",
       "         share_selected_features=0.5)"
      ]
     },
     "execution_count": 16,
     "metadata": {},
     "output_type": "execute_result"
    }
   ],
   "source": [
    "fast_prop = getml.feature_learning.FastPropModel(\n",
    "    loss_function=getml.feature_learning.loss_functions.SquareLoss,\n",
    "    num_threads=1,\n",
    "    aggregation=getml.feature_learning.FastPropModel.agg_sets.All,\n",
    ")\n",
    "\n",
    "pipe_fp_fl = getml.pipeline.Pipeline(\n",
    "    tags=['memory: 1d', 'simple features'],\n",
    "    population=population,\n",
    "    feature_learners=[fast_prop],)\n",
    "\n",
    "pipe_fp_fl"
   ]
  },
  {
   "cell_type": "code",
   "execution_count": 17,
   "metadata": {},
   "outputs": [
    {
     "name": "stdout",
     "output_type": "stream",
     "text": [
      "Checking data model...\n",
      "OK.\n"
     ]
    }
   ],
   "source": [
    "pipe_fp_fl.check(df_train, [df_full])"
   ]
  },
  {
   "cell_type": "code",
   "execution_count": 18,
   "metadata": {},
   "outputs": [
    {
     "name": "stdout",
     "output_type": "stream",
     "text": [
      "Checking data model...\n",
      "OK.\n",
      "\n",
      "FastProp: Trying 226 features...\n",
      "[========================================] 100%\n",
      "\n",
      "Trained pipeline.\n",
      "Time taken: 0h:0m:18.003271\n",
      "\n",
      "\n",
      "FastProp: Building features...\n",
      "[========================================] 100%\n",
      "\n"
     ]
    }
   ],
   "source": [
    "begin = time.time()\n",
    "\n",
    "pipe_fp_fl.fit(df_train, [df_full])\n",
    "\n",
    "fastprop_train = pipe_fp_fl.transform(\n",
    "    df_train, \n",
    "    [df_full], \n",
    "    df_name=\"fastprop_train\"\n",
    ")\n",
    "\n",
    "end = time.time()\n",
    "\n",
    "fastprop_runtime = datetime.timedelta(seconds=end - begin)"
   ]
  },
  {
   "cell_type": "code",
   "execution_count": 19,
   "metadata": {},
   "outputs": [
    {
     "name": "stdout",
     "output_type": "stream",
     "text": [
      "\n",
      "FastProp: Building features...\n",
      "[========================================] 100%\n",
      "\n"
     ]
    }
   ],
   "source": [
    "fastprop_test = pipe_fp_fl.transform(df_test, [df_full], df_name=\"fastprop_test\")"
   ]
  },
  {
   "cell_type": "code",
   "execution_count": 20,
   "metadata": {},
   "outputs": [],
   "source": [
    "predictor = getml.predictors.XGBoostRegressor()\n",
    "\n",
    "pipe_fp_pr = getml.pipeline.Pipeline(\n",
    "    tags=[\"prediction\", \"fastprop\"], predictors=[predictor]\n",
    ")"
   ]
  },
  {
   "cell_type": "code",
   "execution_count": 21,
   "metadata": {},
   "outputs": [
    {
     "name": "stdout",
     "output_type": "stream",
     "text": [
      "Checking data model...\n",
      "OK.\n",
      "\n",
      "XGBoost: Training as predictor...\n",
      "[========================================] 100%\n",
      "\n",
      "Trained pipeline.\n",
      "Time taken: 0h:0m:16.780831\n",
      "\n"
     ]
    },
    {
     "data": {
      "text/html": [
       "<pre>Pipeline(preprocessors=[],\n",
       "         feature_learners=[],\n",
       "         feature_selectors=[],\n",
       "         include_categorical=False,\n",
       "         peripheral=[],\n",
       "         population='POPULATION',\n",
       "         predictors=['XGBoostRegressor'],\n",
       "         tags=['prediction', 'fastprop'],\n",
       "         share_selected_features=0.5)</pre><br><pre>url: <a href='http://localhost:1709/#/getpipeline/air_pollution/borJCm/0/' target=\"_blank\">http://localhost:1709/#/getpipeline/air_pollution/borJCm/0/</a></pre>"
      ],
      "text/plain": [
       "Pipeline(preprocessors=[],\n",
       "         feature_learners=[],\n",
       "         feature_selectors=[],\n",
       "         include_categorical=False,\n",
       "         peripheral=[],\n",
       "         population='POPULATION',\n",
       "         predictors=['XGBoostRegressor'],\n",
       "         tags=['prediction', 'fastprop'],\n",
       "         share_selected_features=0.5)\n",
       "\n",
       "url: http://localhost:1709/#/getpipeline/air_pollution/borJCm/0/"
      ]
     },
     "execution_count": 21,
     "metadata": {},
     "output_type": "execute_result"
    }
   ],
   "source": [
    "pipe_fp_pr.fit(fastprop_train)"
   ]
  },
  {
   "cell_type": "code",
   "execution_count": 22,
   "metadata": {},
   "outputs": [
    {
     "name": "stdout",
     "output_type": "stream",
     "text": [
      "\n"
     ]
    },
    {
     "data": {
      "text/html": [
       "<style>\n",
       "  th {\n",
       "    text-align: left !important;\n",
       "  }\n",
       "  td {\n",
       "    text-align: left !important;\n",
       "  }\n",
       "  th:nth-child(1) {\n",
       "    text-align: right;\n",
       "    border-right: 1px solid LightGray;\n",
       "  }\n",
       "  th.float {\n",
       "    text-align: right !important;\n",
       "  }\n",
       "  td.float {\n",
       "    text-align: right !important;\n",
       "  }\n",
       "  th.int {\n",
       "    text-align: right !important;\n",
       "  }\n",
       "  td.int {\n",
       "    text-align: right !important;\n",
       "  }\n",
       "</style>\n",
       "\n",
       "<table class=\"dataframe\">\n",
       "  <thead>\n",
       "    <tr>\n",
       "      \n",
       "        \n",
       "          <th class=\"int\">   </th>\n",
       "        \n",
       "      \n",
       "        \n",
       "          <th class=\"datetime\">date time          </th>\n",
       "        \n",
       "      \n",
       "        \n",
       "          <th class=\"str\">set used      </th>\n",
       "        \n",
       "      \n",
       "        \n",
       "          <th class=\"str\">target</th>\n",
       "        \n",
       "      \n",
       "        \n",
       "          <th class=\"float\">     mae</th>\n",
       "        \n",
       "      \n",
       "        \n",
       "          <th class=\"float\">    rmse</th>\n",
       "        \n",
       "      \n",
       "        \n",
       "          <th class=\"float\">rsquared</th>\n",
       "        \n",
       "      \n",
       "    </tr>\n",
       "    \n",
       "  </thead>\n",
       "  <tbody>\n",
       "    \n",
       "      <tr>\n",
       "        <th>0</th>\n",
       "          \n",
       "            \n",
       "              <td class=\"datetime\">2021-05-16 10:41:33</td>\n",
       "            \n",
       "          \n",
       "            \n",
       "              <td class=\"str\">fastprop_train</td>\n",
       "            \n",
       "          \n",
       "            \n",
       "              <td class=\"str\">pm2.5</td>\n",
       "            \n",
       "          \n",
       "            \n",
       "              <td class=\"float\">38.5582</td>\n",
       "            \n",
       "          \n",
       "            \n",
       "              <td class=\"float\">55.3213</td>\n",
       "            \n",
       "          \n",
       "            \n",
       "              <td class=\"float\">0.644</td>\n",
       "            \n",
       "          \n",
       "      </tr>\n",
       "    \n",
       "      <tr>\n",
       "        <th>1</th>\n",
       "          \n",
       "            \n",
       "              <td class=\"datetime\">2021-05-16 10:41:33</td>\n",
       "            \n",
       "          \n",
       "            \n",
       "              <td class=\"str\">fastprop_test</td>\n",
       "            \n",
       "          \n",
       "            \n",
       "              <td class=\"str\">pm2.5</td>\n",
       "            \n",
       "          \n",
       "            \n",
       "              <td class=\"float\">44.5867</td>\n",
       "            \n",
       "          \n",
       "            \n",
       "              <td class=\"float\">63.5967</td>\n",
       "            \n",
       "          \n",
       "            \n",
       "              <td class=\"float\">0.546</td>\n",
       "            \n",
       "          \n",
       "      </tr>\n",
       "    \n",
       "  </tbody>\n",
       "</table>"
      ],
      "text/plain": [
       "      date time             set used         target        mae       rmse   rsquared\n",
       "  0   2021-05-16 10:41:33   fastprop_train   pm2.5     38.5582    55.3213     0.644 \n",
       "  1   2021-05-16 10:41:33   fastprop_test    pm2.5     44.5867    63.5967     0.546 "
      ]
     },
     "execution_count": 22,
     "metadata": {},
     "output_type": "execute_result"
    }
   ],
   "source": [
    "pipe_fp_pr.score(fastprop_test)"
   ]
  },
  {
   "cell_type": "markdown",
   "metadata": {},
   "source": [
    "### 3.2 Using featuretools\n",
    "\n",
    "To make things a bit easier, we have written a high-level wrapper around featuretools which we placed in a separate module (`utils`)."
   ]
  },
  {
   "cell_type": "code",
   "execution_count": 23,
   "metadata": {},
   "outputs": [],
   "source": [
    "ft_builder = FTTimeSeriesBuilder(\n",
    "    num_features=200,\n",
    "    horizon=pd.Timedelta(days=0),\n",
    "    memory=pd.Timedelta(days=1),\n",
    "    column_id=\"id\",\n",
    "    time_stamp=\"date\",\n",
    "    target=\"pm2.5\")"
   ]
  },
  {
   "cell_type": "code",
   "execution_count": 24,
   "metadata": {},
   "outputs": [
    {
     "name": "stdout",
     "output_type": "stream",
     "text": [
      "featuretools: Trying features...\n"
     ]
    },
    {
     "name": "stderr",
     "output_type": "stream",
     "text": [
      "/home/patrick/.local/lib/python3.9/site-packages/featuretools/synthesis/dfs.py:317: UnusedPrimitiveWarning: Some specified primitives were not used during DFS:\n",
      "  agg_primitives: ['all', 'any', 'entropy', 'num_true', 'percent_true']\n",
      "This may be caused by a using a value of max_depth that is too small, not setting interesting values, or it may indicate no compatible variable types for the primitive were found in the data.\n",
      "  warnings.warn(warning_msg, UnusedPrimitiveWarning)\n"
     ]
    },
    {
     "name": "stdout",
     "output_type": "stream",
     "text": [
      "Selecting the best out of 133 features...\n",
      "Time taken: 0h:14m:39.009478\n",
      "\n"
     ]
    },
    {
     "name": "stderr",
     "output_type": "stream",
     "text": [
      "/home/patrick/.local/lib/python3.9/site-packages/featuretools/synthesis/dfs.py:317: UnusedPrimitiveWarning: Some specified primitives were not used during DFS:\n",
      "  agg_primitives: ['all', 'any', 'entropy', 'num_true', 'percent_true']\n",
      "This may be caused by a using a value of max_depth that is too small, not setting interesting values, or it may indicate no compatible variable types for the primitive were found in the data.\n",
      "  warnings.warn(warning_msg, UnusedPrimitiveWarning)\n"
     ]
    }
   ],
   "source": [
    "featuretools_training = ft_builder.fit(data_train_pandas)\n",
    "featuretools_test = ft_builder.transform(data_test_pandas)"
   ]
  },
  {
   "cell_type": "code",
   "execution_count": 25,
   "metadata": {},
   "outputs": [],
   "source": [
    "df_featuretools_training = getml.data.DataFrame.from_pandas(featuretools_training, name='featuretools_training')\n",
    "df_featuretools_test = getml.data.DataFrame.from_pandas(featuretools_test, name='featuretools_test')"
   ]
  },
  {
   "cell_type": "code",
   "execution_count": 26,
   "metadata": {},
   "outputs": [],
   "source": [
    "def set_roles_featuretools(df):\n",
    "    df[\"date\"] = df[\"date\"].as_ts()\n",
    "    df.set_role([\"pm2.5\"], getml.data.roles.target)\n",
    "    df.set_role([\"date\"], getml.data.roles.time_stamp)\n",
    "    df.set_role(df.unused_names, getml.data.roles.numerical)\n",
    "    df.set_role([\"id\"], getml.data.roles.unused_float)\n",
    "    return df\n",
    "\n",
    "df_featuretools_training = set_roles_featuretools(df_featuretools_training)\n",
    "df_featuretools_test = set_roles_featuretools(df_featuretools_test)"
   ]
  },
  {
   "cell_type": "code",
   "execution_count": 27,
   "metadata": {},
   "outputs": [
    {
     "data": {
      "text/html": [
       "<pre>Pipeline(preprocessors=[],\n",
       "         feature_learners=[],\n",
       "         feature_selectors=[],\n",
       "         include_categorical=False,\n",
       "         peripheral=[],\n",
       "         population='POPULATION',\n",
       "         predictors=['XGBoostRegressor'],\n",
       "         tags=['featuretools', 'memory: 1d'],\n",
       "         share_selected_features=0.5)</pre>"
      ],
      "text/plain": [
       "Pipeline(preprocessors=[],\n",
       "         feature_learners=[],\n",
       "         feature_selectors=[],\n",
       "         include_categorical=False,\n",
       "         peripheral=[],\n",
       "         population='POPULATION',\n",
       "         predictors=['XGBoostRegressor'],\n",
       "         tags=['featuretools', 'memory: 1d'],\n",
       "         share_selected_features=0.5)"
      ]
     },
     "execution_count": 27,
     "metadata": {},
     "output_type": "execute_result"
    }
   ],
   "source": [
    "predictor = getml.predictors.XGBoostRegressor()\n",
    "\n",
    "pipe_ft_pr = getml.pipeline.Pipeline(\n",
    "    tags=['featuretools', 'memory: 1d'],\n",
    "    predictors=[predictor]\n",
    ")\n",
    "\n",
    "pipe_ft_pr"
   ]
  },
  {
   "cell_type": "code",
   "execution_count": 28,
   "metadata": {},
   "outputs": [
    {
     "name": "stdout",
     "output_type": "stream",
     "text": [
      "Checking data model...\n",
      "OK.\n"
     ]
    }
   ],
   "source": [
    "pipe_ft_pr.check(df_featuretools_training)"
   ]
  },
  {
   "cell_type": "code",
   "execution_count": 29,
   "metadata": {},
   "outputs": [
    {
     "name": "stdout",
     "output_type": "stream",
     "text": [
      "Checking data model...\n",
      "OK.\n",
      "\n",
      "XGBoost: Training as predictor...\n",
      "[========================================] 100%\n",
      "\n",
      "Trained pipeline.\n",
      "Time taken: 0h:0m:11.506077\n",
      "\n"
     ]
    },
    {
     "data": {
      "text/html": [
       "<pre>Pipeline(preprocessors=[],\n",
       "         feature_learners=[],\n",
       "         feature_selectors=[],\n",
       "         include_categorical=False,\n",
       "         peripheral=[],\n",
       "         population='POPULATION',\n",
       "         predictors=['XGBoostRegressor'],\n",
       "         tags=['featuretools', 'memory: 1d'],\n",
       "         share_selected_features=0.5)</pre><br><pre>url: <a href='http://localhost:1709/#/getpipeline/air_pollution/n7OYl0/0/' target=\"_blank\">http://localhost:1709/#/getpipeline/air_pollution/n7OYl0/0/</a></pre>"
      ],
      "text/plain": [
       "Pipeline(preprocessors=[],\n",
       "         feature_learners=[],\n",
       "         feature_selectors=[],\n",
       "         include_categorical=False,\n",
       "         peripheral=[],\n",
       "         population='POPULATION',\n",
       "         predictors=['XGBoostRegressor'],\n",
       "         tags=['featuretools', 'memory: 1d'],\n",
       "         share_selected_features=0.5)\n",
       "\n",
       "url: http://localhost:1709/#/getpipeline/air_pollution/n7OYl0/0/"
      ]
     },
     "execution_count": 29,
     "metadata": {},
     "output_type": "execute_result"
    }
   ],
   "source": [
    "pipe_ft_pr.fit(df_featuretools_training)"
   ]
  },
  {
   "cell_type": "code",
   "execution_count": 30,
   "metadata": {},
   "outputs": [
    {
     "name": "stdout",
     "output_type": "stream",
     "text": [
      "\n"
     ]
    },
    {
     "data": {
      "text/html": [
       "<style>\n",
       "  th {\n",
       "    text-align: left !important;\n",
       "  }\n",
       "  td {\n",
       "    text-align: left !important;\n",
       "  }\n",
       "  th:nth-child(1) {\n",
       "    text-align: right;\n",
       "    border-right: 1px solid LightGray;\n",
       "  }\n",
       "  th.float {\n",
       "    text-align: right !important;\n",
       "  }\n",
       "  td.float {\n",
       "    text-align: right !important;\n",
       "  }\n",
       "  th.int {\n",
       "    text-align: right !important;\n",
       "  }\n",
       "  td.int {\n",
       "    text-align: right !important;\n",
       "  }\n",
       "</style>\n",
       "\n",
       "<table class=\"dataframe\">\n",
       "  <thead>\n",
       "    <tr>\n",
       "      \n",
       "        \n",
       "          <th class=\"int\">   </th>\n",
       "        \n",
       "      \n",
       "        \n",
       "          <th class=\"datetime\">date time          </th>\n",
       "        \n",
       "      \n",
       "        \n",
       "          <th class=\"str\">set used             </th>\n",
       "        \n",
       "      \n",
       "        \n",
       "          <th class=\"str\">target</th>\n",
       "        \n",
       "      \n",
       "        \n",
       "          <th class=\"float\">     mae</th>\n",
       "        \n",
       "      \n",
       "        \n",
       "          <th class=\"float\">    rmse</th>\n",
       "        \n",
       "      \n",
       "        \n",
       "          <th class=\"float\">rsquared</th>\n",
       "        \n",
       "      \n",
       "    </tr>\n",
       "    \n",
       "  </thead>\n",
       "  <tbody>\n",
       "    \n",
       "      <tr>\n",
       "        <th>0</th>\n",
       "          \n",
       "            \n",
       "              <td class=\"datetime\">2021-05-16 11:00:24</td>\n",
       "            \n",
       "          \n",
       "            \n",
       "              <td class=\"str\">featuretools_training</td>\n",
       "            \n",
       "          \n",
       "            \n",
       "              <td class=\"str\">pm2.5</td>\n",
       "            \n",
       "          \n",
       "            \n",
       "              <td class=\"float\">38.0455</td>\n",
       "            \n",
       "          \n",
       "            \n",
       "              <td class=\"float\">54.4693</td>\n",
       "            \n",
       "          \n",
       "            \n",
       "              <td class=\"float\">0.6567</td>\n",
       "            \n",
       "          \n",
       "      </tr>\n",
       "    \n",
       "      <tr>\n",
       "        <th>1</th>\n",
       "          \n",
       "            \n",
       "              <td class=\"datetime\">2021-05-16 11:00:24</td>\n",
       "            \n",
       "          \n",
       "            \n",
       "              <td class=\"str\">featuretools_test</td>\n",
       "            \n",
       "          \n",
       "            \n",
       "              <td class=\"str\">pm2.5</td>\n",
       "            \n",
       "          \n",
       "            \n",
       "              <td class=\"float\">45.3084</td>\n",
       "            \n",
       "          \n",
       "            \n",
       "              <td class=\"float\">64.2717</td>\n",
       "            \n",
       "          \n",
       "            \n",
       "              <td class=\"float\">0.5373</td>\n",
       "            \n",
       "          \n",
       "      </tr>\n",
       "    \n",
       "  </tbody>\n",
       "</table>"
      ],
      "text/plain": [
       "      date time             set used                target        mae       rmse   rsquared\n",
       "  0   2021-05-16 11:00:24   featuretools_training   pm2.5     38.0455    54.4693     0.6567\n",
       "  1   2021-05-16 11:00:24   featuretools_test       pm2.5     45.3084    64.2717     0.5373"
      ]
     },
     "execution_count": 30,
     "metadata": {},
     "output_type": "execute_result"
    }
   ],
   "source": [
    "pipe_ft_pr.score(df_featuretools_test)"
   ]
  },
  {
   "cell_type": "markdown",
   "metadata": {},
   "source": [
    "### 3.3 Using tsfresh\n",
    "\n",
    "tsfresh is a rather low-level library. To make things a bit easier, we have written a high-level wrapper which we placed in a separate module (`utils`).\n",
    "\n",
    "To limit the memory consumption, we undertake the following steps:\n",
    "\n",
    "- We limit ourselves to a memory of 1 day from any point in time. This is necessary, because tsfresh duplicates records for every time stamp. That means that looking back 7 days instead of one day, the memory consumption would be  seven times as high.\n",
    "- We extract only tsfresh's **MinimalFCParameters** and **IndexBasedFCParameters** (the latter is a superset of **TimeBasedFCParameters**).\n",
    "\n",
    "In order to make sure that tsfresh's features can be compared to getML's features, we also do the following:\n",
    "\n",
    "- We apply tsfresh's built-in feature selection algorithm.\n",
    "- Of the remaining features, we only keep the 40 features most correlated with the target (in terms of the absolute value of the correlation).\n",
    "- We add the original columns as additional features.\n"
   ]
  },
  {
   "cell_type": "code",
   "execution_count": 31,
   "metadata": {},
   "outputs": [
    {
     "data": {
      "text/html": [
       "<div>\n",
       "<style scoped>\n",
       "    .dataframe tbody tr th:only-of-type {\n",
       "        vertical-align: middle;\n",
       "    }\n",
       "\n",
       "    .dataframe tbody tr th {\n",
       "        vertical-align: top;\n",
       "    }\n",
       "\n",
       "    .dataframe thead th {\n",
       "        text-align: right;\n",
       "    }\n",
       "</style>\n",
       "<table border=\"1\" class=\"dataframe\">\n",
       "  <thead>\n",
       "    <tr style=\"text-align: right;\">\n",
       "      <th></th>\n",
       "      <th>pm2.5</th>\n",
       "      <th>DEWP</th>\n",
       "      <th>TEMP</th>\n",
       "      <th>PRES</th>\n",
       "      <th>Iws</th>\n",
       "      <th>Is</th>\n",
       "      <th>Ir</th>\n",
       "      <th>date</th>\n",
       "      <th>id</th>\n",
       "    </tr>\n",
       "  </thead>\n",
       "  <tbody>\n",
       "    <tr>\n",
       "      <th>24</th>\n",
       "      <td>129.0</td>\n",
       "      <td>-16</td>\n",
       "      <td>-4.0</td>\n",
       "      <td>1020.0</td>\n",
       "      <td>1.79</td>\n",
       "      <td>0</td>\n",
       "      <td>0</td>\n",
       "      <td>2010-01-02 00:00:00</td>\n",
       "      <td>1</td>\n",
       "    </tr>\n",
       "    <tr>\n",
       "      <th>25</th>\n",
       "      <td>148.0</td>\n",
       "      <td>-15</td>\n",
       "      <td>-4.0</td>\n",
       "      <td>1020.0</td>\n",
       "      <td>2.68</td>\n",
       "      <td>0</td>\n",
       "      <td>0</td>\n",
       "      <td>2010-01-02 01:00:00</td>\n",
       "      <td>1</td>\n",
       "    </tr>\n",
       "    <tr>\n",
       "      <th>26</th>\n",
       "      <td>159.0</td>\n",
       "      <td>-11</td>\n",
       "      <td>-5.0</td>\n",
       "      <td>1021.0</td>\n",
       "      <td>3.57</td>\n",
       "      <td>0</td>\n",
       "      <td>0</td>\n",
       "      <td>2010-01-02 02:00:00</td>\n",
       "      <td>1</td>\n",
       "    </tr>\n",
       "    <tr>\n",
       "      <th>27</th>\n",
       "      <td>181.0</td>\n",
       "      <td>-7</td>\n",
       "      <td>-5.0</td>\n",
       "      <td>1022.0</td>\n",
       "      <td>5.36</td>\n",
       "      <td>1</td>\n",
       "      <td>0</td>\n",
       "      <td>2010-01-02 03:00:00</td>\n",
       "      <td>1</td>\n",
       "    </tr>\n",
       "    <tr>\n",
       "      <th>28</th>\n",
       "      <td>138.0</td>\n",
       "      <td>-7</td>\n",
       "      <td>-5.0</td>\n",
       "      <td>1022.0</td>\n",
       "      <td>6.25</td>\n",
       "      <td>2</td>\n",
       "      <td>0</td>\n",
       "      <td>2010-01-02 04:00:00</td>\n",
       "      <td>1</td>\n",
       "    </tr>\n",
       "    <tr>\n",
       "      <th>...</th>\n",
       "      <td>...</td>\n",
       "      <td>...</td>\n",
       "      <td>...</td>\n",
       "      <td>...</td>\n",
       "      <td>...</td>\n",
       "      <td>...</td>\n",
       "      <td>...</td>\n",
       "      <td>...</td>\n",
       "      <td>...</td>\n",
       "    </tr>\n",
       "    <tr>\n",
       "      <th>35059</th>\n",
       "      <td>22.0</td>\n",
       "      <td>-19</td>\n",
       "      <td>7.0</td>\n",
       "      <td>1013.0</td>\n",
       "      <td>114.87</td>\n",
       "      <td>0</td>\n",
       "      <td>0</td>\n",
       "      <td>2013-12-31 19:00:00</td>\n",
       "      <td>1</td>\n",
       "    </tr>\n",
       "    <tr>\n",
       "      <th>35060</th>\n",
       "      <td>18.0</td>\n",
       "      <td>-21</td>\n",
       "      <td>7.0</td>\n",
       "      <td>1014.0</td>\n",
       "      <td>119.79</td>\n",
       "      <td>0</td>\n",
       "      <td>0</td>\n",
       "      <td>2013-12-31 20:00:00</td>\n",
       "      <td>1</td>\n",
       "    </tr>\n",
       "    <tr>\n",
       "      <th>35061</th>\n",
       "      <td>23.0</td>\n",
       "      <td>-21</td>\n",
       "      <td>7.0</td>\n",
       "      <td>1014.0</td>\n",
       "      <td>125.60</td>\n",
       "      <td>0</td>\n",
       "      <td>0</td>\n",
       "      <td>2013-12-31 21:00:00</td>\n",
       "      <td>1</td>\n",
       "    </tr>\n",
       "    <tr>\n",
       "      <th>35062</th>\n",
       "      <td>20.0</td>\n",
       "      <td>-21</td>\n",
       "      <td>6.0</td>\n",
       "      <td>1014.0</td>\n",
       "      <td>130.52</td>\n",
       "      <td>0</td>\n",
       "      <td>0</td>\n",
       "      <td>2013-12-31 22:00:00</td>\n",
       "      <td>1</td>\n",
       "    </tr>\n",
       "    <tr>\n",
       "      <th>35063</th>\n",
       "      <td>23.0</td>\n",
       "      <td>-20</td>\n",
       "      <td>7.0</td>\n",
       "      <td>1014.0</td>\n",
       "      <td>137.67</td>\n",
       "      <td>0</td>\n",
       "      <td>0</td>\n",
       "      <td>2013-12-31 23:00:00</td>\n",
       "      <td>1</td>\n",
       "    </tr>\n",
       "  </tbody>\n",
       "</table>\n",
       "<p>33096 rows × 9 columns</p>\n",
       "</div>"
      ],
      "text/plain": [
       "       pm2.5  DEWP  TEMP    PRES     Iws  Is  Ir                 date  id\n",
       "24     129.0   -16  -4.0  1020.0    1.79   0   0  2010-01-02 00:00:00   1\n",
       "25     148.0   -15  -4.0  1020.0    2.68   0   0  2010-01-02 01:00:00   1\n",
       "26     159.0   -11  -5.0  1021.0    3.57   0   0  2010-01-02 02:00:00   1\n",
       "27     181.0    -7  -5.0  1022.0    5.36   1   0  2010-01-02 03:00:00   1\n",
       "28     138.0    -7  -5.0  1022.0    6.25   2   0  2010-01-02 04:00:00   1\n",
       "...      ...   ...   ...     ...     ...  ..  ..                  ...  ..\n",
       "35059   22.0   -19   7.0  1013.0  114.87   0   0  2013-12-31 19:00:00   1\n",
       "35060   18.0   -21   7.0  1014.0  119.79   0   0  2013-12-31 20:00:00   1\n",
       "35061   23.0   -21   7.0  1014.0  125.60   0   0  2013-12-31 21:00:00   1\n",
       "35062   20.0   -21   6.0  1014.0  130.52   0   0  2013-12-31 22:00:00   1\n",
       "35063   23.0   -20   7.0  1014.0  137.67   0   0  2013-12-31 23:00:00   1\n",
       "\n",
       "[33096 rows x 9 columns]"
      ]
     },
     "execution_count": 31,
     "metadata": {},
     "output_type": "execute_result"
    }
   ],
   "source": [
    "data_train_pandas"
   ]
  },
  {
   "cell_type": "markdown",
   "metadata": {},
   "source": [
    "One of the issues about tsfresh is that is actually requires more memory than allowed by MyBinder. We therefore have to remove the parts that relate to this."
   ]
  },
  {
   "cell_type": "code",
   "execution_count": 32,
   "metadata": {},
   "outputs": [
    {
     "name": "stderr",
     "output_type": "stream",
     "text": [
      "Rolling: 100%|██████████| 20/20 [01:22<00:00,  4.14s/it]\n",
      "Feature Extraction: 100%|██████████| 20/20 [00:48<00:00,  2.44s/it]\n",
      "Feature Extraction: 100%|██████████| 20/20 [01:32<00:00,  4.62s/it]\n"
     ]
    },
    {
     "name": "stdout",
     "output_type": "stream",
     "text": [
      "Selecting the best out of 66 features...\n",
      "Time taken: 0h:4m:5.60373\n",
      "\n"
     ]
    },
    {
     "name": "stderr",
     "output_type": "stream",
     "text": [
      "Rolling: 100%|██████████| 20/20 [00:15<00:00,  1.32it/s]\n",
      "Feature Extraction: 100%|██████████| 20/20 [00:12<00:00,  1.61it/s]\n",
      "Feature Extraction: 100%|██████████| 20/20 [00:23<00:00,  1.20s/it]\n"
     ]
    }
   ],
   "source": [
    "tsfresh_builder = TSFreshBuilder(\n",
    "    num_features=200,\n",
    "    memory=24,\n",
    "    column_id=\"id\",\n",
    "    time_stamp=\"date\",\n",
    "    target=\"pm2.5\")\n",
    "\n",
    "tsfresh_training = tsfresh_builder.fit(data_train_pandas)\n",
    "tsfresh_test = tsfresh_builder.transform(data_test_pandas)"
   ]
  },
  {
   "cell_type": "markdown",
   "metadata": {},
   "source": [
    "tsfresh does not contain built-in machine learning algorithms. In order to ensure a fair comparison, we use the exact same machine learning algorithm we have also used for getML: An XGBoost regressor with all hyperparameters set to their default value.\n",
    "\n",
    "In order to do so, we load the tsfresh features into the getML engine."
   ]
  },
  {
   "cell_type": "code",
   "execution_count": 33,
   "metadata": {},
   "outputs": [],
   "source": [
    "df_tsfresh_training = getml.data.DataFrame.from_pandas(tsfresh_training, name='tsfresh_training')\n",
    "df_tsfresh_test = getml.data.DataFrame.from_pandas(tsfresh_test, name='tsfresh_test')"
   ]
  },
  {
   "cell_type": "markdown",
   "metadata": {},
   "source": [
    "As usual, we need to set roles:"
   ]
  },
  {
   "cell_type": "code",
   "execution_count": 34,
   "metadata": {},
   "outputs": [],
   "source": [
    "def set_roles_tsfresh(df):\n",
    "    df[\"date\"] = df[\"date\"].as_ts()\n",
    "    df.set_role([\"pm2.5\"], getml.data.roles.target)\n",
    "    df.set_role([\"date\"], getml.data.roles.time_stamp)\n",
    "    df.set_role(df.unused_names, getml.data.roles.numerical)\n",
    "    df.set_role([\"id\"], getml.data.roles.unused_float)\n",
    "    return df\n",
    "\n",
    "df_tsfresh_training = set_roles_tsfresh(df_tsfresh_training)\n",
    "df_tsfresh_test = set_roles_tsfresh(df_tsfresh_test)"
   ]
  },
  {
   "cell_type": "markdown",
   "metadata": {},
   "source": [
    "In this case, our pipeline is very simple. It only consists of a single XGBoostRegressor."
   ]
  },
  {
   "cell_type": "code",
   "execution_count": 35,
   "metadata": {},
   "outputs": [
    {
     "data": {
      "text/html": [
       "<pre>Pipeline(preprocessors=[],\n",
       "         feature_learners=[],\n",
       "         feature_selectors=[],\n",
       "         include_categorical=False,\n",
       "         peripheral=[],\n",
       "         population='POPULATION',\n",
       "         predictors=['XGBoostRegressor'],\n",
       "         tags=['tsfresh', 'memory: 1d'],\n",
       "         share_selected_features=0.5)</pre>"
      ],
      "text/plain": [
       "Pipeline(preprocessors=[],\n",
       "         feature_learners=[],\n",
       "         feature_selectors=[],\n",
       "         include_categorical=False,\n",
       "         peripheral=[],\n",
       "         population='POPULATION',\n",
       "         predictors=['XGBoostRegressor'],\n",
       "         tags=['tsfresh', 'memory: 1d'],\n",
       "         share_selected_features=0.5)"
      ]
     },
     "execution_count": 35,
     "metadata": {},
     "output_type": "execute_result"
    }
   ],
   "source": [
    "predictor = getml.predictors.XGBoostRegressor()\n",
    "\n",
    "pipe_tsf_pr = getml.pipeline.Pipeline(\n",
    "    tags=['tsfresh', 'memory: 1d'],\n",
    "    predictors=[predictor]\n",
    ")\n",
    "\n",
    "pipe_tsf_pr"
   ]
  },
  {
   "cell_type": "code",
   "execution_count": 36,
   "metadata": {},
   "outputs": [
    {
     "name": "stdout",
     "output_type": "stream",
     "text": [
      "Checking data model...\n",
      "OK.\n"
     ]
    }
   ],
   "source": [
    "pipe_tsf_pr.check(df_tsfresh_training)"
   ]
  },
  {
   "cell_type": "code",
   "execution_count": 37,
   "metadata": {},
   "outputs": [
    {
     "name": "stdout",
     "output_type": "stream",
     "text": [
      "Checking data model...\n",
      "OK.\n",
      "\n",
      "XGBoost: Training as predictor...\n",
      "[========================================] 100%\n",
      "\n",
      "Trained pipeline.\n",
      "Time taken: 0h:0m:8.629762\n",
      "\n"
     ]
    },
    {
     "data": {
      "text/html": [
       "<pre>Pipeline(preprocessors=[],\n",
       "         feature_learners=[],\n",
       "         feature_selectors=[],\n",
       "         include_categorical=False,\n",
       "         peripheral=[],\n",
       "         population='POPULATION',\n",
       "         predictors=['XGBoostRegressor'],\n",
       "         tags=['tsfresh', 'memory: 1d'],\n",
       "         share_selected_features=0.5)</pre><br><pre>url: <a href='http://localhost:1709/#/getpipeline/air_pollution/1t03eT/0/' target=\"_blank\">http://localhost:1709/#/getpipeline/air_pollution/1t03eT/0/</a></pre>"
      ],
      "text/plain": [
       "Pipeline(preprocessors=[],\n",
       "         feature_learners=[],\n",
       "         feature_selectors=[],\n",
       "         include_categorical=False,\n",
       "         peripheral=[],\n",
       "         population='POPULATION',\n",
       "         predictors=['XGBoostRegressor'],\n",
       "         tags=['tsfresh', 'memory: 1d'],\n",
       "         share_selected_features=0.5)\n",
       "\n",
       "url: http://localhost:1709/#/getpipeline/air_pollution/1t03eT/0/"
      ]
     },
     "execution_count": 37,
     "metadata": {},
     "output_type": "execute_result"
    }
   ],
   "source": [
    "pipe_tsf_pr.fit(df_tsfresh_training)"
   ]
  },
  {
   "cell_type": "code",
   "execution_count": 38,
   "metadata": {},
   "outputs": [
    {
     "name": "stdout",
     "output_type": "stream",
     "text": [
      "\n"
     ]
    },
    {
     "data": {
      "text/html": [
       "<style>\n",
       "  th {\n",
       "    text-align: left !important;\n",
       "  }\n",
       "  td {\n",
       "    text-align: left !important;\n",
       "  }\n",
       "  th:nth-child(1) {\n",
       "    text-align: right;\n",
       "    border-right: 1px solid LightGray;\n",
       "  }\n",
       "  th.float {\n",
       "    text-align: right !important;\n",
       "  }\n",
       "  td.float {\n",
       "    text-align: right !important;\n",
       "  }\n",
       "  th.int {\n",
       "    text-align: right !important;\n",
       "  }\n",
       "  td.int {\n",
       "    text-align: right !important;\n",
       "  }\n",
       "</style>\n",
       "\n",
       "<table class=\"dataframe\">\n",
       "  <thead>\n",
       "    <tr>\n",
       "      \n",
       "        \n",
       "          <th class=\"int\">   </th>\n",
       "        \n",
       "      \n",
       "        \n",
       "          <th class=\"datetime\">date time          </th>\n",
       "        \n",
       "      \n",
       "        \n",
       "          <th class=\"str\">set used        </th>\n",
       "        \n",
       "      \n",
       "        \n",
       "          <th class=\"str\">target</th>\n",
       "        \n",
       "      \n",
       "        \n",
       "          <th class=\"float\">     mae</th>\n",
       "        \n",
       "      \n",
       "        \n",
       "          <th class=\"float\">    rmse</th>\n",
       "        \n",
       "      \n",
       "        \n",
       "          <th class=\"float\">rsquared</th>\n",
       "        \n",
       "      \n",
       "    </tr>\n",
       "    \n",
       "  </thead>\n",
       "  <tbody>\n",
       "    \n",
       "      <tr>\n",
       "        <th>0</th>\n",
       "          \n",
       "            \n",
       "              <td class=\"datetime\">2021-05-16 11:05:39</td>\n",
       "            \n",
       "          \n",
       "            \n",
       "              <td class=\"str\">tsfresh_training</td>\n",
       "            \n",
       "          \n",
       "            \n",
       "              <td class=\"str\">pm2.5</td>\n",
       "            \n",
       "          \n",
       "            \n",
       "              <td class=\"float\">40.7577</td>\n",
       "            \n",
       "          \n",
       "            \n",
       "              <td class=\"float\">57.8644</td>\n",
       "            \n",
       "          \n",
       "            \n",
       "              <td class=\"float\">0.6098</td>\n",
       "            \n",
       "          \n",
       "      </tr>\n",
       "    \n",
       "      <tr>\n",
       "        <th>1</th>\n",
       "          \n",
       "            \n",
       "              <td class=\"datetime\">2021-05-16 11:05:39</td>\n",
       "            \n",
       "          \n",
       "            \n",
       "              <td class=\"str\">tsfresh_test</td>\n",
       "            \n",
       "          \n",
       "            \n",
       "              <td class=\"str\">pm2.5</td>\n",
       "            \n",
       "          \n",
       "            \n",
       "              <td class=\"float\">46.4913</td>\n",
       "            \n",
       "          \n",
       "            \n",
       "              <td class=\"float\">65.9863</td>\n",
       "            \n",
       "          \n",
       "            \n",
       "              <td class=\"float\">0.5087</td>\n",
       "            \n",
       "          \n",
       "      </tr>\n",
       "    \n",
       "  </tbody>\n",
       "</table>"
      ],
      "text/plain": [
       "      date time             set used           target        mae       rmse   rsquared\n",
       "  0   2021-05-16 11:05:39   tsfresh_training   pm2.5     40.7577    57.8644     0.6098\n",
       "  1   2021-05-16 11:05:39   tsfresh_test       pm2.5     46.4913    65.9863     0.5087"
      ]
     },
     "execution_count": 38,
     "metadata": {},
     "output_type": "execute_result"
    }
   ],
   "source": [
    "pipe_tsf_pr.score(df_tsfresh_test)"
   ]
  },
  {
   "cell_type": "markdown",
   "metadata": {},
   "source": [
    "## 3. Comparison"
   ]
  },
  {
   "cell_type": "code",
   "execution_count": 39,
   "metadata": {},
   "outputs": [
    {
     "data": {
      "text/html": [
       "<div>\n",
       "<style scoped>\n",
       "    .dataframe tbody tr th:only-of-type {\n",
       "        vertical-align: middle;\n",
       "    }\n",
       "\n",
       "    .dataframe tbody tr th {\n",
       "        vertical-align: top;\n",
       "    }\n",
       "\n",
       "    .dataframe thead th {\n",
       "        text-align: right;\n",
       "    }\n",
       "</style>\n",
       "<table border=\"1\" class=\"dataframe\">\n",
       "  <thead>\n",
       "    <tr style=\"text-align: right;\">\n",
       "      <th></th>\n",
       "      <th>runtime</th>\n",
       "      <th>num_features</th>\n",
       "      <th>features_per_second</th>\n",
       "      <th>speedup</th>\n",
       "      <th>speedup_per_feature</th>\n",
       "      <th>mae</th>\n",
       "      <th>rmse</th>\n",
       "      <th>rsquared</th>\n",
       "    </tr>\n",
       "  </thead>\n",
       "  <tbody>\n",
       "    <tr>\n",
       "      <th>getML: FastProp</th>\n",
       "      <td>0 days 00:00:32.363776</td>\n",
       "      <td>226</td>\n",
       "      <td>6.983094</td>\n",
       "      <td>1.000000</td>\n",
       "      <td>1.000000</td>\n",
       "      <td>44.586666</td>\n",
       "      <td>63.596680</td>\n",
       "      <td>0.545994</td>\n",
       "    </tr>\n",
       "    <tr>\n",
       "      <th>featuretools</th>\n",
       "      <td>0 days 00:14:39.009478</td>\n",
       "      <td>133</td>\n",
       "      <td>0.151307</td>\n",
       "      <td>27.160288</td>\n",
       "      <td>46.151924</td>\n",
       "      <td>45.308428</td>\n",
       "      <td>64.271739</td>\n",
       "      <td>0.537296</td>\n",
       "    </tr>\n",
       "    <tr>\n",
       "      <th>tsfresh</th>\n",
       "      <td>0 days 00:04:05.603730</td>\n",
       "      <td>55</td>\n",
       "      <td>0.223938</td>\n",
       "      <td>7.588847</td>\n",
       "      <td>31.183160</td>\n",
       "      <td>46.491281</td>\n",
       "      <td>65.986329</td>\n",
       "      <td>0.508669</td>\n",
       "    </tr>\n",
       "  </tbody>\n",
       "</table>\n",
       "</div>"
      ],
      "text/plain": [
       "                               runtime  num_features  features_per_second  \\\n",
       "getML: FastProp 0 days 00:00:32.363776           226             6.983094   \n",
       "featuretools    0 days 00:14:39.009478           133             0.151307   \n",
       "tsfresh         0 days 00:04:05.603730            55             0.223938   \n",
       "\n",
       "                   speedup  speedup_per_feature        mae       rmse  \\\n",
       "getML: FastProp   1.000000             1.000000  44.586666  63.596680   \n",
       "featuretools     27.160288            46.151924  45.308428  64.271739   \n",
       "tsfresh           7.588847            31.183160  46.491281  65.986329   \n",
       "\n",
       "                 rsquared  \n",
       "getML: FastProp  0.545994  \n",
       "featuretools     0.537296  \n",
       "tsfresh          0.508669  "
      ]
     },
     "execution_count": 39,
     "metadata": {},
     "output_type": "execute_result"
    }
   ],
   "source": [
    "num_features = dict(\n",
    "    fastprop=226,\n",
    "    featuretools=133,\n",
    "    tsfresh=55,\n",
    ")\n",
    "\n",
    "runtime_per_feature = [\n",
    "    fastprop_runtime / num_features['fastprop'],\n",
    "    ft_builder.runtime / num_features['featuretools'],\n",
    "    tsfresh_builder.runtime / num_features['tsfresh'],\n",
    "]\n",
    "\n",
    "features_per_second = [1.0/r.total_seconds() for r in runtime_per_feature]\n",
    "\n",
    "speedup_per_feature = [r/runtime_per_feature[0] for r in runtime_per_feature]\n",
    "\n",
    "comparison = pd.DataFrame(\n",
    "    dict(\n",
    "        runtime=[fastprop_runtime, ft_builder.runtime, tsfresh_builder.runtime],\n",
    "        num_features=num_features.values(),\n",
    "        features_per_second=features_per_second,\n",
    "        speedup=[1, ft_builder.runtime/fastprop_runtime, tsfresh_builder.runtime/fastprop_runtime],\n",
    "        speedup_per_feature=speedup_per_feature,\n",
    "        mae=[pipe_fp_pr.mae, pipe_ft_pr.mae, pipe_tsf_pr.mae],\n",
    "        rmse=[pipe_fp_pr.rmse, pipe_ft_pr.rmse, pipe_tsf_pr.rmse],\n",
    "        rsquared=[pipe_fp_pr.rsquared, pipe_ft_pr.rsquared, pipe_tsf_pr.rsquared],\n",
    "    )\n",
    ")\n",
    "\n",
    "comparison.index = [\"getML: FastProp\", \"featuretools\", \"tsfresh\"]\n",
    "\n",
    "comparison"
   ]
  },
  {
   "cell_type": "markdown",
   "metadata": {},
   "source": [
    "## 4. Conclusion\n",
    "\n",
    "We have compared getML's feature learning algorithms to tsfresh's brute-force feature engineering approaches on a data set related to air pollution in China. We found that getML significantly outperforms featuretools and tsfresh. These results are consistent with the view that feature learning can yield significant improvements over simple propositionalization approaches.\n",
    "\n",
    "However, there are other datasets on which simple propositionalization performs well. Our suggestion is therefore to think of algorithms like `FastProp` and `RelMT` as tools in a toolbox. If a simple tool like `FastProp` gets the job done, then use that. But when you need more advanced approaches, like `RelMT`, you should have them at your disposal as well.\n",
    "\n",
    "You are encouraged to reproduce these results. You will need getML (https://getml.com/product) and tsfresh (https://tsfresh.readthedocs.io/en/latest/). You can download both for free. "
   ]
  },
  {
   "cell_type": "code",
   "execution_count": null,
   "metadata": {},
   "outputs": [],
   "source": []
  }
 ],
 "metadata": {
  "celltoolbar": "Tags",
  "kernelspec": {
   "display_name": "Python 3",
   "language": "python",
   "name": "python3"
  },
  "language_info": {
   "codemirror_mode": {
    "name": "ipython",
    "version": 3
   },
   "file_extension": ".py",
   "mimetype": "text/x-python",
   "name": "python",
   "nbconvert_exporter": "python",
   "pygments_lexer": "ipython3",
   "version": "3.9.4"
  }
 },
 "nbformat": 4,
 "nbformat_minor": 4
}
