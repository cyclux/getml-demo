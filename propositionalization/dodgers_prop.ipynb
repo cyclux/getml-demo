{
 "cells": [
  {
   "cell_type": "markdown",
   "metadata": {},
   "source": [
    "# Propositionalization: Traffic near Dodgers' stadium\n",
    "\n",
    "In this notebbok, we compare getML's FastProp against well-known feature engineering libraries featuretools and tsfresh.\n",
    "\n",
    "Summary:\n",
    "\n",
    "- Prediction type: __Regression model__\n",
    "- Domain: __Transportation__\n",
    "- Prediction target: __traffic volume__ \n",
    "- Source data: __Univariate time series__\n",
    "- Population size: __47497__\n",
    "\n",
    "_Author: Dr. Patrick Urbanke_"
   ]
  },
  {
   "cell_type": "markdown",
   "metadata": {},
   "source": [
    " "
   ]
  },
  {
   "cell_type": "markdown",
   "metadata": {},
   "source": [
    "# Background\n",
    "\n",
    "A common approach to feature engineering is to generate attribute-value representations from relational data by applying a fixed set of aggregations to columns of interest and perform a feature selection on the (possibly large) set of generated features afterward. In academia, this approach is called _propositionalization._\n",
    "\n",
    "getML's [FastProp](https://docs.getml.com/latest/user_guide/feature_engineering/feature_engineering.html#fastprop) is an implementation of this propositionalization approach that has been optimized for speed and memory efficiency. In this notebook, we want to demonstrate how – well – fast FastProp is. To this end, we will benchmark FastProp against the popular feature engineering libraries [featuretools](https://www.featuretools.com/) and [tsfresh](https://tsfresh.readthedocs.io/en/latest/). Both of these libraries use propositionalization approaches for feature engineering.\n",
    "\n",
    "In this notebook, we use traffic data that was collected for the Glendale on ramp for the 101 North freeway in Los Angeles. For further details about the data set refer to [the full notebook](../dodgers.ipynb)."
   ]
  },
  {
   "cell_type": "markdown",
   "metadata": {},
   "source": [
    " "
   ]
  },
  {
   "cell_type": "markdown",
   "metadata": {},
   "source": [
    "### A web frontend for getML\n",
    "\n",
    "The getML monitor is a frontend built to support your work with getML. The getML monitor displays information such as the imported data frames, trained pipelines and allows easy data and feature exploration. You can launch the getML monitor [here](http://localhost:1709)."
   ]
  },
  {
   "cell_type": "markdown",
   "metadata": {},
   "source": [
    " "
   ]
  },
  {
   "cell_type": "markdown",
   "metadata": {},
   "source": [
    " "
   ]
  },
  {
   "cell_type": "markdown",
   "metadata": {},
   "source": [
    "# Analysis"
   ]
  },
  {
   "cell_type": "markdown",
   "metadata": {},
   "source": [
    "Let's get started with the analysis and set-up your session:"
   ]
  },
  {
   "cell_type": "code",
   "execution_count": 1,
   "metadata": {},
   "outputs": [],
   "source": [
    "import datetime\n",
    "import gc\n",
    "import os\n",
    "from urllib import request\n",
    "import time\n",
    "\n",
    "import numpy as np\n",
    "import pandas as pd\n",
    "from scipy.stats import pearsonr\n",
    "import scipy\n",
    "\n",
    "from utils import FTTimeSeriesBuilder, TSFreshBuilder\n",
    "\n",
    "from IPython.display import Image\n",
    "import matplotlib.pyplot as plt\n",
    "plt.style.use('seaborn')\n",
    "%matplotlib inline"
   ]
  },
  {
   "cell_type": "markdown",
   "metadata": {},
   "source": [
    "For various technical reasons, we want to keep our MyBinder notebook short. That is why we pre-store the features for prophet and tsfresh. However, you are very welcome to try this at home and fully reproduce our results. You can just set the two constants to \"True\"."
   ]
  },
  {
   "cell_type": "code",
   "execution_count": 2,
   "metadata": {},
   "outputs": [
    {
     "name": "stdout",
     "output_type": "stream",
     "text": [
      "\n",
      "Connected to project 'dodgers'\n"
     ]
    }
   ],
   "source": [
    "import getml\n",
    "\n",
    "getml.engine.set_project('dodgers')"
   ]
  },
  {
   "cell_type": "markdown",
   "metadata": {},
   "source": [
    " "
   ]
  },
  {
   "cell_type": "markdown",
   "metadata": {},
   "source": [
    "## 1. Loading data"
   ]
  },
  {
   "cell_type": "markdown",
   "metadata": {},
   "source": [
    "### 1.1 Download from source\n",
    "\n",
    "We begin by downloading the data from the UC Irvine Machine Learning repository:"
   ]
  },
  {
   "cell_type": "code",
   "execution_count": 3,
   "metadata": {},
   "outputs": [],
   "source": [
    "fname = \"Dodgers.data\"\n",
    "\n",
    "if not os.path.exists(fname):\n",
    "    fname, res = request.urlretrieve(\n",
    "        \"https://archive.ics.uci.edu/ml/machine-learning-databases/event-detection/\" + fname, \n",
    "        fname\n",
    "    )\n",
    "    \n",
    "data_full_pandas = pd.read_csv(fname, header=None)\n",
    "data_full_pandas.columns = [\"ds\", \"y\"]"
   ]
  },
  {
   "cell_type": "code",
   "execution_count": 4,
   "metadata": {},
   "outputs": [],
   "source": [
    "data_full_pandas[\"ds\"] = [\n",
    "    datetime.datetime.strptime(dt, \"%m/%d/%Y %H:%M\") for dt in data_full_pandas[\"ds\"]\n",
    "]"
   ]
  },
  {
   "cell_type": "code",
   "execution_count": 5,
   "metadata": {},
   "outputs": [
    {
     "data": {
      "text/html": [
       "<div>\n",
       "<style scoped>\n",
       "    .dataframe tbody tr th:only-of-type {\n",
       "        vertical-align: middle;\n",
       "    }\n",
       "\n",
       "    .dataframe tbody tr th {\n",
       "        vertical-align: top;\n",
       "    }\n",
       "\n",
       "    .dataframe thead th {\n",
       "        text-align: right;\n",
       "    }\n",
       "</style>\n",
       "<table border=\"1\" class=\"dataframe\">\n",
       "  <thead>\n",
       "    <tr style=\"text-align: right;\">\n",
       "      <th></th>\n",
       "      <th>ds</th>\n",
       "      <th>y</th>\n",
       "    </tr>\n",
       "  </thead>\n",
       "  <tbody>\n",
       "    <tr>\n",
       "      <th>0</th>\n",
       "      <td>2005-04-10 00:00:00</td>\n",
       "      <td>-1</td>\n",
       "    </tr>\n",
       "    <tr>\n",
       "      <th>1</th>\n",
       "      <td>2005-04-10 00:05:00</td>\n",
       "      <td>-1</td>\n",
       "    </tr>\n",
       "    <tr>\n",
       "      <th>2</th>\n",
       "      <td>2005-04-10 00:10:00</td>\n",
       "      <td>-1</td>\n",
       "    </tr>\n",
       "    <tr>\n",
       "      <th>3</th>\n",
       "      <td>2005-04-10 00:15:00</td>\n",
       "      <td>-1</td>\n",
       "    </tr>\n",
       "    <tr>\n",
       "      <th>4</th>\n",
       "      <td>2005-04-10 00:20:00</td>\n",
       "      <td>-1</td>\n",
       "    </tr>\n",
       "    <tr>\n",
       "      <th>...</th>\n",
       "      <td>...</td>\n",
       "      <td>...</td>\n",
       "    </tr>\n",
       "    <tr>\n",
       "      <th>50395</th>\n",
       "      <td>2005-10-01 23:35:00</td>\n",
       "      <td>-1</td>\n",
       "    </tr>\n",
       "    <tr>\n",
       "      <th>50396</th>\n",
       "      <td>2005-10-01 23:40:00</td>\n",
       "      <td>-1</td>\n",
       "    </tr>\n",
       "    <tr>\n",
       "      <th>50397</th>\n",
       "      <td>2005-10-01 23:45:00</td>\n",
       "      <td>-1</td>\n",
       "    </tr>\n",
       "    <tr>\n",
       "      <th>50398</th>\n",
       "      <td>2005-10-01 23:50:00</td>\n",
       "      <td>-1</td>\n",
       "    </tr>\n",
       "    <tr>\n",
       "      <th>50399</th>\n",
       "      <td>2005-10-01 23:55:00</td>\n",
       "      <td>-1</td>\n",
       "    </tr>\n",
       "  </tbody>\n",
       "</table>\n",
       "<p>50400 rows × 2 columns</p>\n",
       "</div>"
      ],
      "text/plain": [
       "                       ds  y\n",
       "0     2005-04-10 00:00:00 -1\n",
       "1     2005-04-10 00:05:00 -1\n",
       "2     2005-04-10 00:10:00 -1\n",
       "3     2005-04-10 00:15:00 -1\n",
       "4     2005-04-10 00:20:00 -1\n",
       "...                   ... ..\n",
       "50395 2005-10-01 23:35:00 -1\n",
       "50396 2005-10-01 23:40:00 -1\n",
       "50397 2005-10-01 23:45:00 -1\n",
       "50398 2005-10-01 23:50:00 -1\n",
       "50399 2005-10-01 23:55:00 -1\n",
       "\n",
       "[50400 rows x 2 columns]"
      ]
     },
     "execution_count": 5,
     "metadata": {},
     "output_type": "execute_result"
    }
   ],
   "source": [
    "data_full_pandas"
   ]
  },
  {
   "cell_type": "markdown",
   "metadata": {},
   "source": [
    "We also want to separate our data set into a training and testing set:"
   ]
  },
  {
   "cell_type": "code",
   "execution_count": 6,
   "metadata": {},
   "outputs": [],
   "source": [
    "separation = datetime.datetime.strptime(\"8/20/2005 0:00\", \"%m/%d/%Y %H:%M\")\n",
    "\n",
    "data_train_pandas = data_full_pandas[data_full_pandas[\"ds\"] < separation]\n",
    "data_test_pandas = data_full_pandas[data_full_pandas[\"ds\"] > separation]"
   ]
  },
  {
   "cell_type": "markdown",
   "metadata": {},
   "source": [
    " "
   ]
  },
  {
   "cell_type": "markdown",
   "metadata": {},
   "source": [
    " "
   ]
  },
  {
   "cell_type": "markdown",
   "metadata": {},
   "source": [
    "### 1.2 Prepare data for getML"
   ]
  },
  {
   "cell_type": "code",
   "execution_count": 7,
   "metadata": {},
   "outputs": [],
   "source": [
    "data_full = getml.data.DataFrame.from_pandas(data_full_pandas, \"data_full\")\n",
    "data_train = getml.data.DataFrame.from_pandas(data_train_pandas, \"data_train\")\n",
    "data_test = getml.data.DataFrame.from_pandas(data_test_pandas, \"data_test\")"
   ]
  },
  {
   "cell_type": "code",
   "execution_count": 8,
   "metadata": {},
   "outputs": [],
   "source": [
    "for df in [data_full, data_train, data_test]:\n",
    "    df.set_role(\"y\", getml.data.roles.target)\n",
    "    df.set_role(\"ds\", getml.data.roles.time_stamp)"
   ]
  },
  {
   "cell_type": "code",
   "execution_count": 9,
   "metadata": {},
   "outputs": [
    {
     "data": {
      "text/html": [
       "<style>\n",
       "  table {\n",
       "    font-family: Helvetica, sans-serif;\n",
       "  }\n",
       "\n",
       "  th {\n",
       "    text-align: left !important;\n",
       "  }\n",
       "  td {\n",
       "    text-align: left !important;\n",
       "  }\n",
       "  th:nth-child(1) {\n",
       "    text-align: right !important;\n",
       "    border-right: 1px solid LightGray;\n",
       "  }\n",
       "  th.sub-header {\n",
       "    font-weight: normal;\n",
       "    font-style: italic;\n",
       "  }\n",
       "  .join_key,\n",
       "  .numerical,\n",
       "  .target,\n",
       "  .unused_float {\n",
       "    text-align: right !important;\n",
       "  }\n",
       "\n",
       "  .char-align {\n",
       "    text-align: right !important;\n",
       "  }\n",
       "  span.left {\n",
       "    text-align: right;\n",
       "    width: 3em;\n",
       "  }\n",
       "  span.right {\n",
       "    float: right;\n",
       "    text-align: left;\n",
       "  }\n",
       "</style>\n",
       "\n",
       "<table class=\"dataframe\">\n",
       "  <thead>\n",
       "    <tr>\n",
       "      \n",
       "        \n",
       "          <th> Name</th>\n",
       "        \n",
       "      \n",
       "        \n",
       "          <th class=\"time_stamp\">ds                         </th>\n",
       "        \n",
       "      \n",
       "        \n",
       "          <th class=\"target\">     y</th>\n",
       "        \n",
       "      \n",
       "    </tr>\n",
       "    \n",
       "      <tr>\n",
       "        \n",
       "          \n",
       "            <th class=\"sub-header\"> Role</th>\n",
       "          \n",
       "        \n",
       "          \n",
       "            <th class=\"sub-header time_stamp\">time_stamp                 </th>\n",
       "          \n",
       "        \n",
       "          \n",
       "            <th class=\"sub-header target\">target</th>\n",
       "          \n",
       "        \n",
       "      </tr>\n",
       "    \n",
       "      <tr>\n",
       "        \n",
       "          \n",
       "            <th class=\"sub-header\">Units</th>\n",
       "          \n",
       "        \n",
       "          \n",
       "            <th class=\"sub-header time_stamp\">time stamp, comparison only</th>\n",
       "          \n",
       "        \n",
       "          \n",
       "            <th class=\"sub-header target\">      </th>\n",
       "          \n",
       "        \n",
       "      </tr>\n",
       "    \n",
       "  </thead>\n",
       "  <tbody>\n",
       "    \n",
       "      <tr>\n",
       "        <th>0</th>\n",
       "        \n",
       "          \n",
       "            <td class=\"time_stamp\">2005-04-10</td>\n",
       "          \n",
       "        \n",
       "          \n",
       "            \n",
       "              \n",
       "              \n",
       "          \n",
       "            <td class=\"char-align target\">\n",
       "              <span class=\"left\">-1</span\n",
       "              ><span class=\"right\" style=\"width: 0ch\"\n",
       "                >&nbsp;</span\n",
       "              >\n",
       "            </td>\n",
       "          \n",
       "        \n",
       "      </tr>\n",
       "    \n",
       "      <tr>\n",
       "        <th>1</th>\n",
       "        \n",
       "          \n",
       "            <td class=\"time_stamp\">2005-04-10 00:05:00</td>\n",
       "          \n",
       "        \n",
       "          \n",
       "            \n",
       "              \n",
       "              \n",
       "          \n",
       "            <td class=\"char-align target\">\n",
       "              <span class=\"left\">-1</span\n",
       "              ><span class=\"right\" style=\"width: 0ch\"\n",
       "                >&nbsp;</span\n",
       "              >\n",
       "            </td>\n",
       "          \n",
       "        \n",
       "      </tr>\n",
       "    \n",
       "      <tr>\n",
       "        <th>2</th>\n",
       "        \n",
       "          \n",
       "            <td class=\"time_stamp\">2005-04-10 00:10:00</td>\n",
       "          \n",
       "        \n",
       "          \n",
       "            \n",
       "              \n",
       "              \n",
       "          \n",
       "            <td class=\"char-align target\">\n",
       "              <span class=\"left\">-1</span\n",
       "              ><span class=\"right\" style=\"width: 0ch\"\n",
       "                >&nbsp;</span\n",
       "              >\n",
       "            </td>\n",
       "          \n",
       "        \n",
       "      </tr>\n",
       "    \n",
       "      <tr>\n",
       "        <th>3</th>\n",
       "        \n",
       "          \n",
       "            <td class=\"time_stamp\">2005-04-10 00:15:00</td>\n",
       "          \n",
       "        \n",
       "          \n",
       "            \n",
       "              \n",
       "              \n",
       "          \n",
       "            <td class=\"char-align target\">\n",
       "              <span class=\"left\">-1</span\n",
       "              ><span class=\"right\" style=\"width: 0ch\"\n",
       "                >&nbsp;</span\n",
       "              >\n",
       "            </td>\n",
       "          \n",
       "        \n",
       "      </tr>\n",
       "    \n",
       "      <tr>\n",
       "        <th>4</th>\n",
       "        \n",
       "          \n",
       "            <td class=\"time_stamp\">2005-04-10 00:20:00</td>\n",
       "          \n",
       "        \n",
       "          \n",
       "            \n",
       "              \n",
       "              \n",
       "          \n",
       "            <td class=\"char-align target\">\n",
       "              <span class=\"left\">-1</span\n",
       "              ><span class=\"right\" style=\"width: 0ch\"\n",
       "                >&nbsp;</span\n",
       "              >\n",
       "            </td>\n",
       "          \n",
       "        \n",
       "      </tr>\n",
       "    \n",
       "      <tr>\n",
       "        <th></th>\n",
       "        \n",
       "          \n",
       "            <td class=\"time_stamp\">...</td>\n",
       "          \n",
       "        \n",
       "          \n",
       "            \n",
       "              \n",
       "              \n",
       "          \n",
       "            <td class=\"char-align target\">\n",
       "              <span class=\"left\">...</span\n",
       "              ><span class=\"right\" style=\"width: 0ch\"\n",
       "                >&nbsp;</span\n",
       "              >\n",
       "            </td>\n",
       "          \n",
       "        \n",
       "      </tr>\n",
       "    \n",
       "      <tr>\n",
       "        <th>50395</th>\n",
       "        \n",
       "          \n",
       "            <td class=\"time_stamp\">2005-10-01 23:35:00</td>\n",
       "          \n",
       "        \n",
       "          \n",
       "            \n",
       "              \n",
       "              \n",
       "          \n",
       "            <td class=\"char-align target\">\n",
       "              <span class=\"left\">-1</span\n",
       "              ><span class=\"right\" style=\"width: 0ch\"\n",
       "                >&nbsp;</span\n",
       "              >\n",
       "            </td>\n",
       "          \n",
       "        \n",
       "      </tr>\n",
       "    \n",
       "      <tr>\n",
       "        <th>50396</th>\n",
       "        \n",
       "          \n",
       "            <td class=\"time_stamp\">2005-10-01 23:40:00</td>\n",
       "          \n",
       "        \n",
       "          \n",
       "            \n",
       "              \n",
       "              \n",
       "          \n",
       "            <td class=\"char-align target\">\n",
       "              <span class=\"left\">-1</span\n",
       "              ><span class=\"right\" style=\"width: 0ch\"\n",
       "                >&nbsp;</span\n",
       "              >\n",
       "            </td>\n",
       "          \n",
       "        \n",
       "      </tr>\n",
       "    \n",
       "      <tr>\n",
       "        <th>50397</th>\n",
       "        \n",
       "          \n",
       "            <td class=\"time_stamp\">2005-10-01 23:45:00</td>\n",
       "          \n",
       "        \n",
       "          \n",
       "            \n",
       "              \n",
       "              \n",
       "          \n",
       "            <td class=\"char-align target\">\n",
       "              <span class=\"left\">-1</span\n",
       "              ><span class=\"right\" style=\"width: 0ch\"\n",
       "                >&nbsp;</span\n",
       "              >\n",
       "            </td>\n",
       "          \n",
       "        \n",
       "      </tr>\n",
       "    \n",
       "      <tr>\n",
       "        <th>50398</th>\n",
       "        \n",
       "          \n",
       "            <td class=\"time_stamp\">2005-10-01 23:50:00</td>\n",
       "          \n",
       "        \n",
       "          \n",
       "            \n",
       "              \n",
       "              \n",
       "          \n",
       "            <td class=\"char-align target\">\n",
       "              <span class=\"left\">-1</span\n",
       "              ><span class=\"right\" style=\"width: 0ch\"\n",
       "                >&nbsp;</span\n",
       "              >\n",
       "            </td>\n",
       "          \n",
       "        \n",
       "      </tr>\n",
       "    \n",
       "      <tr>\n",
       "        <th>50399</th>\n",
       "        \n",
       "          \n",
       "            <td class=\"time_stamp\">2005-10-01 23:55:00</td>\n",
       "          \n",
       "        \n",
       "          \n",
       "            \n",
       "              \n",
       "              \n",
       "          \n",
       "            <td class=\"char-align target\">\n",
       "              <span class=\"left\">-1</span\n",
       "              ><span class=\"right\" style=\"width: 0ch\"\n",
       "                >&nbsp;</span\n",
       "              >\n",
       "            </td>\n",
       "          \n",
       "        \n",
       "      </tr>\n",
       "    \n",
       "  </tbody>\n",
       "</table>\n",
       "\n",
       "  <p>\n",
       "    50400 rows x 2 columns<br />\n",
       "    memory usage: 0.81 MB<br />\n",
       "    name: data_full<br />\n",
       "    type: getml.data.DataFrame<br />\n",
       "    url: <a href=\"http://localhost:1709/#/getdataframe/dodgers/data_full/\" target=\"_blank\"> http://localhost:1709/#/getdataframe/dodgers/data_full/</a>\n",
       "  </p>\n"
      ],
      "text/plain": [
       " Name   ds                                 y\n",
       " Role   time_stamp                    target\n",
       "Units   time stamp, comparison only         \n",
       "    0   2005-04-10                       -1 \n",
       "    1   2005-04-10 00:05:00              -1 \n",
       "    2   2005-04-10 00:10:00              -1 \n",
       "    3   2005-04-10 00:15:00              -1 \n",
       "    4   2005-04-10 00:20:00              -1 \n",
       "        ...                              ...\n",
       "50395   2005-10-01 23:35:00              -1 \n",
       "50396   2005-10-01 23:40:00              -1 \n",
       "50397   2005-10-01 23:45:00              -1 \n",
       "50398   2005-10-01 23:50:00              -1 \n",
       "50399   2005-10-01 23:55:00              -1 \n",
       "\n",
       "\n",
       "50400 rows x 2 columns\n",
       "memory usage: 0.81 MB\n",
       "name: data_full\n",
       "type: getml.data.DataFrame\n",
       "url: http://localhost:1709/#/getdataframe/dodgers/data_full/"
      ]
     },
     "execution_count": 9,
     "metadata": {},
     "output_type": "execute_result"
    }
   ],
   "source": [
    "data_full"
   ]
  },
  {
   "cell_type": "markdown",
   "metadata": {},
   "source": [
    " "
   ]
  },
  {
   "cell_type": "markdown",
   "metadata": {},
   "source": [
    " "
   ]
  },
  {
   "cell_type": "markdown",
   "metadata": {},
   "source": [
    "### 1.3 Define relational model\n",
    "\n",
    "To start with relational learning, we need to specify the data model. We manually replicate the appropriate time series structure by setting time series related join conditions (`horizon`, `memory` and `allow_lagged_targets`). This is done abstractly using [Placeholders](https://docs.getml.com/latest/user_guide/data_model/data_model.html#placeholders)\n",
    "\n",
    "The data model consists of two tables:\n",
    "* __Population table__ `traffic_{test/train}`: holds target and the contemporarily available time-based components\n",
    "* __Peripheral table__ `traffic`: same table as the population table\n",
    "* Join between both placeholders specifies (`horizon`) to prevent leaks and (`memory`) that keeps the computations feasible"
   ]
  },
  {
   "cell_type": "code",
   "execution_count": 10,
   "metadata": {},
   "outputs": [
    {
     "data": {
      "text/html": [
       "<div style=\"height:100px;width:660px;position:relative;\"><svg height=\"90\" width=\"650\"><rect y=\"0\" x=\"0\" rx=\"10\" ry=\"10\" width=\"150\" height=\"90\" style=\"fill:#6829c2;stroke-width:0;\" /><text y=\"73.8\"\" x=\"75.0\" dominant-baseline=\"middle\" text-anchor=\"middle\" fill=\"white\">peripheral</text><rect x=\"51\" y=\"10\" rx=\"4\" ry=\"4\" width=\"48\" height=\"48\" style=\" fill:#6829c2;stroke:#ffffff;stroke-width:3;\" /><line x1=\"67.0\" y1=\"10\" x2=\"67.0\" y2=\"58\" style=\"stroke:white;stroke-width:3\" /><line x1=\"83.0\" y1=\"10\" x2=\"83.0\" y2=\"58\" style=\"stroke:white;stroke-width:3\" /><line x1=\"51\" y1=\"26.0\" x2=\"99\" y2=\"26.0\" style=\"stroke:white;stroke-width:3\" /><line x1=\"51\" y1=\"42.0\" x2=\"99\" y2=\"42.0\" style=\"stroke:white;stroke-width:3\" /><rect y=\"0\" x=\"500\" rx=\"10\" ry=\"10\" width=\"150\" height=\"90\" style=\"fill:#6829c2;stroke-width:0;\" /><text y=\"73.8\"\" x=\"575.0\" dominant-baseline=\"middle\" text-anchor=\"middle\" fill=\"white\">population</text><rect x=\"551\" y=\"10\" rx=\"4\" ry=\"4\" width=\"48\" height=\"48\" style=\" fill:#6829c2;stroke:#ffffff;stroke-width:3;\" /><line x1=\"567.0\" y1=\"10\" x2=\"567.0\" y2=\"58\" style=\"stroke:white;stroke-width:3\" /><line x1=\"583.0\" y1=\"10\" x2=\"583.0\" y2=\"58\" style=\"stroke:white;stroke-width:3\" /><line x1=\"551\" y1=\"26.0\" x2=\"599\" y2=\"26.0\" style=\"stroke:white;stroke-width:3\" /><line x1=\"551\" y1=\"42.0\" x2=\"599\" y2=\"42.0\" style=\"stroke:white;stroke-width:3\" /><line x1=\"150\" y1=\"43.0\" x2=\"490\" y2=\"43.0\" style=\"stroke:#808080;;stroke-width:4\" /><polygon points=\"500, 43.0 490, 37.0 490, 49.0 \" style=\"fill:#808080;;stroke-width:0;\" /><rect y=\"10.0\" x=\"249.0\" rx=\"10\" ry=\"10\" width=\"150\" height=\"70\" style=\"fill:#6829c2;stroke-width:0;\" /><text dominant-baseline=\"middle\" text-anchor=\"middle\" fill=\"white\"><tspan y=\"30.0\"\" x=\"324.0\" font-size=\"7pt\" >ds <= ds</tspan><tspan y=\"40.0\"\" x=\"324.0\" font-size=\"7pt\" >Memory: 2.0 hours</tspan><tspan y=\"50.0\"\" x=\"324.0\" font-size=\"7pt\" >Horizon: 1.0 hours</tspan><tspan y=\"60.0\"\" x=\"324.0\" font-size=\"7pt\" >Lagged targets allowed</tspan></text></svg></div>"
      ],
      "text/plain": [
       "      placeholder   other placeholder   allow lagged targets   horizon   join keys used   memory   other join keys used   other time stamps used   relationship   time stamps used   upper time stamps used\n",
       "  0   population    peripheral          True                   3600.0                     7200.0                          ds                       many-to-many   ds                                       "
      ]
     },
     "execution_count": 10,
     "metadata": {},
     "output_type": "execute_result"
    }
   ],
   "source": [
    "population = getml.data.Placeholder('population')\n",
    "\n",
    "peripheral = getml.data.Placeholder('peripheral')\n",
    "\n",
    "# 1. The horizon is 1 hour (we predict the traffic volume in one hour). \n",
    "# 2. The memory is 2 hours, so we allow the algorithm to \n",
    "#    use information from up to 2 hours ago. \n",
    "# 3. We allow lagged targets. Thus, the algorithm can \n",
    "#    identify autoregressive processes.\n",
    "\n",
    "population.join(\n",
    "    peripheral,\n",
    "    time_stamp='ds',\n",
    "    horizon=getml.data.time.hours(1),\n",
    "    memory=getml.data.time.hours(2),\n",
    "    allow_lagged_targets=True\n",
    ")\n",
    "\n",
    "population"
   ]
  },
  {
   "cell_type": "markdown",
   "metadata": {},
   "source": [
    " "
   ]
  },
  {
   "cell_type": "markdown",
   "metadata": {},
   "source": [
    "## 2. Predictive modeling\n",
    "\n",
    "We loaded the data, defined the roles, units and the abstract data model. Next, we create a getML pipeline for relational learning."
   ]
  },
  {
   "cell_type": "markdown",
   "metadata": {},
   "source": [
    "### 2.1 Propositionalization with getML's FastProp"
   ]
  },
  {
   "cell_type": "code",
   "execution_count": 11,
   "metadata": {},
   "outputs": [],
   "source": [
    "seasonal = getml.preprocessors.Seasonal()\n",
    "\n",
    "fast_prop = getml.feature_learning.FastPropModel(\n",
    "    loss_function=getml.feature_learning.loss_functions.SquareLoss,\n",
    "    num_threads=1,\n",
    ")"
   ]
  },
  {
   "cell_type": "markdown",
   "metadata": {},
   "source": [
    " "
   ]
  },
  {
   "cell_type": "markdown",
   "metadata": {},
   "source": [
    "__Build the pipeline__"
   ]
  },
  {
   "cell_type": "code",
   "execution_count": 12,
   "metadata": {},
   "outputs": [
    {
     "data": {
      "text/html": [
       "<pre>Pipeline(preprocessors=['Seasonal'],\n",
       "         feature_learners=['FastPropModel'],\n",
       "         feature_selectors=[],\n",
       "         include_categorical=False,\n",
       "         peripheral=['peripheral'],\n",
       "         population='population',\n",
       "         predictors=[],\n",
       "         tags=['feature learning', 'fastprop'],\n",
       "         share_selected_features=0.5)</pre>"
      ],
      "text/plain": [
       "Pipeline(preprocessors=['Seasonal'],\n",
       "         feature_learners=['FastPropModel'],\n",
       "         feature_selectors=[],\n",
       "         include_categorical=False,\n",
       "         peripheral=['peripheral'],\n",
       "         population='population',\n",
       "         predictors=[],\n",
       "         tags=['feature learning', 'fastprop'],\n",
       "         share_selected_features=0.5)"
      ]
     },
     "execution_count": 12,
     "metadata": {},
     "output_type": "execute_result"
    }
   ],
   "source": [
    "pipe_fp_fl = getml.pipeline.Pipeline(\n",
    "    preprocessors=[seasonal],\n",
    "    feature_learners=[fast_prop],\n",
    "    population=population,\n",
    "    tags=[\"feature learning\", \"fastprop\"],\n",
    ")\n",
    "\n",
    "pipe_fp_fl"
   ]
  },
  {
   "cell_type": "markdown",
   "metadata": {},
   "source": [
    " "
   ]
  },
  {
   "cell_type": "code",
   "execution_count": 13,
   "metadata": {},
   "outputs": [
    {
     "name": "stdout",
     "output_type": "stream",
     "text": [
      "Checking data model...\n",
      "OK.\n"
     ]
    }
   ],
   "source": [
    "pipe_fp_fl.check(data_train, [data_full])"
   ]
  },
  {
   "cell_type": "code",
   "execution_count": 14,
   "metadata": {},
   "outputs": [
    {
     "name": "stdout",
     "output_type": "stream",
     "text": [
      "Checking data model...\n",
      "OK.\n",
      "\n",
      "Preprocessing...\n",
      "[========================================] 100%\n",
      "\n",
      "FastProp: Trying 486 features...\n",
      "[========================================] 100%\n",
      "\n",
      "Trained pipeline.\n",
      "Time taken: 0h:2m:9.273252\n",
      "\n",
      "\n",
      "Preprocessing...\n",
      "[========================================] 100%\n",
      "\n",
      "FastProp: Building features...\n",
      "[========================================] 100%\n",
      "\n"
     ]
    }
   ],
   "source": [
    "begin = time.time()\n",
    "\n",
    "pipe_fp_fl.fit(data_train, [data_full])\n",
    "\n",
    "fastprop_train = pipe_fp_fl.transform(\n",
    "    data_train, [data_full], df_name=\"fastprop_train\")\n",
    "\n",
    "end = time.time()\n",
    "\n",
    "fastprop_runtime = datetime.timedelta(seconds=end - begin)"
   ]
  },
  {
   "cell_type": "code",
   "execution_count": 15,
   "metadata": {},
   "outputs": [
    {
     "name": "stdout",
     "output_type": "stream",
     "text": [
      "\n",
      "Preprocessing...\n",
      "[========================================] 100%\n",
      "\n",
      "FastProp: Building features...\n",
      "[========================================] 100%\n",
      "\n"
     ]
    }
   ],
   "source": [
    "fastprop_test = pipe_fp_fl.transform(\n",
    "    data_test, [data_test], df_name=\"fastprop_test\")"
   ]
  },
  {
   "cell_type": "code",
   "execution_count": 16,
   "metadata": {},
   "outputs": [],
   "source": [
    "predictor = getml.predictors.XGBoostRegressor()\n",
    "\n",
    "pipe_fp_pr = getml.pipeline.Pipeline(\n",
    "    tags=[\"prediction\", \"fastprop\"], predictors=[predictor]\n",
    ")"
   ]
  },
  {
   "cell_type": "code",
   "execution_count": 17,
   "metadata": {},
   "outputs": [
    {
     "name": "stdout",
     "output_type": "stream",
     "text": [
      "Checking data model...\n",
      "OK.\n",
      "\n",
      "XGBoost: Training as predictor...\n",
      "[========================================] 100%\n",
      "\n",
      "Trained pipeline.\n",
      "Time taken: 0h:0m:13.599406\n",
      "\n"
     ]
    },
    {
     "data": {
      "text/html": [
       "<pre>Pipeline(preprocessors=[],\n",
       "         feature_learners=[],\n",
       "         feature_selectors=[],\n",
       "         include_categorical=False,\n",
       "         peripheral=[],\n",
       "         population='POPULATION',\n",
       "         predictors=['XGBoostRegressor'],\n",
       "         tags=['prediction', 'fastprop'],\n",
       "         share_selected_features=0.5)</pre><br><pre>url: <a href='http://localhost:1709/#/getpipeline/dodgers/MWQzSR/0/' target=\"_blank\">http://localhost:1709/#/getpipeline/dodgers/MWQzSR/0/</a></pre>"
      ],
      "text/plain": [
       "Pipeline(preprocessors=[],\n",
       "         feature_learners=[],\n",
       "         feature_selectors=[],\n",
       "         include_categorical=False,\n",
       "         peripheral=[],\n",
       "         population='POPULATION',\n",
       "         predictors=['XGBoostRegressor'],\n",
       "         tags=['prediction', 'fastprop'],\n",
       "         share_selected_features=0.5)\n",
       "\n",
       "url: http://localhost:1709/#/getpipeline/dodgers/MWQzSR/0/"
      ]
     },
     "execution_count": 17,
     "metadata": {},
     "output_type": "execute_result"
    }
   ],
   "source": [
    "pipe_fp_pr.fit(fastprop_train)"
   ]
  },
  {
   "cell_type": "code",
   "execution_count": 18,
   "metadata": {},
   "outputs": [
    {
     "name": "stdout",
     "output_type": "stream",
     "text": [
      "\n"
     ]
    },
    {
     "data": {
      "text/html": [
       "<style>\n",
       "  th {\n",
       "    text-align: left !important;\n",
       "  }\n",
       "  td {\n",
       "    text-align: left !important;\n",
       "  }\n",
       "  th:nth-child(1) {\n",
       "    text-align: right;\n",
       "    border-right: 1px solid LightGray;\n",
       "  }\n",
       "  th.float {\n",
       "    text-align: right !important;\n",
       "  }\n",
       "  td.float {\n",
       "    text-align: right !important;\n",
       "  }\n",
       "  th.int {\n",
       "    text-align: right !important;\n",
       "  }\n",
       "  td.int {\n",
       "    text-align: right !important;\n",
       "  }\n",
       "</style>\n",
       "\n",
       "<table class=\"dataframe\">\n",
       "  <thead>\n",
       "    <tr>\n",
       "      \n",
       "        \n",
       "          <th class=\"int\">   </th>\n",
       "        \n",
       "      \n",
       "        \n",
       "          <th class=\"datetime\">date time          </th>\n",
       "        \n",
       "      \n",
       "        \n",
       "          <th class=\"str\">set used      </th>\n",
       "        \n",
       "      \n",
       "        \n",
       "          <th class=\"str\">target</th>\n",
       "        \n",
       "      \n",
       "        \n",
       "          <th class=\"float\">    mae</th>\n",
       "        \n",
       "      \n",
       "        \n",
       "          <th class=\"float\">   rmse</th>\n",
       "        \n",
       "      \n",
       "        \n",
       "          <th class=\"float\">rsquared</th>\n",
       "        \n",
       "      \n",
       "    </tr>\n",
       "    \n",
       "  </thead>\n",
       "  <tbody>\n",
       "    \n",
       "      <tr>\n",
       "        <th>0</th>\n",
       "          \n",
       "            \n",
       "              <td class=\"datetime\">2021-05-17 17:00:18</td>\n",
       "            \n",
       "          \n",
       "            \n",
       "              <td class=\"str\">fastprop_train</td>\n",
       "            \n",
       "          \n",
       "            \n",
       "              <td class=\"str\">y</td>\n",
       "            \n",
       "          \n",
       "            \n",
       "              <td class=\"float\">5.6182</td>\n",
       "            \n",
       "          \n",
       "            \n",
       "              <td class=\"float\">7.7183</td>\n",
       "            \n",
       "          \n",
       "            \n",
       "              <td class=\"float\">0.684</td>\n",
       "            \n",
       "          \n",
       "      </tr>\n",
       "    \n",
       "      <tr>\n",
       "        <th>1</th>\n",
       "          \n",
       "            \n",
       "              <td class=\"datetime\">2021-05-17 17:00:19</td>\n",
       "            \n",
       "          \n",
       "            \n",
       "              <td class=\"str\">fastprop_test</td>\n",
       "            \n",
       "          \n",
       "            \n",
       "              <td class=\"str\">y</td>\n",
       "            \n",
       "          \n",
       "            \n",
       "              <td class=\"float\">5.8154</td>\n",
       "            \n",
       "          \n",
       "            \n",
       "              <td class=\"float\">7.994</td>\n",
       "            \n",
       "          \n",
       "            \n",
       "              <td class=\"float\">0.6605</td>\n",
       "            \n",
       "          \n",
       "      </tr>\n",
       "    \n",
       "  </tbody>\n",
       "</table>"
      ],
      "text/plain": [
       "      date time             set used         target       mae      rmse   rsquared\n",
       "  0   2021-05-17 17:00:18   fastprop_train   y         5.6182    7.7183     0.684 \n",
       "  1   2021-05-17 17:00:19   fastprop_test    y         5.8154    7.994      0.6605"
      ]
     },
     "execution_count": 18,
     "metadata": {},
     "output_type": "execute_result"
    }
   ],
   "source": [
    "pipe_fp_pr.score(fastprop_test)"
   ]
  },
  {
   "cell_type": "markdown",
   "metadata": {},
   "source": [
    " "
   ]
  },
  {
   "cell_type": "markdown",
   "metadata": {},
   "source": [
    "### 2.2 Propositionalization with featuretools"
   ]
  },
  {
   "cell_type": "code",
   "execution_count": 19,
   "metadata": {},
   "outputs": [],
   "source": [
    "dfs_pandas = {}\n",
    "\n",
    "for df in getml.project.data_frames:\n",
    "    dfs_pandas[df.name] = df.to_pandas()\n",
    "    dfs_pandas[df.name][\"id\"] = 1"
   ]
  },
  {
   "cell_type": "code",
   "execution_count": 20,
   "metadata": {},
   "outputs": [],
   "source": [
    "ft_builder = FTTimeSeriesBuilder(\n",
    "    num_features=200,\n",
    "    horizon=pd.Timedelta(hours=1),\n",
    "    memory=pd.Timedelta(hours=2),\n",
    "    column_id=\"id\",\n",
    "    time_stamp=\"ds\",\n",
    "    target=\"y\",\n",
    "    allow_lagged_targets=True,\n",
    ")"
   ]
  },
  {
   "cell_type": "code",
   "execution_count": 21,
   "metadata": {},
   "outputs": [
    {
     "name": "stdout",
     "output_type": "stream",
     "text": [
      "featuretools: Trying features...\n"
     ]
    },
    {
     "name": "stderr",
     "output_type": "stream",
     "text": [
      "/Users/srnnkls/getML/monorepo/src/python-api/.venv/lib/python3.9/site-packages/featuretools/synthesis/dfs.py:317: UnusedPrimitiveWarning: Some specified primitives were not used during DFS:\n",
      "  agg_primitives: ['all', 'any', 'entropy', 'num_true', 'percent_true']\n",
      "This may be caused by a using a value of max_depth that is too small, not setting interesting values, or it may indicate no compatible variable types for the primitive were found in the data.\n",
      "  warnings.warn(warning_msg, UnusedPrimitiveWarning)\n"
     ]
    },
    {
     "name": "stdout",
     "output_type": "stream",
     "text": [
      "Selecting the best out of 77 features...\n",
      "Time taken: 0h:9m:3.091081\n",
      "\n"
     ]
    },
    {
     "name": "stderr",
     "output_type": "stream",
     "text": [
      "/Users/srnnkls/getML/monorepo/src/python-api/.venv/lib/python3.9/site-packages/featuretools/synthesis/dfs.py:317: UnusedPrimitiveWarning: Some specified primitives were not used during DFS:\n",
      "  agg_primitives: ['all', 'any', 'entropy', 'num_true', 'percent_true']\n",
      "This may be caused by a using a value of max_depth that is too small, not setting interesting values, or it may indicate no compatible variable types for the primitive were found in the data.\n",
      "  warnings.warn(warning_msg, UnusedPrimitiveWarning)\n"
     ]
    }
   ],
   "source": [
    "featuretools_train = ft_builder.fit(dfs_pandas[\"data_train\"])\n",
    "featuretools_test = ft_builder.transform(dfs_pandas[\"data_test\"])"
   ]
  },
  {
   "cell_type": "code",
   "execution_count": 22,
   "metadata": {},
   "outputs": [],
   "source": [
    "df_featuretools_train = getml.data.DataFrame.from_pandas(\n",
    "    featuretools_train, name=\"featuretools_train\", roles=data_train.roles\n",
    ")\n",
    "\n",
    "df_featuretools_test = getml.data.DataFrame.from_pandas(\n",
    "    featuretools_test, name=\"featuretools_test\", roles=data_train.roles\n",
    ")"
   ]
  },
  {
   "cell_type": "code",
   "execution_count": 23,
   "metadata": {},
   "outputs": [],
   "source": [
    "df_featuretools_train.set_role(\n",
    "    df_featuretools_train.unused_names, getml.data.roles.numerical\n",
    ")\n",
    "\n",
    "df_featuretools_test.set_role(\n",
    "    df_featuretools_test.unused_names, getml.data.roles.numerical\n",
    ")"
   ]
  },
  {
   "cell_type": "code",
   "execution_count": 24,
   "metadata": {},
   "outputs": [
    {
     "data": {
      "text/html": [
       "<pre>Pipeline(preprocessors=[],\n",
       "         feature_learners=[],\n",
       "         feature_selectors=[],\n",
       "         include_categorical=False,\n",
       "         peripheral=[],\n",
       "         population='POPULATION',\n",
       "         predictors=['XGBoostRegressor'],\n",
       "         tags=['prediction', 'featuretools'],\n",
       "         share_selected_features=0.5)</pre>"
      ],
      "text/plain": [
       "Pipeline(preprocessors=[],\n",
       "         feature_learners=[],\n",
       "         feature_selectors=[],\n",
       "         include_categorical=False,\n",
       "         peripheral=[],\n",
       "         population='POPULATION',\n",
       "         predictors=['XGBoostRegressor'],\n",
       "         tags=['prediction', 'featuretools'],\n",
       "         share_selected_features=0.5)"
      ]
     },
     "execution_count": 24,
     "metadata": {},
     "output_type": "execute_result"
    }
   ],
   "source": [
    "predictor = getml.predictors.XGBoostRegressor()\n",
    "\n",
    "pipe_ft_pr = getml.pipeline.Pipeline(\n",
    "    tags=[\"prediction\", \"featuretools\"], predictors=[predictor]\n",
    ")\n",
    "\n",
    "pipe_ft_pr"
   ]
  },
  {
   "cell_type": "code",
   "execution_count": 25,
   "metadata": {},
   "outputs": [
    {
     "name": "stderr",
     "output_type": "stream",
     "text": [
      "WARNING [COLUMN SHOULD BE UNUSED]: All non-NULL entries in column 'id' in POPULATION__STAGING_TABLE_1 are equal to each other. You should consider setting its role to unused_float or using it for comparison only (you can do the latter by setting a unit that contains 'comparison only').\n"
     ]
    },
    {
     "name": "stdout",
     "output_type": "stream",
     "text": [
      "Checking data model...\n"
     ]
    }
   ],
   "source": [
    "pipe_ft_pr.check(df_featuretools_train)"
   ]
  },
  {
   "cell_type": "code",
   "execution_count": 26,
   "metadata": {},
   "outputs": [
    {
     "name": "stderr",
     "output_type": "stream",
     "text": [
      "WARNING [COLUMN SHOULD BE UNUSED]: All non-NULL entries in column 'id' in POPULATION__STAGING_TABLE_1 are equal to each other. You should consider setting its role to unused_float or using it for comparison only (you can do the latter by setting a unit that contains 'comparison only').\n"
     ]
    },
    {
     "name": "stdout",
     "output_type": "stream",
     "text": [
      "Checking data model...\n",
      "\n",
      "XGBoost: Training as predictor...\n",
      "[========================================] 100%\n",
      "\n",
      "Trained pipeline.\n",
      "Time taken: 0h:0m:5.665271\n",
      "\n"
     ]
    },
    {
     "data": {
      "text/html": [
       "<pre>Pipeline(preprocessors=[],\n",
       "         feature_learners=[],\n",
       "         feature_selectors=[],\n",
       "         include_categorical=False,\n",
       "         peripheral=[],\n",
       "         population='POPULATION',\n",
       "         predictors=['XGBoostRegressor'],\n",
       "         tags=['prediction', 'featuretools'],\n",
       "         share_selected_features=0.5)</pre><br><pre>url: <a href='http://localhost:1709/#/getpipeline/dodgers/QDe8qQ/0/' target=\"_blank\">http://localhost:1709/#/getpipeline/dodgers/QDe8qQ/0/</a></pre>"
      ],
      "text/plain": [
       "Pipeline(preprocessors=[],\n",
       "         feature_learners=[],\n",
       "         feature_selectors=[],\n",
       "         include_categorical=False,\n",
       "         peripheral=[],\n",
       "         population='POPULATION',\n",
       "         predictors=['XGBoostRegressor'],\n",
       "         tags=['prediction', 'featuretools'],\n",
       "         share_selected_features=0.5)\n",
       "\n",
       "url: http://localhost:1709/#/getpipeline/dodgers/QDe8qQ/0/"
      ]
     },
     "execution_count": 26,
     "metadata": {},
     "output_type": "execute_result"
    }
   ],
   "source": [
    "pipe_ft_pr.fit(df_featuretools_train)"
   ]
  },
  {
   "cell_type": "code",
   "execution_count": 27,
   "metadata": {},
   "outputs": [
    {
     "name": "stdout",
     "output_type": "stream",
     "text": [
      "\n"
     ]
    },
    {
     "data": {
      "text/html": [
       "<style>\n",
       "  th {\n",
       "    text-align: left !important;\n",
       "  }\n",
       "  td {\n",
       "    text-align: left !important;\n",
       "  }\n",
       "  th:nth-child(1) {\n",
       "    text-align: right;\n",
       "    border-right: 1px solid LightGray;\n",
       "  }\n",
       "  th.float {\n",
       "    text-align: right !important;\n",
       "  }\n",
       "  td.float {\n",
       "    text-align: right !important;\n",
       "  }\n",
       "  th.int {\n",
       "    text-align: right !important;\n",
       "  }\n",
       "  td.int {\n",
       "    text-align: right !important;\n",
       "  }\n",
       "</style>\n",
       "\n",
       "<table class=\"dataframe\">\n",
       "  <thead>\n",
       "    <tr>\n",
       "      \n",
       "        \n",
       "          <th class=\"int\">   </th>\n",
       "        \n",
       "      \n",
       "        \n",
       "          <th class=\"datetime\">date time          </th>\n",
       "        \n",
       "      \n",
       "        \n",
       "          <th class=\"str\">set used          </th>\n",
       "        \n",
       "      \n",
       "        \n",
       "          <th class=\"str\">target</th>\n",
       "        \n",
       "      \n",
       "        \n",
       "          <th class=\"float\">    mae</th>\n",
       "        \n",
       "      \n",
       "        \n",
       "          <th class=\"float\">   rmse</th>\n",
       "        \n",
       "      \n",
       "        \n",
       "          <th class=\"float\">rsquared</th>\n",
       "        \n",
       "      \n",
       "    </tr>\n",
       "    \n",
       "  </thead>\n",
       "  <tbody>\n",
       "    \n",
       "      <tr>\n",
       "        <th>0</th>\n",
       "          \n",
       "            \n",
       "              <td class=\"datetime\">2021-05-17 17:12:21</td>\n",
       "            \n",
       "          \n",
       "            \n",
       "              <td class=\"str\">featuretools_train</td>\n",
       "            \n",
       "          \n",
       "            \n",
       "              <td class=\"str\">y</td>\n",
       "            \n",
       "          \n",
       "            \n",
       "              <td class=\"float\">5.406</td>\n",
       "            \n",
       "          \n",
       "            \n",
       "              <td class=\"float\">7.5485</td>\n",
       "            \n",
       "          \n",
       "            \n",
       "              <td class=\"float\">0.6978</td>\n",
       "            \n",
       "          \n",
       "      </tr>\n",
       "    \n",
       "      <tr>\n",
       "        <th>1</th>\n",
       "          \n",
       "            \n",
       "              <td class=\"datetime\">2021-05-17 17:12:21</td>\n",
       "            \n",
       "          \n",
       "            \n",
       "              <td class=\"str\">featuretools_test</td>\n",
       "            \n",
       "          \n",
       "            \n",
       "              <td class=\"str\">y</td>\n",
       "            \n",
       "          \n",
       "            \n",
       "              <td class=\"float\">5.8312</td>\n",
       "            \n",
       "          \n",
       "            \n",
       "              <td class=\"float\">8.165</td>\n",
       "            \n",
       "          \n",
       "            \n",
       "              <td class=\"float\">0.6621</td>\n",
       "            \n",
       "          \n",
       "      </tr>\n",
       "    \n",
       "  </tbody>\n",
       "</table>"
      ],
      "text/plain": [
       "      date time             set used             target       mae      rmse   rsquared\n",
       "  0   2021-05-17 17:12:21   featuretools_train   y         5.406     7.5485     0.6978\n",
       "  1   2021-05-17 17:12:21   featuretools_test    y         5.8312    8.165      0.6621"
      ]
     },
     "execution_count": 27,
     "metadata": {},
     "output_type": "execute_result"
    }
   ],
   "source": [
    "pipe_ft_pr.score(df_featuretools_test)"
   ]
  },
  {
   "cell_type": "markdown",
   "metadata": {},
   "source": [
    "### 2.3 Propositionalization with tsfresh"
   ]
  },
  {
   "cell_type": "code",
   "execution_count": 28,
   "metadata": {},
   "outputs": [],
   "source": [
    "tsfresh_builder = TSFreshBuilder(\n",
    "    num_features=200, \n",
    "    horizon=20,\n",
    "    memory=60, \n",
    "    column_id=\"id\", \n",
    "    time_stamp=\"ds\", \n",
    "    target=\"y\",\n",
    "    allow_lagged_targets=True\n",
    ")"
   ]
  },
  {
   "cell_type": "code",
   "execution_count": 29,
   "metadata": {},
   "outputs": [
    {
     "name": "stderr",
     "output_type": "stream",
     "text": [
      "Rolling: 100%|██████████| 20/20 [00:58<00:00,  2.91s/it]\n",
      "Feature Extraction: 100%|██████████| 20/20 [00:24<00:00,  1.21s/it]\n",
      "Feature Extraction: 100%|██████████| 20/20 [00:26<00:00,  1.32s/it]\n"
     ]
    },
    {
     "name": "stdout",
     "output_type": "stream",
     "text": [
      "Selecting the best out of 12 features...\n",
      "Time taken: 0h:2m:7.847436\n",
      "\n"
     ]
    },
    {
     "name": "stderr",
     "output_type": "stream",
     "text": [
      "Rolling: 100%|██████████| 20/20 [00:19<00:00,  1.04it/s]\n",
      "Feature Extraction: 100%|██████████| 20/20 [00:09<00:00,  2.14it/s]\n",
      "Feature Extraction: 100%|██████████| 20/20 [00:10<00:00,  1.97it/s]\n"
     ]
    }
   ],
   "source": [
    "tsfresh_train = tsfresh_builder.fit(dfs_pandas[\"data_train\"])\n",
    "\n",
    "tsfresh_test = tsfresh_builder.transform(dfs_pandas[\"data_test\"])"
   ]
  },
  {
   "cell_type": "code",
   "execution_count": 30,
   "metadata": {},
   "outputs": [],
   "source": [
    "df_tsfresh_train = getml.data.DataFrame.from_pandas(\n",
    "    tsfresh_train, \n",
    "    name=\"tsfresh_train\", \n",
    "    roles=data_train.roles\n",
    ")\n",
    "\n",
    "df_tsfresh_test = getml.data.DataFrame.from_pandas(\n",
    "    tsfresh_test, \n",
    "    name=\"tsfresh_test\", \n",
    "    roles=data_train.roles\n",
    ")"
   ]
  },
  {
   "cell_type": "code",
   "execution_count": 31,
   "metadata": {},
   "outputs": [],
   "source": [
    "df_tsfresh_train.set_role(df_tsfresh_train.unused_names, getml.data.roles.numerical)\n",
    "\n",
    "df_tsfresh_test.set_role(df_tsfresh_test.unused_names, getml.data.roles.numerical)"
   ]
  },
  {
   "cell_type": "code",
   "execution_count": 32,
   "metadata": {},
   "outputs": [
    {
     "data": {
      "text/html": [
       "<pre>Pipeline(preprocessors=[],\n",
       "         feature_learners=[],\n",
       "         feature_selectors=[],\n",
       "         include_categorical=False,\n",
       "         peripheral=[],\n",
       "         population='POPULATION',\n",
       "         predictors=['XGBoostRegressor'],\n",
       "         tags=['predicition', 'tsfresh'],\n",
       "         share_selected_features=0.5)</pre>"
      ],
      "text/plain": [
       "Pipeline(preprocessors=[],\n",
       "         feature_learners=[],\n",
       "         feature_selectors=[],\n",
       "         include_categorical=False,\n",
       "         peripheral=[],\n",
       "         population='POPULATION',\n",
       "         predictors=['XGBoostRegressor'],\n",
       "         tags=['predicition', 'tsfresh'],\n",
       "         share_selected_features=0.5)"
      ]
     },
     "execution_count": 32,
     "metadata": {},
     "output_type": "execute_result"
    }
   ],
   "source": [
    "pipe_tsf_pr = getml.pipeline.Pipeline(\n",
    "    tags=[\"predicition\", \"tsfresh\"], predictors=[predictor]\n",
    ")\n",
    "\n",
    "pipe_tsf_pr"
   ]
  },
  {
   "cell_type": "code",
   "execution_count": 33,
   "metadata": {},
   "outputs": [
    {
     "name": "stderr",
     "output_type": "stream",
     "text": [
      "WARNING [COLUMN SHOULD BE UNUSED]: All non-NULL entries in column 'id' in POPULATION__STAGING_TABLE_1 are equal to each other. You should consider setting its role to unused_float or using it for comparison only (you can do the latter by setting a unit that contains 'comparison only').\n"
     ]
    },
    {
     "name": "stdout",
     "output_type": "stream",
     "text": [
      "Checking data model...\n",
      "\n",
      "XGBoost: Training as predictor...\n",
      "[========================================] 100%\n",
      "\n",
      "Trained pipeline.\n",
      "Time taken: 0h:0m:2.107887\n",
      "\n"
     ]
    },
    {
     "data": {
      "text/html": [
       "<pre>Pipeline(preprocessors=[],\n",
       "         feature_learners=[],\n",
       "         feature_selectors=[],\n",
       "         include_categorical=False,\n",
       "         peripheral=[],\n",
       "         population='POPULATION',\n",
       "         predictors=['XGBoostRegressor'],\n",
       "         tags=['predicition', 'tsfresh'],\n",
       "         share_selected_features=0.5)</pre><br><pre>url: <a href='http://localhost:1709/#/getpipeline/dodgers/8Sjnvj/0/' target=\"_blank\">http://localhost:1709/#/getpipeline/dodgers/8Sjnvj/0/</a></pre>"
      ],
      "text/plain": [
       "Pipeline(preprocessors=[],\n",
       "         feature_learners=[],\n",
       "         feature_selectors=[],\n",
       "         include_categorical=False,\n",
       "         peripheral=[],\n",
       "         population='POPULATION',\n",
       "         predictors=['XGBoostRegressor'],\n",
       "         tags=['predicition', 'tsfresh'],\n",
       "         share_selected_features=0.5)\n",
       "\n",
       "url: http://localhost:1709/#/getpipeline/dodgers/8Sjnvj/0/"
      ]
     },
     "execution_count": 33,
     "metadata": {},
     "output_type": "execute_result"
    }
   ],
   "source": [
    "pipe_tsf_pr.fit(df_tsfresh_train)"
   ]
  },
  {
   "cell_type": "code",
   "execution_count": 34,
   "metadata": {},
   "outputs": [
    {
     "name": "stdout",
     "output_type": "stream",
     "text": [
      "\n"
     ]
    },
    {
     "data": {
      "text/html": [
       "<style>\n",
       "  th {\n",
       "    text-align: left !important;\n",
       "  }\n",
       "  td {\n",
       "    text-align: left !important;\n",
       "  }\n",
       "  th:nth-child(1) {\n",
       "    text-align: right;\n",
       "    border-right: 1px solid LightGray;\n",
       "  }\n",
       "  th.float {\n",
       "    text-align: right !important;\n",
       "  }\n",
       "  td.float {\n",
       "    text-align: right !important;\n",
       "  }\n",
       "  th.int {\n",
       "    text-align: right !important;\n",
       "  }\n",
       "  td.int {\n",
       "    text-align: right !important;\n",
       "  }\n",
       "</style>\n",
       "\n",
       "<table class=\"dataframe\">\n",
       "  <thead>\n",
       "    <tr>\n",
       "      \n",
       "        \n",
       "          <th class=\"int\">   </th>\n",
       "        \n",
       "      \n",
       "        \n",
       "          <th class=\"datetime\">date time          </th>\n",
       "        \n",
       "      \n",
       "        \n",
       "          <th class=\"str\">set used     </th>\n",
       "        \n",
       "      \n",
       "        \n",
       "          <th class=\"str\">target</th>\n",
       "        \n",
       "      \n",
       "        \n",
       "          <th class=\"float\">    mae</th>\n",
       "        \n",
       "      \n",
       "        \n",
       "          <th class=\"float\">   rmse</th>\n",
       "        \n",
       "      \n",
       "        \n",
       "          <th class=\"float\">rsquared</th>\n",
       "        \n",
       "      \n",
       "    </tr>\n",
       "    \n",
       "  </thead>\n",
       "  <tbody>\n",
       "    \n",
       "      <tr>\n",
       "        <th>0</th>\n",
       "          \n",
       "            \n",
       "              <td class=\"datetime\">2021-05-17 17:15:15</td>\n",
       "            \n",
       "          \n",
       "            \n",
       "              <td class=\"str\">tsfresh_train</td>\n",
       "            \n",
       "          \n",
       "            \n",
       "              <td class=\"str\">y</td>\n",
       "            \n",
       "          \n",
       "            \n",
       "              <td class=\"float\">6.3146</td>\n",
       "            \n",
       "          \n",
       "            \n",
       "              <td class=\"float\">8.2348</td>\n",
       "            \n",
       "          \n",
       "            \n",
       "              <td class=\"float\">0.6418</td>\n",
       "            \n",
       "          \n",
       "      </tr>\n",
       "    \n",
       "      <tr>\n",
       "        <th>1</th>\n",
       "          \n",
       "            \n",
       "              <td class=\"datetime\">2021-05-17 17:15:15</td>\n",
       "            \n",
       "          \n",
       "            \n",
       "              <td class=\"str\">tsfresh_test</td>\n",
       "            \n",
       "          \n",
       "            \n",
       "              <td class=\"str\">y</td>\n",
       "            \n",
       "          \n",
       "            \n",
       "              <td class=\"float\">6.7881</td>\n",
       "            \n",
       "          \n",
       "            \n",
       "              <td class=\"float\">8.9132</td>\n",
       "            \n",
       "          \n",
       "            \n",
       "              <td class=\"float\">0.5779</td>\n",
       "            \n",
       "          \n",
       "      </tr>\n",
       "    \n",
       "  </tbody>\n",
       "</table>"
      ],
      "text/plain": [
       "      date time             set used        target       mae      rmse   rsquared\n",
       "  0   2021-05-17 17:15:15   tsfresh_train   y         6.3146    8.2348     0.6418\n",
       "  1   2021-05-17 17:15:15   tsfresh_test    y         6.7881    8.9132     0.5779"
      ]
     },
     "execution_count": 34,
     "metadata": {},
     "output_type": "execute_result"
    }
   ],
   "source": [
    "pipe_tsf_pr.score(df_tsfresh_test)"
   ]
  },
  {
   "cell_type": "code",
   "execution_count": 35,
   "metadata": {},
   "outputs": [],
   "source": [
    "num_features = dict(\n",
    "    fastprop=486,\n",
    "    featuretools=77,\n",
    "    tsfresh=11,\n",
    ")\n",
    "\n",
    "runtime_per_feature = [\n",
    "    fastprop_runtime / num_features['fastprop'],\n",
    "    ft_builder.runtime / num_features['featuretools'],\n",
    "    tsfresh_builder.runtime / num_features['tsfresh'],\n",
    "]\n",
    "\n",
    "features_per_second = [1.0/r.total_seconds() for r in runtime_per_feature]\n",
    "\n",
    "speedup_per_feature = [r/runtime_per_feature[0] for r in runtime_per_feature]\n",
    "\n",
    "comparison = pd.DataFrame(\n",
    "    dict(\n",
    "        runtime=[fastprop_runtime, ft_builder.runtime, tsfresh_builder.runtime],\n",
    "        num_features=num_features.values(),\n",
    "        features_per_second=features_per_second,\n",
    "        speedup=[1, ft_builder.runtime/fastprop_runtime, tsfresh_builder.runtime/fastprop_runtime],\n",
    "        speedup_per_feature=speedup_per_feature,\n",
    "        rsquared=[pipe_fp_pr.rsquared, pipe_ft_pr.rsquared, pipe_tsf_pr.rsquared],\n",
    "        rmse=[pipe_fp_pr.rmse, pipe_ft_pr.rmse, pipe_tsf_pr.rmse],\n",
    "        mae=[pipe_fp_pr.mae, pipe_ft_pr.mae, pipe_tsf_pr.mae],\n",
    "    )\n",
    ")\n",
    "\n",
    "comparison.index = [\"getML: FastProp\", \"featuretools\", \"tsfresh\"]"
   ]
  },
  {
   "cell_type": "code",
   "execution_count": 36,
   "metadata": {},
   "outputs": [
    {
     "data": {
      "text/html": [
       "<div>\n",
       "<style scoped>\n",
       "    .dataframe tbody tr th:only-of-type {\n",
       "        vertical-align: middle;\n",
       "    }\n",
       "\n",
       "    .dataframe tbody tr th {\n",
       "        vertical-align: top;\n",
       "    }\n",
       "\n",
       "    .dataframe thead th {\n",
       "        text-align: right;\n",
       "    }\n",
       "</style>\n",
       "<table border=\"1\" class=\"dataframe\">\n",
       "  <thead>\n",
       "    <tr style=\"text-align: right;\">\n",
       "      <th></th>\n",
       "      <th>runtime</th>\n",
       "      <th>num_features</th>\n",
       "      <th>features_per_second</th>\n",
       "      <th>speedup</th>\n",
       "      <th>speedup_per_feature</th>\n",
       "      <th>rsquared</th>\n",
       "      <th>rmse</th>\n",
       "      <th>mae</th>\n",
       "    </tr>\n",
       "  </thead>\n",
       "  <tbody>\n",
       "    <tr>\n",
       "      <th>getML: FastProp</th>\n",
       "      <td>0 days 00:03:00.892329</td>\n",
       "      <td>486</td>\n",
       "      <td>2.686684</td>\n",
       "      <td>1.000000</td>\n",
       "      <td>1.000000</td>\n",
       "      <td>0.660474</td>\n",
       "      <td>7.994006</td>\n",
       "      <td>5.815399</td>\n",
       "    </tr>\n",
       "    <tr>\n",
       "      <th>featuretools</th>\n",
       "      <td>0 days 00:09:03.091081</td>\n",
       "      <td>77</td>\n",
       "      <td>0.141781</td>\n",
       "      <td>3.002289</td>\n",
       "      <td>18.949536</td>\n",
       "      <td>0.662080</td>\n",
       "      <td>8.165049</td>\n",
       "      <td>5.831166</td>\n",
       "    </tr>\n",
       "    <tr>\n",
       "      <th>tsfresh</th>\n",
       "      <td>0 days 00:02:07.847436</td>\n",
       "      <td>11</td>\n",
       "      <td>0.086040</td>\n",
       "      <td>0.706760</td>\n",
       "      <td>31.225972</td>\n",
       "      <td>0.577854</td>\n",
       "      <td>8.913240</td>\n",
       "      <td>6.788137</td>\n",
       "    </tr>\n",
       "  </tbody>\n",
       "</table>\n",
       "</div>"
      ],
      "text/plain": [
       "                               runtime  num_features  features_per_second  \\\n",
       "getML: FastProp 0 days 00:03:00.892329           486             2.686684   \n",
       "featuretools    0 days 00:09:03.091081            77             0.141781   \n",
       "tsfresh         0 days 00:02:07.847436            11             0.086040   \n",
       "\n",
       "                  speedup  speedup_per_feature  rsquared      rmse       mae  \n",
       "getML: FastProp  1.000000             1.000000  0.660474  7.994006  5.815399  \n",
       "featuretools     3.002289            18.949536  0.662080  8.165049  5.831166  \n",
       "tsfresh          0.706760            31.225972  0.577854  8.913240  6.788137  "
      ]
     },
     "execution_count": 36,
     "metadata": {},
     "output_type": "execute_result"
    }
   ],
   "source": [
    "comparison"
   ]
  },
  {
   "cell_type": "code",
   "execution_count": 37,
   "metadata": {},
   "outputs": [],
   "source": [
    "# export for further use\n",
    "comparison.to_csv(\"comparisons/dodgers.csv\")"
   ]
  },
  {
   "cell_type": "markdown",
   "metadata": {},
   "source": [
    "## 3. Conclusion\n",
    "\n",
    "You are encouraged to reproduce these results. You will need getML (https://getml.com/product) to do so. You can download it for free."
   ]
  },
  {
   "cell_type": "markdown",
   "metadata": {},
   "source": [
    " "
   ]
  },
  {
   "cell_type": "markdown",
   "metadata": {},
   "source": [
    "# Next Steps\n",
    "\n",
    "This tutorial went showcased another time series application of getML and benchmarked getML against popular time series libraries.\n",
    "\n",
    "If you are interested in further real-world applications of getML, head back to the [notebook overview](welcome.md) and choose one of the remaining examples.\n",
    "\n",
    "Here is some additional material from our [documentation](https://docs.getml.com/latest/) if you want to learn more about getML:\n",
    "* [Feature learning with Multirel](https://docs.getml.com/latest/user_guide/feature_engineering/feature_engineering.html#multirel)\n",
    "* [Feature learning with Relboost](https://docs.getml.com/latest/user_guide/feature_engineering/feature_engineering.html#relboost)"
   ]
  },
  {
   "cell_type": "markdown",
   "metadata": {},
   "source": [
    " "
   ]
  },
  {
   "cell_type": "markdown",
   "metadata": {},
   "source": [
    "# Get in contact\n",
    "\n",
    "If you have any question schedule a [call with Alex](https://go.getml.com/meetings/alexander-uhlig/getml-demo), the co-founder of getML, or write us an [email](team@getml.com). Prefer a private demo of getML? Just contact us to make an appointment."
   ]
  },
  {
   "cell_type": "markdown",
   "metadata": {},
   "source": [
    " "
   ]
  }
 ],
 "metadata": {
  "jupytext": {
   "encoding": "# -*- coding: utf-8 -*-",
   "formats": "ipynb,py:percent,md"
  },
  "kernelspec": {
   "display_name": "Python 3",
   "language": "python",
   "name": "python3"
  },
  "language_info": {
   "codemirror_mode": {
    "name": "ipython",
    "version": 3
   },
   "file_extension": ".py",
   "mimetype": "text/x-python",
   "name": "python",
   "nbconvert_exporter": "python",
   "pygments_lexer": "ipython3",
   "version": "3.9.0"
  },
  "toc": {
   "base_numbering": 1,
   "nav_menu": {},
   "number_sections": false,
   "sideBar": true,
   "skip_h1_title": false,
   "title_cell": "Table of Contents",
   "title_sidebar": "Contents",
   "toc_cell": false,
   "toc_position": {},
   "toc_section_display": true,
   "toc_window_display": true
  }
 },
 "nbformat": 4,
 "nbformat_minor": 4
}
